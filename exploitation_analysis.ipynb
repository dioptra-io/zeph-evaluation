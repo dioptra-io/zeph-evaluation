{
 "cells": [
  {
   "cell_type": "markdown",
   "metadata": {},
   "source": [
    "# Exploitation anaysis\n",
    "\n",
    "*Hypothesis*: the exploitation budget of Zeph will be responsible of the most part of nodes and links discoveries. "
   ]
  },
  {
   "cell_type": "code",
   "execution_count": 17,
   "metadata": {},
   "outputs": [],
   "source": [
    "experiment = \"exp1\"\n",
    "sub_experiment = \"zeph_25\"\n",
    "\n",
    "# Directory of the experiment\n",
    "exp_dir = Path(f\"./resources/data/measurements/{experiment}/\")\n",
    "\n",
    "# Directory of the total prefixes and exploitation prefixes pickle files\n",
    "prefixes_dir = exp_dir / \"prefixes\"\n",
    "exploitation_dir = exp_dir / \"exploitation\"\n"
   ]
  },
  {
   "cell_type": "code",
   "execution_count": 40,
   "metadata": {},
   "outputs": [],
   "source": [
    "import pickle\n",
    "from pathlib import Path\n",
    "\n",
    "with (exp_dir / f\"{sub_experiment}.txt\").open(\"r\") as fd:\n",
    "    experiment_uuids = [uuid.strip() for uuid in fd.readlines()]"
   ]
  },
  {
   "cell_type": "code",
   "execution_count": 18,
   "metadata": {},
   "outputs": [],
   "source": [
    "# Get Iris API / database credentials\n",
    "from config.config import * \n",
    "from zeph.drivers import create_auth_header, get_database_url\n",
    "\n",
    "headers = create_auth_header(iris_url, iris_username, iris_password)\n",
    "\n",
    "# Get ChProxy database URL\n",
    "database_url = get_database_url(iris_url, headers) + \"&no_cache=1\""
   ]
  },
  {
   "cell_type": "markdown",
   "metadata": {},
   "source": [
    "## Links"
   ]
  },
  {
   "cell_type": "code",
   "execution_count": 32,
   "metadata": {},
   "outputs": [],
   "source": [
    "import orjson\n",
    "import requests\n",
    "\n",
    "from dataclasses import dataclass\n",
    "from typing import Sequence, Iterator, Iterable\n",
    "\n",
    "from diamond_miner.queries.query import UNIVERSE_SUBSET, LinksQuery, links_table\n",
    "from diamond_miner.typing import IPNetwork\n",
    "\n",
    "@dataclass(frozen=True)\n",
    "class GetLinksPrefixes(LinksQuery):\n",
    "    \"\"\"\n",
    "    Return the links pre-computed in the links table.\n",
    "    This doesn't group replies by probe protocol and probe source address,\n",
    "    in other words, it assumes that the table contains the replies for a\n",
    "    single vantage point and a single protocol.\n",
    "    \"\"\"\n",
    "\n",
    "    def prefix_v4_to_v6(self, prefix):\n",
    "        return \"::ffff:\" + str(prefix.network_address) \n",
    "\n",
    "    def group_elements(self, l, n):\n",
    "        return [l[i:i + n] for i in range(0, len(l), n)]\n",
    "\n",
    "    def execute_iter(\n",
    "        self,\n",
    "        url: str,\n",
    "        measurement_id: str,\n",
    "        prefixes,\n",
    "        n_chunks,\n",
    "        *,\n",
    "        data  = None,\n",
    "        limit  = None,\n",
    "        subsets = (UNIVERSE_SUBSET,),\n",
    "        timeout  = (1, 60),\n",
    "    ) -> Iterator:\n",
    "        prefixes_chunks = self.group_elements(list(prefixes), n_chunks)\n",
    "        for prefixes in prefixes_chunks:\n",
    "            for _, statement in enumerate(self.statements(measurement_id, prefixes)):\n",
    "                    params = {\n",
    "                        \"default_format\": \"JSONEachRow\",\n",
    "                        \"limit\": limit[0] if limit else 0,\n",
    "                        \"offset\": limit[1] if limit else 0,\n",
    "                        \"output_format_json_quote_64bit_integers\": 0,\n",
    "                        \"query\": statement,\n",
    "                    }\n",
    "                    r = requests.post(\n",
    "                        url,\n",
    "                        headers={\"Accept-encoding\": \"gzip\"},\n",
    "                        params=params,\n",
    "                        data=data,\n",
    "                        stream=True,\n",
    "                        timeout=timeout,\n",
    "                    )\n",
    "                    try:\n",
    "                        for line in r.iter_lines(chunk_size=2 ** 20):\n",
    "                            yield orjson.loads(line)\n",
    "                    except orjson.JSONDecodeError as e:\n",
    "                        raise RuntimeError(f\"Invalid database response: {line}\") from e\n",
    "\n",
    "    def statements(\n",
    "        self, measurement_id: str, prefixes: Iterable[IPNetwork]\n",
    "    ) -> Sequence[str]:\n",
    "        # Override this method if you want your query to return multiple statements.\n",
    "        return (self.statement(measurement_id, prefixes),)\n",
    "\n",
    "    def statement(\n",
    "        self, measurement_id: str, prefixes: Iterable[IPNetwork]\n",
    "    ) -> str:\n",
    "        q =  f\"\"\"\n",
    "        SELECT DISTINCT near_addr, far_addr\n",
    "        FROM {links_table(measurement_id)}\n",
    "        WHERE {self.filters(UNIVERSE_SUBSET)}\n",
    "        AND probe_dst_prefix IN [\n",
    "        \"\"\"\n",
    "        q += \",\".join([f\"toIPv6('{self.prefix_v4_to_v6(prefix)}')\" for prefix in prefixes])\n",
    "        q += \"]\"\n",
    "        return q"
   ]
  },
  {
   "cell_type": "code",
   "execution_count": 30,
   "metadata": {},
   "outputs": [],
   "source": [
    "def get_links_exploitation(measurement_id, prefixes, n_chunks):\n",
    "    distinct_links = set()\n",
    "    for link in GetLinksPrefixes().execute_iter(database_url, measurement_id, prefixes, n_chunks):\n",
    "        distinct_links.add((link[\"near_addr\"], link[\"far_addr\"])) \n",
    "    return distinct_links"
   ]
  },
  {
   "cell_type": "code",
   "execution_count": 21,
   "metadata": {},
   "outputs": [],
   "source": [
    "from diamond_miner.queries import GetLinks\n",
    "from zeph.drivers import get_previous_measurement_agents\n",
    "\n",
    "def sanitize_uuid(uuid):\n",
    "    return str(uuid).replace(\"-\", \"_\")\n",
    "\n",
    "def get_links_total(measurement_uuid):\n",
    "    agents_uuid = get_previous_measurement_agents(iris_url, measurement_uuid, headers)\n",
    "    \n",
    "    distinct_links = set()\n",
    "    for agent_uuid in agents_uuid:\n",
    "        measurement_id = sanitize_uuid(measurement_uuid) + \"__\" + sanitize_uuid(agent_uuid)\n",
    "        for link in GetLinks().execute_iter(database_url, measurement_id):\n",
    "            distinct_links.add((link[\"near_addr\"], link[\"far_addr\"])) \n",
    "    return distinct_links"
   ]
  },
  {
   "cell_type": "code",
   "execution_count": 14,
   "metadata": {},
   "outputs": [
    {
     "name": "stdout",
     "output_type": "stream",
     "text": [
      "[1462889, 1717638, 1881807, 2003898, 2056546, 2082815, 2074676, 2056853, 2030392, 2097882]\n"
     ]
    }
   ],
   "source": [
    "total_n_links = []\n",
    "for uuid in experiment_uuids:\n",
    "    total_n_links.append(len(get_links_total(uuid)))\n",
    "\n",
    "print(total_n_links)"
   ]
  },
  {
   "cell_type": "code",
   "execution_count": 33,
   "metadata": {
    "tags": []
   },
   "outputs": [
    {
     "name": "stdout",
     "output_type": "stream",
     "text": [
      "[None, 1278962, 1560546, 1748593, 1862593, 1878883, 1868577, 1835564, 1815689, 1902539]\n"
     ]
    }
   ],
   "source": [
    "exploitation_n_links = [None]\n",
    "for uuid in experiment_uuids[1:]:\n",
    "    # Get exploitation prefixes \n",
    "    with (exploitation_dir / f\"exploitation_{uuid}.pickle\").open(\"rb\") as fd:\n",
    "        exploitation_prefixes = pickle.load(fd)\n",
    "    \n",
    "    cycle_n_links = set()\n",
    "    for agent_uuid in exploitation_prefixes.keys():\n",
    "        cycle_n_links.update(get_links_exploitation(f\"{uuid}__{agent_uuid}\", exploitation_prefixes[agent_uuid], 5000))\n",
    "    exploitation_n_links.append(len(cycle_n_links))\n",
    "\n",
    "print(exploitation_n_links)"
   ]
  },
  {
   "cell_type": "code",
   "execution_count": 35,
   "metadata": {},
   "outputs": [
    {
     "data": {
      "image/png": "[encoded data removed]",
      "text/plain": [
       "<Figure size 432x288 with 1 Axes>"
      ]
     },
     "metadata": {
      "needs_background": "light"
     },
     "output_type": "display_data"
    }
   ],
   "source": [
    "import matplotlib.pyplot as plt\n",
    "import matplotlib.ticker as ticker\n",
    "import pandas as pd\n",
    "import seaborn as sns\n",
    "\n",
    "data = pd.DataFrame({\n",
    "    \"total\": total_n_links,\n",
    "    \"exploitation\": exploitation_n_links,\n",
    "})\n",
    "\n",
    "ax = sns.lineplot(data=data)\n",
    "\n",
    "ax.set(xlabel=\"Cycles\", ylabel=\"Number of distinct links\")\n",
    "ax.set(ylim=(0, 2_500_000))\n",
    "\n",
    "ax.xaxis.set_major_locator(ticker.MultipleLocator(1))\n",
    "ax.xaxis.set_major_formatter(ticker.ScalarFormatter())\n",
    "ax.grid()\n",
    "\n",
    "plt.tight_layout()\n",
    "plt.savefig(\"./resources/figures/exploitation_vs_total_links.pdf\")\n",
    "plt.show()"
   ]
  },
  {
   "cell_type": "markdown",
   "metadata": {},
   "source": [
    "## Nodes"
   ]
  },
  {
   "cell_type": "code",
   "execution_count": 54,
   "metadata": {},
   "outputs": [],
   "source": [
    "from dataclasses import dataclass\n",
    "from typing import Iterable, Iterator, Sequence\n",
    "\n",
    "from diamond_miner.queries.query import UNIVERSE_SUBSET, ResultsQuery, results_table\n",
    "from diamond_miner.typing import IPNetwork\n",
    "\n",
    "@dataclass(frozen=True)\n",
    "class GetNodesPrefixes(ResultsQuery):\n",
    "    def prefix_v4_to_v6(self, prefix):\n",
    "        return \"::ffff:\" + str(prefix.network_address) \n",
    "\n",
    "    def group_elements(self, l, n):\n",
    "        return [l[i:i + n] for i in range(0, len(l), n)]\n",
    "\n",
    "    def execute_iter(\n",
    "        self,\n",
    "        url: str,\n",
    "        measurement_id: str,\n",
    "        prefixes,\n",
    "        n_chunks,\n",
    "        *,\n",
    "        data  = None,\n",
    "        limit  = None,\n",
    "        subsets = (UNIVERSE_SUBSET,),\n",
    "        timeout  = (1, 60),\n",
    "    ) -> Iterator:\n",
    "        prefixes_chunks = self.group_elements(list(prefixes), n_chunks)\n",
    "        for prefixes in prefixes_chunks:\n",
    "            for _, statement in enumerate(self.statements(measurement_id, prefixes)):\n",
    "                    params = {\n",
    "                        \"default_format\": \"JSONEachRow\",\n",
    "                        \"limit\": limit[0] if limit else 0,\n",
    "                        \"offset\": limit[1] if limit else 0,\n",
    "                        \"output_format_json_quote_64bit_integers\": 0,\n",
    "                        \"query\": statement,\n",
    "                    }\n",
    "                    r = requests.post(\n",
    "                        url,\n",
    "                        headers={\"Accept-encoding\": \"gzip\"},\n",
    "                        params=params,\n",
    "                        data=data,\n",
    "                        stream=True,\n",
    "                        timeout=timeout,\n",
    "                    )\n",
    "                    try:\n",
    "                        for line in r.iter_lines(chunk_size=2 ** 20):\n",
    "                            yield orjson.loads(line)\n",
    "                    except orjson.JSONDecodeError as e:\n",
    "                        raise RuntimeError(f\"Invalid database response: {line}\") from e\n",
    "\n",
    "    def statements(\n",
    "        self, measurement_id: str, prefixes: Iterable[IPNetwork]\n",
    "    ) -> Sequence[str]:\n",
    "        # Override this method if you want your query to return multiple statements.\n",
    "        return (self.statement(measurement_id, prefixes),)\n",
    "\n",
    "    def statement(\n",
    "            self, measurement_id: str, prefixes: Iterable[IPNetwork]\n",
    "        ) -> str:\n",
    "            q = f\"\"\"\n",
    "            SELECT reply_src_addr\n",
    "            FROM {results_table(measurement_id)}\n",
    "            WHERE {self.filters(UNIVERSE_SUBSET)}\n",
    "            AND probe_dst_prefix IN [\n",
    "            \"\"\"\n",
    "            q += \",\".join([f\"toIPv6('{self.prefix_v4_to_v6(prefix)}')\" for prefix in prefixes])\n",
    "            q += \"]\"\n",
    "            return q"
   ]
  },
  {
   "cell_type": "code",
   "execution_count": 52,
   "metadata": {},
   "outputs": [],
   "source": [
    "def get_nodes_exploitation(measurement_id, prefixes, n_chunks):\n",
    "    distinct_nodes = set()\n",
    "    for node in GetNodesPrefixes().execute_iter(database_url, measurement_id, prefixes, n_chunks):\n",
    "        distinct_nodes.add(node[\"reply_src_addr\"]) \n",
    "    return distinct_nodes"
   ]
  },
  {
   "cell_type": "code",
   "execution_count": 39,
   "metadata": {},
   "outputs": [],
   "source": [
    "from diamond_miner.queries import GetNodes\n",
    "\n",
    "def get_nodes_total(measurement_uuid):\n",
    "    agents_uuid = get_previous_measurement_agents(iris_url, measurement_uuid, headers)\n",
    "    \n",
    "    distinct_nodes = set()\n",
    "    for agent_uuid in agents_uuid:\n",
    "        measurement_id = sanitize_uuid(measurement_uuid) + \"__\" + sanitize_uuid(agent_uuid)\n",
    "        for node in GetNodes().execute_iter(database_url, measurement_id):\n",
    "            distinct_nodes.add(node[\"reply_src_addr\"]) \n",
    "    return distinct_nodes"
   ]
  },
  {
   "cell_type": "code",
   "execution_count": 41,
   "metadata": {},
   "outputs": [
    {
     "name": "stdout",
     "output_type": "stream",
     "text": [
      "[739755, 839275, 877413, 903131, 916350, 920832, 919425, 919637, 914434, 921358]\n"
     ]
    }
   ],
   "source": [
    "total_n_nodes = []\n",
    "for uuid in experiment_uuids:\n",
    "    total_n_nodes.append(len(get_nodes_total(uuid)))\n",
    "\n",
    "print(total_n_nodes)"
   ]
  },
  {
   "cell_type": "code",
   "execution_count": 55,
   "metadata": {},
   "outputs": [
    {
     "name": "stdout",
     "output_type": "stream",
     "text": [
      "[None, 688713, 793993, 843963, 868476, 877259, 876527, 871520, 869851, 881423]\n"
     ]
    }
   ],
   "source": [
    "exploitation_n_nodes = [None]\n",
    "for uuid in experiment_uuids[1:]:\n",
    "    uuid = uuid.strip()\n",
    "    # Get exploitation prefixes \n",
    "    with (exploitation_dir / f\"exploitation_{uuid}.pickle\").open(\"rb\") as fd:\n",
    "        exploitation_prefixes = pickle.load(fd)\n",
    "    \n",
    "    cycle_n_nodes = set()\n",
    "    for agent_uuid in exploitation_prefixes.keys():\n",
    "        cycle_n_nodes.update(get_nodes_exploitation(f\"{uuid}__{agent_uuid}\", exploitation_prefixes[agent_uuid], 5000))\n",
    "    exploitation_n_nodes.append(len(cycle_n_nodes))\n",
    "\n",
    "print(exploitation_n_nodes)"
   ]
  },
  {
   "cell_type": "code",
   "execution_count": 56,
   "metadata": {},
   "outputs": [
    {
     "data": {
      "image/png": "[encoded data removed]",
      "text/plain": [
       "<Figure size 432x288 with 1 Axes>"
      ]
     },
     "metadata": {
      "needs_background": "light"
     },
     "output_type": "display_data"
    }
   ],
   "source": [
    "import matplotlib.pyplot as plt\n",
    "import matplotlib.ticker as ticker\n",
    "import pandas as pd\n",
    "import seaborn as sns\n",
    "\n",
    "data = pd.DataFrame({\n",
    "    \"total\": total_n_nodes,\n",
    "    \"exploitation\": exploitation_n_nodes,\n",
    "})\n",
    "\n",
    "ax = sns.lineplot(data=data)\n",
    "\n",
    "ax.set(xlabel=\"Cycles\", ylabel=\"Number of distinct nodes\")\n",
    "ax.set(ylim=(0, 1_200_000))\n",
    "\n",
    "ax.xaxis.set_major_locator(ticker.MultipleLocator(1))\n",
    "ax.xaxis.set_major_formatter(ticker.ScalarFormatter())\n",
    "ax.grid()\n",
    "\n",
    "plt.tight_layout()\n",
    "plt.savefig(\"./resources/figures/exploitation_vs_total_nodes.pdf\")\n",
    "plt.show()"
   ]
  },
  {
   "cell_type": "markdown",
   "metadata": {},
   "source": [
    "## Budget"
   ]
  },
  {
   "cell_type": "code",
   "execution_count": 58,
   "metadata": {},
   "outputs": [
    {
     "name": "stdout",
     "output_type": "stream",
     "text": [
      "[0, 0.08581165446929756, 0.0968299158143458, 0.10007505006808765, 0.1050172882258252, 0.10687535877210727, 0.10713101811441406, 0.10743978075801804, 0.1060303236741821, 0.10428446317617397]\n"
     ]
    }
   ],
   "source": [
    "exploitation_prefixes_ratio = [0]\n",
    "for uuid in experiment_uuids[1:]:\n",
    "    # Get total prefixes \n",
    "    with (prefixes_dir / f\"prefixes_{uuid}.pickle\").open(\"rb\") as fd:\n",
    "        total_prefixes = pickle.load(fd)\n",
    "    total_n_prefixes = len(set.union(*[set(s) for s in total_prefixes.values()]))\n",
    "\n",
    "    # Get exploitation prefixes \n",
    "    with (exploitation_dir / f\"exploitation_{uuid}.pickle\").open(\"rb\") as fd:\n",
    "        exploitation_prefixes = pickle.load(fd)\n",
    "    exploitation_n_prefixes = len(set.union(*exploitation_prefixes.values()))\n",
    "\n",
    "    exploitation_prefixes_ratio.append(exploitation_n_prefixes / total_n_prefixes)\n",
    "\n",
    "print(exploitation_prefixes_ratio)"
   ]
  },
  {
   "cell_type": "code",
   "execution_count": 59,
   "metadata": {},
   "outputs": [
    {
     "data": {
      "image/png": "[encoded data removed]",
      "text/plain": [
       "<Figure size 432x288 with 1 Axes>"
      ]
     },
     "metadata": {
      "needs_background": "light"
     },
     "output_type": "display_data"
    }
   ],
   "source": [
    "import matplotlib.pyplot as plt\n",
    "import matplotlib.ticker as ticker\n",
    "import pandas as pd\n",
    "import seaborn as sns\n",
    "\n",
    "\n",
    "ax = sns.barplot(x=list(range(len(exploitation_prefixes_ratio))), y=exploitation_prefixes_ratio, palette=\"Blues_d\")\n",
    "\n",
    "ax.set(xlabel=\"Cycles\", ylabel=\"Exploitation budget ratio\")\n",
    "ax.set(ylim=(0, 1))\n",
    "\n",
    "ax.xaxis.set_major_locator(ticker.MultipleLocator(1))\n",
    "ax.xaxis.set_major_formatter(ticker.ScalarFormatter())\n",
    "ax.grid()\n",
    "\n",
    "plt.tight_layout()\n",
    "plt.savefig(\"./resources/figures/exploitation_fraction_budget.pdf\")\n",
    "plt.show()"
   ]
  }
 ],
 "metadata": {
  "interpreter": {
   "hash": "772e1080b1fbf5200c669858b2c09332e229694cf709b93af0edeea0c9b8a739"
  },
  "kernelspec": {
   "display_name": "Python 3.8.10 64-bit ('zeph-0GddO7IA-py3.8': venv)",
   "name": "python3"
  },
  "language_info": {
   "codemirror_mode": {
    "name": "ipython",
    "version": 3
   },
   "file_extension": ".py",
   "mimetype": "text/x-python",
   "name": "python",
   "nbconvert_exporter": "python",
   "pygments_lexer": "ipython3",
   "version": "3.9.9"
  },
  "orig_nbformat": 4
 },
 "nbformat": 4,
 "nbformat_minor": 2
}
