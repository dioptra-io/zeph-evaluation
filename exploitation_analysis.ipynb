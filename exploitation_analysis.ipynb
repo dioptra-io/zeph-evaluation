{
 "cells": [
  {
   "cell_type": "markdown",
   "metadata": {},
   "source": [
    "# Exploitation anaysis\n",
    "\n",
    "*Hypothesis*: the exploitation budget of Zeph will be responsible of the most part of nodes and links discoveries. "
   ]
  },
  {
   "cell_type": "code",
   "execution_count": 26,
   "metadata": {},
   "outputs": [],
   "source": [
    "experiment = \"exp1\"\n",
    "sub_experiment = \"zeph_25\""
   ]
  },
  {
   "cell_type": "markdown",
   "metadata": {},
   "source": [
    "## Links"
   ]
  },
  {
   "cell_type": "code",
   "execution_count": 27,
   "metadata": {},
   "outputs": [],
   "source": [
    "from dataclasses import dataclass\n",
    "from typing import Iterable, Iterator, Sequence\n",
    "\n",
    "from diamond_miner.queries.query import UNIVERSE_SUBSET, CH_QUERY_SETTINGS, LinksQuery, links_table\n",
    "from diamond_miner.typing import IPNetwork\n",
    "\n",
    "@dataclass(frozen=True)\n",
    "class GetLinksPrefixes(LinksQuery):\n",
    "    \"\"\"\n",
    "    Return the links pre-computed in the links table.\n",
    "    This doesn't group replies by probe protocol and probe source address,\n",
    "    in other words, it assumes that the table contains the replies for a\n",
    "    single vantage point and a single protocol.\n",
    "    \"\"\"\n",
    "\n",
    "    def prefix_v4_to_v6(self, prefix):\n",
    "        return \"::ffff:\" + str(prefix.network_address) \n",
    "\n",
    "    def group_elements(self, l, n):\n",
    "        return [l[i:i + n] for i in range(0, len(l), n)]\n",
    "\n",
    "    def execute_iter(\n",
    "        self,\n",
    "        url: str,\n",
    "        measurement_id: str,\n",
    "        prefixes: Iterable[IPNetwork],\n",
    "        n_chunks: int\n",
    "    ) -> Iterator:\n",
    "        client = Client.from_url(url)\n",
    "        prefixes_chunks = self.group_elements(list(prefixes), n_chunks)\n",
    "        for prefixes in prefixes_chunks:\n",
    "            for i, statement in enumerate(self.statements(measurement_id, prefixes)):\n",
    "                rows = client.execute_iter(statement, settings=CH_QUERY_SETTINGS)\n",
    "                for row in rows:\n",
    "                    yield row\n",
    "\n",
    "    def statements(\n",
    "        self, measurement_id: str, prefixes: Iterable[IPNetwork]\n",
    "    ) -> Sequence[str]:\n",
    "        # Override this method if you want your query to return multiple statements.\n",
    "        return (self.statement(measurement_id, prefixes),)\n",
    "\n",
    "    def statement(\n",
    "        self, measurement_id: str, prefixes: Iterable[IPNetwork]\n",
    "    ) -> str:\n",
    "        q =  f\"\"\"\n",
    "        SELECT DISTINCT ({self.addr_cast('near_addr')}, {self.addr_cast('far_addr')})\n",
    "        FROM {links_table(measurement_id)}\n",
    "        WHERE {self.filters(UNIVERSE_SUBSET)}\n",
    "        AND probe_dst_prefix IN [\n",
    "        \"\"\"\n",
    "        q += \",\".join([f\"toIPv6('{self.prefix_v4_to_v6(prefix)}')\" for prefix in prefixes])\n",
    "        q += \"]\"\n",
    "        return q"
   ]
  },
  {
   "cell_type": "code",
   "execution_count": 28,
   "metadata": {},
   "outputs": [],
   "source": [
    "from clickhouse_driver import Client\n",
    "from diamond_miner.queries import AddrType, GetLinks\n",
    "\n",
    "database_name = \"iris\"\n",
    "database_url = f\"clickhouse://localhost/{database_name}\"\n",
    "\n",
    "def get_links_exploitation(measurement_id, prefixes, n_chunks):\n",
    "    agent = measurement_id.split(\"__\")[1].replace(\"_\", \"-\")\n",
    "\n",
    "    distinct_links = set()\n",
    "    for link in GetLinksPrefixes(\n",
    "        addr_type=AddrType.FixedString\n",
    "    ).execute_iter(database_url, measurement_id, prefixes, n_chunks):\n",
    "        distinct_links.add(link) \n",
    "    return distinct_links"
   ]
  },
  {
   "cell_type": "code",
   "execution_count": 29,
   "metadata": {},
   "outputs": [],
   "source": [
    "from clickhouse_driver import Client\n",
    "from diamond_miner.queries import AddrType, GetLinks\n",
    "\n",
    "database_name = \"iris\"\n",
    "database_url = f\"clickhouse://localhost/{database_name}\"\n",
    "\n",
    "def get_links_total(measurement_uuid):\n",
    "    tables = Client.from_url(database_url).execute_iter(\n",
    "        f\"SHOW TABLES FROM {database_name} LIKE \"\n",
    "        f\"'results__{measurement_uuid.replace('-', '_')}%'\"\n",
    "    )\n",
    "    tables = [table[0] for table in tables]\n",
    "    measurement_ids = [\"__\".join(table.split(\"__\")[1:]) for table in tables]\n",
    "\n",
    "    distinct_links = set()\n",
    "    for measurement_id in measurement_ids:\n",
    "        for link in GetLinks(\n",
    "            addr_type=AddrType.FixedString\n",
    "        ).execute_iter(database_url, measurement_id):\n",
    "            distinct_links.add(link) \n",
    "    return distinct_links"
   ]
  },
  {
   "cell_type": "code",
   "execution_count": 30,
   "metadata": {},
   "outputs": [],
   "source": [
    "import pickle\n",
    "from pathlib import Path\n",
    "\n",
    "with Path(f\"./resources/data/measurements/{experiment}/{sub_experiment}.txt\").open(\"r\") as fd:\n",
    "    adaptive_uuids = fd.readlines()\n",
    "\n"
   ]
  },
  {
   "cell_type": "code",
   "execution_count": 31,
   "metadata": {},
   "outputs": [
    {
     "name": "stdout",
     "output_type": "stream",
     "text": [
      "[31966, 43756, 50352, 55753, 59497, 62591, 63587, 65781, 68351, 68579, 69382, 70745, 71169, 71194, 70624, 72081, 72630, 72733, 72361, 73401]\n"
     ]
    }
   ],
   "source": [
    "total_n_links = []\n",
    "for uuid in adaptive_uuids:\n",
    "    total_n_links.append(len(get_links_total(uuid.strip())))\n",
    "\n",
    "print(total_n_links)"
   ]
  },
  {
   "cell_type": "code",
   "execution_count": 32,
   "metadata": {
    "tags": []
   },
   "outputs": [
    {
     "name": "stdout",
     "output_type": "stream",
     "text": [
      "[None, 31046, 42449, 49575, 54783, 58603, 61066, 62489, 65069, 66720, 67687, 68791, 69615, 69666, 69941, 70483, 70707, 71727, 71146, 71962]\n"
     ]
    }
   ],
   "source": [
    "exploitation_n_links = [None]\n",
    "for uuid in adaptive_uuids[1:]:\n",
    "    uuid = uuid.strip()\n",
    "    # Get exploitation prefixes \n",
    "    with Path(f\"./resources/data/measurements/{experiment}/exploitation_{uuid}.pickle\").open(\"rb\") as fd:\n",
    "        exploitation_prefixes = pickle.load(fd)\n",
    "    \n",
    "    cycle_n_links = set()\n",
    "    for agent_uuid in exploitation_prefixes.keys():\n",
    "        cycle_n_links.update(get_links_exploitation(f\"{uuid}__{agent_uuid}\", exploitation_prefixes[agent_uuid], 5000))\n",
    "    exploitation_n_links.append(len(cycle_n_links))\n",
    "\n",
    "print(exploitation_n_links)"
   ]
  },
  {
   "cell_type": "code",
   "execution_count": 33,
   "metadata": {},
   "outputs": [
    {
     "data": {
      "image/png": "[encoded data removed]",
      "text/plain": [
       "<Figure size 432x288 with 1 Axes>"
      ]
     },
     "metadata": {
      "needs_background": "light"
     },
     "output_type": "display_data"
    }
   ],
   "source": [
    "import matplotlib.pyplot as plt\n",
    "import matplotlib.ticker as ticker\n",
    "import pandas as pd\n",
    "import seaborn as sns\n",
    "\n",
    "data = pd.DataFrame({\n",
    "    \"total\": total_n_links,\n",
    "    \"exploitation\": exploitation_n_links,\n",
    "})\n",
    "\n",
    "ax = sns.lineplot(data=data)\n",
    "\n",
    "ax.set(xlabel=\"Cycles\", ylabel=\"Number of distinct links\")\n",
    "ax.set(ylim=(0, 80_000))\n",
    "\n",
    "ax.xaxis.set_major_locator(ticker.MultipleLocator(1))\n",
    "ax.xaxis.set_major_formatter(ticker.ScalarFormatter())\n",
    "ax.grid()\n",
    "\n",
    "plt.tight_layout()\n",
    "plt.savefig(\"./resources/figures/exploitation_vs_total_links.pdf\")\n",
    "plt.show()"
   ]
  },
  {
   "cell_type": "markdown",
   "metadata": {},
   "source": [
    "## Nodes"
   ]
  },
  {
   "cell_type": "code",
   "execution_count": 34,
   "metadata": {},
   "outputs": [],
   "source": [
    "from dataclasses import dataclass\n",
    "from typing import Iterable, Iterator, Sequence\n",
    "\n",
    "from diamond_miner.queries.query import UNIVERSE_SUBSET, CH_QUERY_SETTINGS, LinksQuery, links_table\n",
    "from diamond_miner.typing import IPNetwork\n",
    "\n",
    "@dataclass(frozen=True)\n",
    "class GetNodesPrefixes(LinksQuery):\n",
    "    def prefix_v4_to_v6(self, prefix):\n",
    "        return \"::ffff:\" + str(prefix.network_address) \n",
    "\n",
    "    def group_elements(self, l, n):\n",
    "        return [l[i:i + n] for i in range(0, len(l), n)]\n",
    "\n",
    "    def execute_iter(\n",
    "        self,\n",
    "        url: str,\n",
    "        measurement_id: str,\n",
    "        prefixes: Iterable[IPNetwork],\n",
    "        n_chunks: int\n",
    "    ) -> Iterator:\n",
    "        client = Client.from_url(url)\n",
    "        prefixes_chunks = self.group_elements(list(prefixes), n_chunks)\n",
    "        for prefixes in prefixes_chunks:\n",
    "            for i, statement in enumerate(self.statements(measurement_id, prefixes)):\n",
    "                rows = client.execute_iter(statement, settings=CH_QUERY_SETTINGS)\n",
    "                for row in rows:\n",
    "                    yield row\n",
    "\n",
    "    def statements(\n",
    "        self, measurement_id: str, prefixes: Iterable[IPNetwork]\n",
    "    ) -> Sequence[str]:\n",
    "        # Override this method if you want your query to return multiple statements.\n",
    "        return (self.statement(measurement_id, prefixes),)\n",
    "\n",
    "    def statement(\n",
    "            self, measurement_id: str, prefixes: Iterable[IPNetwork]\n",
    "        ) -> str:\n",
    "            q = f\"\"\"\n",
    "            SELECT\n",
    "                arrayJoin(\n",
    "                    arrayDistinct(\n",
    "                        arrayConcat(\n",
    "                            groupUniqArray({self.addr_cast('near_addr')}),\n",
    "                            groupUniqArray({self.addr_cast('far_addr')})\n",
    "                        )\n",
    "                    )\n",
    "                )\n",
    "            FROM {links_table(measurement_id)}\n",
    "            WHERE {self.filters(UNIVERSE_SUBSET)}\n",
    "            AND probe_dst_prefix IN [\n",
    "            \"\"\"\n",
    "            q += \",\".join([f\"toIPv6('{self.prefix_v4_to_v6(prefix)}')\" for prefix in prefixes])\n",
    "            q += \"]\"\n",
    "            return q"
   ]
  },
  {
   "cell_type": "code",
   "execution_count": 35,
   "metadata": {},
   "outputs": [],
   "source": [
    "from clickhouse_driver import Client\n",
    "from diamond_miner.queries import AddrType, GetLinks\n",
    "\n",
    "database_name = \"iris\"\n",
    "database_url = f\"clickhouse://localhost/{database_name}\"\n",
    "\n",
    "def get_nodes_exploitation(measurement_id, prefixes, n_chunks):\n",
    "    agent = measurement_id.split(\"__\")[1].replace(\"_\", \"-\")\n",
    "\n",
    "    distinct_nodes = set()\n",
    "    for link in GetNodesPrefixes(\n",
    "        addr_type=AddrType.FixedString\n",
    "    ).execute_iter(database_url, measurement_id, prefixes, n_chunks):\n",
    "        distinct_nodes.add(link) \n",
    "    return distinct_nodes"
   ]
  },
  {
   "cell_type": "code",
   "execution_count": 36,
   "metadata": {},
   "outputs": [],
   "source": [
    "from clickhouse_driver import Client\n",
    "from diamond_miner.queries import AddrType, GetNodes\n",
    "\n",
    "database_name = \"iris\"\n",
    "database_url = f\"clickhouse://localhost/{database_name}\"\n",
    "\n",
    "def get_nodes_total(measurement_uuid):\n",
    "    tables = Client.from_url(database_url).execute_iter(\n",
    "        f\"SHOW TABLES FROM {database_name} LIKE \"\n",
    "        f\"'results__{measurement_uuid.replace('-', '_')}%'\"\n",
    "    )\n",
    "    tables = [table[0] for table in tables]\n",
    "    measurement_ids = [\"__\".join(table.split(\"__\")[1:]) for table in tables]\n",
    "\n",
    "    distinct_nodes = set()\n",
    "    for measurement_id in measurement_ids:\n",
    "        for node in GetNodes(\n",
    "            addr_type=AddrType.FixedString\n",
    "        ).execute_iter(database_url, measurement_id):\n",
    "            distinct_nodes.add(node) \n",
    "    return distinct_nodes"
   ]
  },
  {
   "cell_type": "code",
   "execution_count": 37,
   "metadata": {},
   "outputs": [],
   "source": [
    "import pickle\n",
    "from pathlib import Path\n",
    "\n",
    "with Path(f\"./resources/data/measurements/{experiment}/{sub_experiment}.txt\").open(\"r\") as fd:\n",
    "    adaptive_uuids = fd.readlines()"
   ]
  },
  {
   "cell_type": "code",
   "execution_count": 38,
   "metadata": {},
   "outputs": [
    {
     "name": "stdout",
     "output_type": "stream",
     "text": [
      "[21432, 28412, 32598, 35417, 37476, 39260, 40053, 40959, 41999, 42357, 42825, 43523, 43766, 43891, 43872, 44295, 44344, 44636, 44646, 45019]\n"
     ]
    }
   ],
   "source": [
    "total_n_nodes = []\n",
    "for uuid in adaptive_uuids:\n",
    "    total_n_nodes.append(len(get_nodes_total(uuid.strip())))\n",
    "\n",
    "print(total_n_nodes)"
   ]
  },
  {
   "cell_type": "code",
   "execution_count": 39,
   "metadata": {},
   "outputs": [
    {
     "name": "stdout",
     "output_type": "stream",
     "text": [
      "[None, 21176, 28067, 32407, 35241, 37212, 38887, 39751, 40813, 41606, 42187, 42811, 43272, 43409, 43579, 43821, 43930, 44264, 44371, 44575]\n"
     ]
    }
   ],
   "source": [
    "exploitation_n_nodes = [None]\n",
    "for uuid in adaptive_uuids[1:]:\n",
    "    uuid = uuid.strip()\n",
    "    # Get exploitation prefixes \n",
    "    with Path(f\"./resources/data/measurements/{experiment}/exploitation_{uuid}.pickle\").open(\"rb\") as fd:\n",
    "        exploitation_prefixes = pickle.load(fd)\n",
    "    \n",
    "    cycle_n_nodes = set()\n",
    "    for agent_uuid in exploitation_prefixes.keys():\n",
    "        cycle_n_nodes.update(get_nodes_exploitation(f\"{uuid}__{agent_uuid}\", exploitation_prefixes[agent_uuid], 5000))\n",
    "    exploitation_n_nodes.append(len(cycle_n_nodes))\n",
    "\n",
    "print(exploitation_n_nodes)"
   ]
  },
  {
   "cell_type": "code",
   "execution_count": 40,
   "metadata": {},
   "outputs": [
    {
     "data": {
      "image/png": "[encoded data removed]",
      "text/plain": [
       "<Figure size 432x288 with 1 Axes>"
      ]
     },
     "metadata": {
      "needs_background": "light"
     },
     "output_type": "display_data"
    }
   ],
   "source": [
    "import matplotlib.pyplot as plt\n",
    "import matplotlib.ticker as ticker\n",
    "import pandas as pd\n",
    "import seaborn as sns\n",
    "\n",
    "data = pd.DataFrame({\n",
    "    \"total\": total_n_nodes,\n",
    "    \"exploitation\": exploitation_n_nodes,\n",
    "})\n",
    "\n",
    "ax = sns.lineplot(data=data)\n",
    "\n",
    "ax.set(xlabel=\"Cycles\", ylabel=\"Number of distinct nodes\")\n",
    "ax.set(ylim=(0, 50_000))\n",
    "\n",
    "ax.xaxis.set_major_locator(ticker.MultipleLocator(1))\n",
    "ax.xaxis.set_major_formatter(ticker.ScalarFormatter())\n",
    "ax.grid()\n",
    "\n",
    "plt.tight_layout()\n",
    "plt.savefig(\"./resources/figures/exploitation_vs_total_nodes.pdf\")\n",
    "plt.show()"
   ]
  },
  {
   "cell_type": "markdown",
   "metadata": {},
   "source": [
    "## Budget"
   ]
  },
  {
   "cell_type": "code",
   "execution_count": 41,
   "metadata": {},
   "outputs": [],
   "source": [
    "total_n_prefixes = []\n",
    "for uuid in adaptive_uuids:\n",
    "    uuid = uuid.strip()"
   ]
  },
  {
   "cell_type": "code",
   "execution_count": 42,
   "metadata": {},
   "outputs": [
    {
     "name": "stdout",
     "output_type": "stream",
     "text": [
      "[0, 0.2628442395884256, 0.3471938195864576, 0.41227166276346605, 0.44255524196324086, 0.46629976899035197, 0.5067043543262941, 0.5189724251708697, 0.5578171523405087, 0.5465433278188131, 0.5666964005882494, 0.5720357401593817, 0.5694689632138938, 0.5755714936793879, 0.6106835327287967, 0.5565378482318731, 0.6043432469030543, 0.6047210833643931, 0.5776511103194395, 0.585102295648833]\n"
     ]
    }
   ],
   "source": [
    "exploitation_prefixes_ratio = [0]\n",
    "for uuid in adaptive_uuids[1:]:\n",
    "    uuid = uuid.strip()\n",
    "\n",
    "    # Get total prefixes \n",
    "    with Path(f\"./resources/data/measurements/{experiment}/prefixes_{uuid}.pickle\").open(\"rb\") as fd:\n",
    "        total_prefixes = pickle.load(fd)\n",
    "    total_n_prefixes = len(set.union(*[set(s) for s in total_prefixes.values()]))\n",
    "\n",
    "    # Get exploitation prefixes \n",
    "    with Path(f\"./resources/data/measurements/{experiment}/exploitation_{uuid}.pickle\").open(\"rb\") as fd:\n",
    "        exploitation_prefixes = pickle.load(fd)\n",
    "    exploitation_n_prefixes = len(set.union(*exploitation_prefixes.values()))\n",
    "\n",
    "    exploitation_prefixes_ratio.append(exploitation_n_prefixes / total_n_prefixes)\n",
    "\n",
    "print(exploitation_prefixes_ratio)"
   ]
  },
  {
   "cell_type": "code",
   "execution_count": 43,
   "metadata": {},
   "outputs": [
    {
     "data": {
      "image/png": "[encoded data removed]",
      "text/plain": [
       "<Figure size 432x288 with 1 Axes>"
      ]
     },
     "metadata": {
      "needs_background": "light"
     },
     "output_type": "display_data"
    }
   ],
   "source": [
    "import matplotlib.pyplot as plt\n",
    "import matplotlib.ticker as ticker\n",
    "import pandas as pd\n",
    "import seaborn as sns\n",
    "\n",
    "\n",
    "ax = sns.barplot(x=list(range(len(exploitation_prefixes_ratio))), y=exploitation_prefixes_ratio, palette=\"Blues_d\")\n",
    "\n",
    "ax.set(xlabel=\"Cycles\", ylabel=\"Exploitation budget ratio\")\n",
    "ax.set(ylim=(0, 1))\n",
    "\n",
    "ax.xaxis.set_major_locator(ticker.MultipleLocator(1))\n",
    "ax.xaxis.set_major_formatter(ticker.ScalarFormatter())\n",
    "ax.grid()\n",
    "\n",
    "plt.tight_layout()\n",
    "plt.savefig(\"./resources/figures/exploitation_fraction_budget.pdf\")\n",
    "plt.show()"
   ]
  }
 ],
 "metadata": {
  "interpreter": {
   "hash": "772e1080b1fbf5200c669858b2c09332e229694cf709b93af0edeea0c9b8a739"
  },
  "kernelspec": {
   "display_name": "Python 3.8.10 64-bit ('zeph-0GddO7IA-py3.8': venv)",
   "name": "python3"
  },
  "language_info": {
   "codemirror_mode": {
    "name": "ipython",
    "version": 3
   },
   "file_extension": ".py",
   "mimetype": "text/x-python",
   "name": "python",
   "nbconvert_exporter": "python",
   "pygments_lexer": "ipython3",
   "version": "3.8.10"
  },
  "orig_nbformat": 4
 },
 "nbformat": 4,
 "nbformat_minor": 2
}
