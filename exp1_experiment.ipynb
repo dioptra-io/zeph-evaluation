{
 "cells": [
  {
   "cell_type": "markdown",
   "metadata": {},
   "source": [
    "# Experiment 1\n",
    "\n",
    "Hypothesis: Zeph will be able to see almost the same as complete discovery\n",
    "(= full IPv4 Diamond-Miner snapshot) but with a much-reduced probing budget.\n",
    "\n",
    "* Exhaustive cycles (will be used as ground truth)\n",
    "* Zeph “exhaustive” cycles at 200 kpps (compression of full snapshot + epsilon% random)\n",
    "* Zeph “constrained” cycles at 20 kpps (not enough budget to do every /24 in a day)"
   ]
  },
  {
   "cell_type": "code",
   "execution_count": 3,
   "metadata": {},
   "outputs": [],
   "source": [
    "import logging\n",
    "from pathlib import Path\n",
    "\n",
    "logger = logging.getLogger(__name__)\n",
    "logger.setLevel(logging.INFO)\n",
    "script_formatter = logging.Formatter(\n",
    "    \"%(asctime)s :: SCRIPT :: %(levelname)s :: %(message)s\"\n",
    ")\n",
    "stream_handler = logging.StreamHandler()\n",
    "stream_handler.setLevel(logging.INFO)\n",
    "stream_handler.setFormatter(script_formatter)\n",
    "logger.addHandler(stream_handler)\n",
    "\n",
    "# Directory for the experiment\n",
    "pilot_dir = Path(\"./resources/data/measurements/exp1/\")\n",
    "pilot_dir.mkdir(parents=True, exist_ok=True)\n",
    "\n",
    "file_handler = logging.FileHandler(pilot_dir / \"log.txt\")\n",
    "file_handler.setLevel(logging.INFO)\n",
    "file_handler.setFormatter(script_formatter)\n",
    "logger.addHandler(file_handler)"
   ]
  },
  {
   "cell_type": "markdown",
   "metadata": {},
   "source": [
    "## Configuration\n",
    "\n",
    "In this section:\n",
    "\n",
    "* we get the configuration of the Iris API and database\n",
    "* we get the configuration of the experiment itself"
   ]
  },
  {
   "cell_type": "code",
   "execution_count": 4,
   "metadata": {},
   "outputs": [],
   "source": [
    "# Get API/database credentials from config.py\n",
    "from config.config import *"
   ]
  },
  {
   "cell_type": "code",
   "execution_count": 6,
   "metadata": {},
   "outputs": [],
   "source": [
    "# Experiment parameters\n",
    "tool = \"yarrp\"\n",
    "epsilon = 0.1\n",
    "protocol = \"icmp\"\n",
    "min_ttl = 8\n",
    "max_ttl = 32\n",
    "\n",
    "# This can be overrided by the pilot configuration (see below)\n",
    "n_cycles = 10\n",
    "global_budget = 11_881_416\n",
    "bgp_prefixes_path = Path(\"./resources/data/bgp_prefixes.pickle\")"
   ]
  },
  {
   "cell_type": "markdown",
   "metadata": {},
   "source": [
    "# Pilot definition (optional)\n",
    "\n",
    "If you don't want to run the experiment on the entire universe of BGP prefixes, you can define a pilot."
   ]
  },
  {
   "cell_type": "code",
   "execution_count": 19,
   "metadata": {},
   "outputs": [],
   "source": [
    "# Enable/disable pilot experiment\n",
    "enable_pilot = False"
   ]
  },
  {
   "cell_type": "code",
   "execution_count": 20,
   "metadata": {},
   "outputs": [
    {
     "name": "stderr",
     "output_type": "stream",
     "text": [
      "2021-12-30 18:24:59,715 :: SCRIPT :: INFO :: Number of BGP prefixes 922882\n",
      "2021-12-30 18:24:59,715 :: SCRIPT :: INFO :: Number of BGP prefixes 922882\n",
      "2021-12-30 18:24:59,715 :: SCRIPT :: INFO :: Number of BGP prefixes 922882\n"
     ]
    }
   ],
   "source": [
    "# If pilot is disabled, we just import the bgp prefixes\n",
    "# See (https://github.com/dioptra-io/zeph) for more information about the creation of this file\n",
    "\n",
    "import pickle\n",
    "\n",
    "if not enable_pilot:\n",
    "    with bgp_prefixes_path.open(\"rb\") as fd:\n",
    "        bgp_prefixes = pickle.load(fd)\n",
    "        logger.info(f\"Number of BGP prefixes {len(bgp_prefixes)}\")"
   ]
  },
  {
   "cell_type": "code",
   "execution_count": 10,
   "metadata": {},
   "outputs": [],
   "source": [
    "import random\n",
    "\n",
    "def pilot_bgp_prefixes(bgp_prefixes, n_prefixes):\n",
    "    current_n_prefixes = 0\n",
    "    subset_bgp_prefixes = []\n",
    "\n",
    "    random.shuffle(bgp_prefixes)\n",
    "\n",
    "    for bgp_prefix in bgp_prefixes:\n",
    "        if current_n_prefixes > n_prefixes:\n",
    "            break\n",
    "\n",
    "        subset_bgp_prefixes.append(bgp_prefix)\n",
    "        current_n_prefixes += len(bgp_prefix)\n",
    "\n",
    "    logger.info(f\"Number of /24 prefixes: {current_n_prefixes}\")\n",
    "    return subset_bgp_prefixes"
   ]
  },
  {
   "cell_type": "code",
   "execution_count": 11,
   "metadata": {},
   "outputs": [],
   "source": [
    "# Optionally override experiment parameters\n",
    "if enable_pilot:\n",
    "    n_cycles = 5\n",
    "    global_budget = 10_000\n"
   ]
  },
  {
   "cell_type": "markdown",
   "metadata": {},
   "source": [
    "### BGP prefixes subset creation\n",
    "\n",
    "Here you can define the subset of BGP prefixes you want to run the pilot experiment on."
   ]
  },
  {
   "cell_type": "code",
   "execution_count": 12,
   "metadata": {},
   "outputs": [],
   "source": [
    "if enable_pilot:\n",
    "    # Enable/diable bgp prefix subset creation\n",
    "    create_bgp_prefixes_subset = False    "
   ]
  },
  {
   "cell_type": "code",
   "execution_count": 15,
   "metadata": {},
   "outputs": [],
   "source": [
    "import pickle\n",
    "\n",
    "if enable_pilot:\n",
    "    # Override prefix path\n",
    "    bgp_prefixes_path = Path(\"./resources/data/bgp_prefixes.pickle\")\n",
    "\n",
    "    if not create_bgp_prefixes_subset:\n",
    "        with bgp_prefixes_path.open(\"rb\") as fd:\n",
    "            bgp_prefixes = pickle.load(fd)\n",
    "        logger.info(f\"Number of BGP prefixes {len(bgp_prefixes)}\")"
   ]
  },
  {
   "cell_type": "code",
   "execution_count": 13,
   "metadata": {},
   "outputs": [],
   "source": [
    "if enable_pilot:\n",
    "    # Override prefix path and and dump a subset here\n",
    "    bgp_prefixes_path = Path(\"./resources/data/bgp_prefixes.pickle\")\n",
    "\n",
    "    if create_bgp_prefixes_subset:\n",
    "        bgp_prefixes = pilot_bgp_prefixes(bgp_prefixes, global_budget)\n",
    "        logger.info(f\"Number of BGP prefixes {len(bgp_prefixes)}\")\n",
    "        with bgp_prefixes_path.open(\"wb\") as fd:\n",
    "            pickle.dump(bgp_prefixes, fd)"
   ]
  },
  {
   "cell_type": "markdown",
   "metadata": {},
   "source": [
    "## Instance definition\n",
    "\n",
    "In this section we define the instance(s) of the experiment.\n",
    "An instance is one workflow run with a set of parameters."
   ]
  },
  {
   "cell_type": "code",
   "execution_count": 21,
   "metadata": {},
   "outputs": [],
   "source": [
    "from zeph.main import create_selector\n",
    "from zeph.drivers import iris_driver\n",
    "\n",
    "def adaptive_instance(\n",
    "    name,\n",
    "    n_cycles,\n",
    "    compute_budget,\n",
    "    bgp_prefixes=None,\n",
    "    bgp_awareness=True,\n",
    "    exploitation_only=False,\n",
    "    previous_measurement_uuid=None,\n",
    "    dry_run=False,\n",
    "):\n",
    "    \"\"\"Instance of the experience.\"\"\"\n",
    "    measurement_uuid = previous_measurement_uuid\n",
    "    for _ in range(n_cycles):\n",
    "        selector = create_selector(\n",
    "            measurement_uuid, bgp_prefixes=bgp_prefixes, bgp_awareness=bgp_awareness\n",
    "        )\n",
    "        measurement_uuid, exploitation_per_agent, prefixes_per_agent = iris_driver(\n",
    "            api_url,\n",
    "            api_username,\n",
    "            api_password,\n",
    "            name,\n",
    "            tool,\n",
    "            protocol,\n",
    "            min_ttl,\n",
    "            max_ttl,\n",
    "            selector,\n",
    "            compute_budget,\n",
    "            logger,\n",
    "            exploitation_only=exploitation_only,\n",
    "            dry_run=dry_run,\n",
    "        )\n",
    "\n",
    "        recap = {k: len(v) for k, v in prefixes_per_agent.items()}\n",
    "        logger.info(f\"{name} - {measurement_uuid}: {recap}\")\n",
    "\n",
    "        with (pilot_dir / (\"exploitation_\" + measurement_uuid + \".pickle\")).open(\n",
    "            \"wb\"\n",
    "        ) as fd:\n",
    "            pickle.dump(exploitation_per_agent, fd)\n",
    "        with (pilot_dir / (\"prefixes_\" + measurement_uuid + \".pickle\")).open(\n",
    "            \"wb\"\n",
    "        ) as fd:\n",
    "            pickle.dump(prefixes_per_agent, fd)\n",
    "        yield measurement_uuid"
   ]
  },
  {
   "cell_type": "markdown",
   "metadata": {},
   "source": [
    "## Experiment definition\n",
    "\n",
    "In this section we define the experiment.\n",
    "Here we have:\n",
    "\n",
    "\n",
    "* zeph cycles (10% of the budget)\n",
    "* zeph cycles (25% of the budget)\n",
    "* zeph cycles (50% of the budget)\n",
    "* zeph cycles (75% of the budget)\n",
    "* zeph cycles (100% of the budget)\n"
   ]
  },
  {
   "cell_type": "code",
   "execution_count": 22,
   "metadata": {},
   "outputs": [],
   "source": [
    "from math import floor\n",
    "\n",
    "# Zeph (10%)\n",
    "zeph_uuids_10 = []\n",
    "zeph_10 = adaptive_instance(\n",
    "    \"edgenet-1\",\n",
    "    n_cycles,\n",
    "    lambda x: (floor(0.10 * global_budget), 6),\n",
    "    bgp_prefixes=bgp_prefixes,\n",
    "    bgp_awareness=False,\n",
    "    exploitation_only=False,\n",
    ")\n",
    "\n",
    "# Zeph (25%)\n",
    "zeph_uuids_25 = []\n",
    "zeph_25 = adaptive_instance(\n",
    "    \"edgenet-2\",\n",
    "    n_cycles,\n",
    "    lambda x: (floor(0.25 * global_budget), 6),\n",
    "    bgp_prefixes=bgp_prefixes,\n",
    "    bgp_awareness=False,\n",
    "    exploitation_only=False,\n",
    ")\n",
    "\n",
    "# Zeph (50%)\n",
    "zeph_uuids_50 = []\n",
    "zeph_50 = adaptive_instance(\n",
    "    \"edgenet-3\",\n",
    "    n_cycles,\n",
    "    lambda x: (floor(0.50 * global_budget), 6),\n",
    "    bgp_prefixes=bgp_prefixes,\n",
    "    bgp_awareness=False,\n",
    "    exploitation_only=False,\n",
    ")\n",
    "\n",
    "# Zeph (75%)\n",
    "zeph_uuids_75 = []\n",
    "zeph_75 = adaptive_instance(\n",
    "    \"edgenet-4\",\n",
    "    n_cycles,\n",
    "    lambda x: (floor(0.75 * global_budget), 6),\n",
    "    bgp_prefixes=bgp_prefixes,\n",
    "    bgp_awareness=False,\n",
    "    exploitation_only=False,\n",
    ")\n",
    "\n",
    "# Agent(s) is probing the full budget\n",
    "zeph_uuids_100 = []\n",
    "zeph_100 = adaptive_instance(\n",
    "    \"edgenet-5\",\n",
    "    n_cycles,\n",
    "    lambda x: (global_budget, 6),\n",
    "    bgp_prefixes=bgp_prefixes,\n",
    "    bgp_awareness=False,\n",
    "    exploitation_only=False,\n",
    ")"
   ]
  },
  {
   "cell_type": "markdown",
   "metadata": {},
   "source": [
    "## Experiment execution\n",
    "\n",
    "We execute the experiment by running the workflow on the instance(s)."
   ]
  },
  {
   "cell_type": "code",
   "execution_count": 23,
   "metadata": {},
   "outputs": [],
   "source": [
    "# Dry run, skip the execution\n",
    "dry_run = True"
   ]
  },
  {
   "cell_type": "code",
   "execution_count": 24,
   "metadata": {},
   "outputs": [],
   "source": [
    "import requests\n",
    "from zeph.drivers import create_auth_header\n",
    "\n",
    "def check_measurement_finished(url, username, password, measurement_uuid):\n",
    "    headers = create_auth_header(url, username, password)\n",
    "    req = requests.get(url + f\"/measurements/{measurement_uuid}\", headers=headers)\n",
    "    return req.json()[\"state\"] == \"finished\""
   ]
  },
  {
   "cell_type": "code",
   "execution_count": 25,
   "metadata": {},
   "outputs": [
    {
     "ename": "Exception",
     "evalue": "Dry run, exiting",
     "output_type": "error",
     "traceback": [
      "\u001b[0;31m---------------------------------------------------------------------------\u001b[0m",
      "\u001b[0;31mException\u001b[0m                                 Traceback (most recent call last)",
      "\u001b[0;32m/var/folders/rv/1898p2xd2dg1m1tg751kx7j80000gn/T/ipykernel_31482/1172335066.py\u001b[0m in \u001b[0;36m<module>\u001b[0;34m\u001b[0m\n\u001b[1;32m      2\u001b[0m \u001b[0;34m\u001b[0m\u001b[0m\n\u001b[1;32m      3\u001b[0m \u001b[0;32mif\u001b[0m \u001b[0mdry_run\u001b[0m\u001b[0;34m:\u001b[0m\u001b[0;34m\u001b[0m\u001b[0;34m\u001b[0m\u001b[0m\n\u001b[0;32m----> 4\u001b[0;31m     \u001b[0;32mraise\u001b[0m \u001b[0mException\u001b[0m\u001b[0;34m(\u001b[0m\u001b[0;34m\"Dry run, exiting\"\u001b[0m\u001b[0;34m)\u001b[0m\u001b[0;34m\u001b[0m\u001b[0;34m\u001b[0m\u001b[0m\n\u001b[0m\u001b[1;32m      5\u001b[0m \u001b[0;34m\u001b[0m\u001b[0m\n\u001b[1;32m      6\u001b[0m for (\n",
      "\u001b[0;31mException\u001b[0m: Dry run, exiting"
     ]
    }
   ],
   "source": [
    "import time\n",
    "\n",
    "if dry_run:\n",
    "    raise Exception(\"Dry run, exiting\")\n",
    "\n",
    "for (\n",
    "    zeph_uuid_10,\n",
    "    zeph_uuid_25,\n",
    "    zeph_uuid_50,\n",
    "    zeph_uuid_75,\n",
    "    zeph_uuid_100,\n",
    "\n",
    ") in zip(\n",
    "    zeph_10,\n",
    "    zeph_25,\n",
    "    zeph_50,\n",
    "    zeph_75,\n",
    "    zeph_100,\n",
    "):\n",
    "\n",
    "    zeph_uuids_10.append(zeph_uuid_10)\n",
    "    zeph_uuids_25.append(zeph_uuid_25)\n",
    "    zeph_uuids_50.append(zeph_uuid_50)\n",
    "    zeph_uuids_75.append(zeph_uuid_75)\n",
    "    zeph_uuids_100.append(zeph_uuid_100)\n",
    "\n",
    "    while True:\n",
    "        check_zeph_10 = check_measurement_finished(\n",
    "            api_url, api_username, api_password, zeph_uuid_10\n",
    "        )\n",
    "        check_zeph_25 = check_measurement_finished(\n",
    "            api_url, api_username, api_password, zeph_uuid_25\n",
    "        )\n",
    "        check_zeph_50 = check_measurement_finished(\n",
    "            api_url, api_username, api_password, zeph_uuid_50\n",
    "        )\n",
    "        check_zeph_75 = check_measurement_finished(\n",
    "            api_url, api_username, api_password, zeph_uuid_75\n",
    "        )\n",
    "        check_zeph_100 = check_measurement_finished(\n",
    "            api_url, api_username, api_password, zeph_uuid_75\n",
    "        )\n",
    "\n",
    "        if (\n",
    "            check_zeph_10\n",
    "            and check_zeph_25\n",
    "            and check_zeph_50\n",
    "            and check_zeph_75\n",
    "            and check_zeph_100\n",
    "        ):\n",
    "            break\n",
    "        time.sleep(10)\n",
    "\n",
    "\n",
    "with (pilot_dir / \"zeph_10.txt\").open(\"w\") as fd:\n",
    "    for uuid in zeph_uuids_10:\n",
    "        fd.write(uuid + \"\\n\")\n",
    "with (pilot_dir / \"zeph_25.txt\").open(\"w\") as fd:\n",
    "    for uuid in zeph_uuids_25:\n",
    "        fd.write(uuid + \"\\n\")\n",
    "with (pilot_dir / \"zeph_50.txt\").open(\"w\") as fd:\n",
    "    for uuid in zeph_uuids_50:\n",
    "        fd.write(uuid + \"\\n\")\n",
    "with (pilot_dir / \"zeph_75.txt\").open(\"w\") as fd:\n",
    "    for uuid in zeph_uuids_75:\n",
    "        fd.write(uuid + \"\\n\")\n",
    "with (pilot_dir / \"zeph_100.txt\").open(\"w\") as fd:\n",
    "    for uuid in zeph_uuids_75:\n",
    "        fd.write(uuid + \"\\n\")"
   ]
  }
 ],
 "metadata": {
  "interpreter": {
   "hash": "4a7c0178b9cdc3269eb00ccea0263d7c21cd35e4d7be0ec2e63761aafbb806b4"
  },
  "kernelspec": {
   "display_name": "Python 3.9.9 64-bit ('zeph-evaluation-r6wza3O7-py3.9': poetry)",
   "language": "python",
   "name": "python3"
  },
  "language_info": {
   "codemirror_mode": {
    "name": "ipython",
    "version": 3
   },
   "file_extension": ".py",
   "mimetype": "text/x-python",
   "name": "python",
   "nbconvert_exporter": "python",
   "pygments_lexer": "ipython3",
   "version": "3.9.9"
  },
  "orig_nbformat": 4
 },
 "nbformat": 4,
 "nbformat_minor": 2
}
