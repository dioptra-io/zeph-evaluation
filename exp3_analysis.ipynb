{
 "cells": [
  {
   "cell_type": "markdown",
   "metadata": {},
   "source": [
    "# Experiment 3\n",
    "\n",
    "*Hypothesis*: Zeph will work at scale with Diamond-Miner. "
   ]
  },
  {
   "cell_type": "code",
   "execution_count": 2,
   "metadata": {},
   "outputs": [],
   "source": [
    "from pathlib import Path\n",
    "\n",
    "\n",
    "exp_dir = Path(\"./resources/data/measurements/exp3/\")\n",
    "\n",
    "with (exp_dir / \"production.txt\").open(\"r\") as fd:\n",
    "    production_uuids = [uuid.strip() for uuid in fd.readlines()]"
   ]
  },
  {
   "cell_type": "code",
   "execution_count": 3,
   "metadata": {},
   "outputs": [],
   "source": [
    "# Get Iris API / database credentials\n",
    "import json\n",
    "from zeph.drivers import create_auth_header, get_database_url\n",
    "\n",
    "config = json.load(open(\"config.json\"))\n",
    "headers = create_auth_header(config[\"iris_url\"], config[\"iris_username\"], config[\"iris_password\"])\n",
    "database_url = get_database_url(config[\"iris_url\"], headers)"
   ]
  },
  {
   "cell_type": "markdown",
   "metadata": {},
   "source": [
    "## Links"
   ]
  },
  {
   "cell_type": "code",
   "execution_count": 15,
   "metadata": {},
   "outputs": [],
   "source": [
    "from diamond_miner.queries import GetLinks\n",
    "from zeph.drivers import get_previous_measurement_agents\n",
    "\n",
    "def sanitize_uuid(uuid):\n",
    "    return str(uuid).replace(\"-\", \"_\")\n",
    "\n",
    "\n",
    "def get_links(measurement_uuid):\n",
    "    agents_uuid = get_previous_measurement_agents(config[\"iris_url\"], measurement_uuid, headers)\n",
    "    \n",
    "    distinct_links = set()\n",
    "    for agent_uuid in agents_uuid:\n",
    "        measurement_id = sanitize_uuid(measurement_uuid) + \"__\" + sanitize_uuid(agent_uuid)\n",
    "        for link in GetLinks().execute_iter(database_url, measurement_id):\n",
    "            distinct_links.add((link[\"near_addr\"], link[\"far_addr\"])) \n",
    "    return distinct_links"
   ]
  },
  {
   "cell_type": "code",
   "execution_count": 17,
   "metadata": {},
   "outputs": [
    {
     "data": {
      "text/html": [
       "<pre style=\"white-space:pre;overflow-x:auto;line-height:normal;font-family:Menlo,'DejaVu Sans Mono',consolas,'Courier New',monospace\"><span style=\"font-weight: bold\">[</span>\n",
       "    <span style=\"color: #008080; text-decoration-color: #008080; font-weight: bold\">10436832</span>,\n",
       "    <span style=\"color: #008080; text-decoration-color: #008080; font-weight: bold\">12409675</span>,\n",
       "    <span style=\"color: #008080; text-decoration-color: #008080; font-weight: bold\">15053553</span>,\n",
       "    <span style=\"color: #008080; text-decoration-color: #008080; font-weight: bold\">12544834</span>,\n",
       "    <span style=\"color: #008080; text-decoration-color: #008080; font-weight: bold\">14955987</span>,\n",
       "    <span style=\"color: #008080; text-decoration-color: #008080; font-weight: bold\">16111646</span>,\n",
       "    <span style=\"color: #008080; text-decoration-color: #008080; font-weight: bold\">16105639</span>,\n",
       "    <span style=\"color: #008080; text-decoration-color: #008080; font-weight: bold\">17539163</span>,\n",
       "    <span style=\"color: #008080; text-decoration-color: #008080; font-weight: bold\">16658761</span>,\n",
       "    <span style=\"color: #008080; text-decoration-color: #008080; font-weight: bold\">19890422</span>\n",
       "<span style=\"font-weight: bold\">]</span>\n",
       "</pre>\n"
      ],
      "text/plain": [
       "\u001b[1m[\u001b[0m\n",
       "    \u001b[1;36m10436832\u001b[0m,\n",
       "    \u001b[1;36m12409675\u001b[0m,\n",
       "    \u001b[1;36m15053553\u001b[0m,\n",
       "    \u001b[1;36m12544834\u001b[0m,\n",
       "    \u001b[1;36m14955987\u001b[0m,\n",
       "    \u001b[1;36m16111646\u001b[0m,\n",
       "    \u001b[1;36m16105639\u001b[0m,\n",
       "    \u001b[1;36m17539163\u001b[0m,\n",
       "    \u001b[1;36m16658761\u001b[0m,\n",
       "    \u001b[1;36m19890422\u001b[0m\n",
       "\u001b[1m]\u001b[0m\n"
      ]
     },
     "metadata": {},
     "output_type": "display_data"
    }
   ],
   "source": [
    "# Estimated computing time: ~10 minutes\n",
    "\n",
    "production_n_links = []\n",
    "for uuid in production_uuids:\n",
    "    production_n_links.append(len(get_links(uuid)))\n",
    "production_zeph_n_links = []\n",
    "\n",
    "print(production_n_links)"
   ]
  },
  {
   "cell_type": "code",
   "execution_count": 6,
   "metadata": {},
   "outputs": [],
   "source": [
    "import matplotlib.ticker as ticker\n",
    "\n",
    "\n",
    "class OOMFormatter(ticker.ScalarFormatter):\n",
    "    def __init__(self, order=0, fformat=\"%1.1f\", offset=True, mathText=True):\n",
    "        self.oom = order\n",
    "        self.fformat = fformat\n",
    "        ticker.ScalarFormatter.__init__(self, useOffset=offset, useMathText=mathText)\n",
    "    \n",
    "    def _set_order_of_magnitude(self):\n",
    "        self.orderOfMagnitude = self.oom\n",
    "    \n",
    "    def _set_format(self, vmin=None, vmax=None):\n",
    "        self.format = self.fformat\n",
    "        if self._useMathText:\n",
    "            self.format = r'$\\mathdefault{%s}$' % self.format"
   ]
  },
  {
   "cell_type": "code",
   "execution_count": 7,
   "metadata": {},
   "outputs": [
    {
     "data": {
      "text/html": [
       "<pre style=\"white-space:pre;overflow-x:auto;line-height:normal;font-family:Menlo,'DejaVu Sans Mono',consolas,'Courier New',monospace\"><span style=\"font-weight: bold\">&lt;</span><span style=\"color: #ff00ff; text-decoration-color: #ff00ff; font-weight: bold\">Figure</span><span style=\"color: #000000; text-decoration-color: #000000\"> size 432x288 with </span><span style=\"color: #008080; text-decoration-color: #008080; font-weight: bold\">1</span><span style=\"color: #000000; text-decoration-color: #000000\"> Axes</span><span style=\"font-weight: bold\">&gt;</span>\n",
       "</pre>\n"
      ],
      "text/plain": [
       "\u001b[1m<\u001b[0m\u001b[1;95mFigure\u001b[0m\u001b[39m size 432x288 with \u001b[0m\u001b[1;36m1\u001b[0m\u001b[39m Axes\u001b[0m\u001b[1m>\u001b[0m\n"
      ]
     },
     "metadata": {},
     "output_type": "display_data"
    },
    {
     "data": {
      "image/png": "[encoded data removed]"
     },
     "metadata": {
      "needs_background": "light"
     },
     "output_type": "display_data"
    }
   ],
   "source": [
    "import matplotlib.pyplot as plt\n",
    "import matplotlib.ticker as ticker\n",
    "import pandas as pd\n",
    "import seaborn as sns\n",
    "\n",
    "data = pd.DataFrame({\n",
    "    \"production\": production_n_links,\n",
    "})\n",
    "\n",
    "ax = sns.lineplot(data=data, legend = False)\n",
    "\n",
    "ax.set(xlabel=\"Cycles\", ylabel=\"Number of distinct links\")\n",
    "ax.set(ylim=(0, 25_000_000))\n",
    "\n",
    "ax.xaxis.set_major_locator(ticker.FixedLocator(range(0, 10)))\n",
    "ax.xaxis.set_major_formatter(ticker.FixedFormatter(range(1, 11)))\n",
    "\n",
    "ax.yaxis.set_major_formatter(OOMFormatter(6, \"%g\", mathText=False))\n",
    "ax.grid()\n",
    "\n",
    "\n",
    "plt.tight_layout()\n",
    "plt.savefig(\"./resources/figures/exp3_links.pdf\")\n",
    "plt.show()"
   ]
  },
  {
   "cell_type": "markdown",
   "metadata": {},
   "source": [
    "## Nodes"
   ]
  },
  {
   "cell_type": "code",
   "execution_count": 19,
   "metadata": {},
   "outputs": [],
   "source": [
    "from diamond_miner.queries import GetNodes\n",
    "\n",
    "def get_nodes(measurement_uuid):\n",
    "    agents_uuid = get_previous_measurement_agents(config[\"iris_url\"], measurement_uuid, headers)\n",
    "    \n",
    "    distinct_nodes = set()\n",
    "    for agent_uuid in agents_uuid:\n",
    "        measurement_id = sanitize_uuid(measurement_uuid) + \"__\" + sanitize_uuid(agent_uuid)\n",
    "        for node in GetNodes().execute_iter(database_url, measurement_id):\n",
    "            distinct_nodes.add(node[\"reply_src_addr\"]) \n",
    "    return distinct_nodes"
   ]
  },
  {
   "cell_type": "code",
   "execution_count": 20,
   "metadata": {},
   "outputs": [
    {
     "data": {
      "text/html": [
       "<pre style=\"white-space:pre;overflow-x:auto;line-height:normal;font-family:Menlo,'DejaVu Sans Mono',consolas,'Courier New',monospace\"><span style=\"font-weight: bold\">[</span><span style=\"color: #008080; text-decoration-color: #008080; font-weight: bold\">2090101</span>, <span style=\"color: #008080; text-decoration-color: #008080; font-weight: bold\">2505044</span>, <span style=\"color: #008080; text-decoration-color: #008080; font-weight: bold\">2778420</span>, <span style=\"color: #008080; text-decoration-color: #008080; font-weight: bold\">2827698</span>, <span style=\"color: #008080; text-decoration-color: #008080; font-weight: bold\">2909473</span>, <span style=\"color: #008080; text-decoration-color: #008080; font-weight: bold\">3025584</span>, <span style=\"color: #008080; text-decoration-color: #008080; font-weight: bold\">3117979</span>, <span style=\"color: #008080; text-decoration-color: #008080; font-weight: bold\">3195673</span>, <span style=\"color: #008080; text-decoration-color: #008080; font-weight: bold\">3224954</span>, <span style=\"color: #008080; text-decoration-color: #008080; font-weight: bold\">3288325</span><span style=\"font-weight: bold\">]</span>\n",
       "</pre>\n"
      ],
      "text/plain": [
       "\u001b[1m[\u001b[0m\u001b[1;36m2090101\u001b[0m, \u001b[1;36m2505044\u001b[0m, \u001b[1;36m2778420\u001b[0m, \u001b[1;36m2827698\u001b[0m, \u001b[1;36m2909473\u001b[0m, \u001b[1;36m3025584\u001b[0m, \u001b[1;36m3117979\u001b[0m, \u001b[1;36m3195673\u001b[0m, \u001b[1;36m3224954\u001b[0m, \u001b[1;36m3288325\u001b[0m\u001b[1m]\u001b[0m\n"
      ]
     },
     "metadata": {},
     "output_type": "display_data"
    }
   ],
   "source": [
    "# Estimated computing time: ~7 minutes\n",
    "\n",
    "production_n_nodes = []\n",
    "for uuid in production_uuids:\n",
    "    production_n_nodes.append(len(get_nodes(uuid)))\n",
    "production_zeph_n_nodes = []\n",
    "\n",
    "print(production_n_nodes)"
   ]
  },
  {
   "cell_type": "code",
   "execution_count": 10,
   "metadata": {},
   "outputs": [
    {
     "data": {
      "text/html": [
       "<pre style=\"white-space:pre;overflow-x:auto;line-height:normal;font-family:Menlo,'DejaVu Sans Mono',consolas,'Courier New',monospace\"><span style=\"font-weight: bold\">&lt;</span><span style=\"color: #ff00ff; text-decoration-color: #ff00ff; font-weight: bold\">Figure</span><span style=\"color: #000000; text-decoration-color: #000000\"> size 432x288 with </span><span style=\"color: #008080; text-decoration-color: #008080; font-weight: bold\">1</span><span style=\"color: #000000; text-decoration-color: #000000\"> Axes</span><span style=\"font-weight: bold\">&gt;</span>\n",
       "</pre>\n"
      ],
      "text/plain": [
       "\u001b[1m<\u001b[0m\u001b[1;95mFigure\u001b[0m\u001b[39m size 432x288 with \u001b[0m\u001b[1;36m1\u001b[0m\u001b[39m Axes\u001b[0m\u001b[1m>\u001b[0m\n"
      ]
     },
     "metadata": {},
     "output_type": "display_data"
    },
    {
     "data": {
      "image/png": "[encoded data removed]"
     },
     "metadata": {
      "needs_background": "light"
     },
     "output_type": "display_data"
    }
   ],
   "source": [
    "import matplotlib.pyplot as plt\n",
    "import matplotlib.ticker as ticker\n",
    "import pandas as pd\n",
    "import seaborn as sns\n",
    "\n",
    "data = pd.DataFrame({\n",
    "    \"production\": production_n_nodes,\n",
    "})\n",
    "\n",
    "ax = sns.lineplot(data=data, legend = False)\n",
    "\n",
    "ax.set(xlabel=\"Cycles\", ylabel=\"Number of distinct nodes\")\n",
    "ax.set(ylim=(0, 5_000_000))\n",
    "\n",
    "ax.xaxis.set_major_locator(ticker.FixedLocator(range(0, 10)))\n",
    "ax.xaxis.set_major_formatter(ticker.FixedFormatter(range(1, 11)))\n",
    "ax.grid()\n",
    "\n",
    "plt.tight_layout()\n",
    "plt.savefig(\"./resources/figures/exp3_nodes.pdf\")\n",
    "plt.show()"
   ]
  },
  {
   "cell_type": "markdown",
   "metadata": {},
   "source": [
    "## Probes "
   ]
  },
  {
   "cell_type": "code",
   "execution_count": 11,
   "metadata": {},
   "outputs": [],
   "source": [
    "import requests \n",
    "\n",
    "def get_statistic(measurement_uuid, statistic):    \n",
    "    data = requests.get(config[\"iris_url\"] + f\"/measurements/{measurement_uuid}\", headers=headers)\n",
    "\n",
    "    packets_sent = 0\n",
    "    for agent in data.json()[\"agents\"]:\n",
    "        for probing_round in agent[\"probing_statistics\"].values():\n",
    "            packets_sent += probing_round.get(statistic, 0)\n",
    "    return packets_sent"
   ]
  },
  {
   "cell_type": "code",
   "execution_count": 12,
   "metadata": {},
   "outputs": [
    {
     "data": {
      "text/html": [
       "<pre style=\"white-space:pre;overflow-x:auto;line-height:normal;font-family:Menlo,'DejaVu Sans Mono',consolas,'Courier New',monospace\"><span style=\"color: #800000; text-decoration-color: #800000\">╭──────────────────────────── </span><span style=\"color: #800000; text-decoration-color: #800000; font-weight: bold\">Traceback </span><span style=\"color: #bf7f7f; text-decoration-color: #bf7f7f; font-weight: bold\">(most recent call last)</span><span style=\"color: #800000; text-decoration-color: #800000\"> ────────────────────────────╮</span>\n",
       "<span style=\"color: #800000; text-decoration-color: #800000\">│</span>                                                                                           <span style=\"color: #800000; text-decoration-color: #800000\">│</span>\n",
       "<span style=\"color: #800000; text-decoration-color: #800000\">│</span> <span style=\"color: #bfbf7f; text-decoration-color: #bfbf7f\">/var/folders/rv/1898p2xd2dg1m1tg751kx7j80000gn/T/ipykernel_4163/</span><span style=\"color: #808000; text-decoration-color: #808000; font-weight: bold\">4276465768.py</span>:<span style=\"color: #0000ff; text-decoration-color: #0000ff\">3</span> in        <span style=\"color: #800000; text-decoration-color: #800000\">│</span>\n",
       "<span style=\"color: #800000; text-decoration-color: #800000\">│</span> <span style=\"color: #00ff00; text-decoration-color: #00ff00\">&lt;module&gt;</span>                                                                                  <span style=\"color: #800000; text-decoration-color: #800000\">│</span>\n",
       "<span style=\"color: #800000; text-decoration-color: #800000\">│</span>                                                                                           <span style=\"color: #800000; text-decoration-color: #800000\">│</span>\n",
       "<span style=\"color: #800000; text-decoration-color: #800000\">│</span> <span style=\"color: #800000; text-decoration-color: #800000; font-style: italic\">[Errno 2] No such file or directory: </span>                                                     <span style=\"color: #800000; text-decoration-color: #800000\">│</span>\n",
       "<span style=\"color: #800000; text-decoration-color: #800000\">│</span> <span style=\"color: #800000; text-decoration-color: #800000; font-style: italic\">'/var/folders/rv/1898p2xd2dg1m1tg751kx7j80000gn/T/ipykernel_4163/4276465768.py'</span>           <span style=\"color: #800000; text-decoration-color: #800000\">│</span>\n",
       "<span style=\"color: #800000; text-decoration-color: #800000\">│</span> <span style=\"color: #bfbf7f; text-decoration-color: #bfbf7f\">/var/folders/rv/1898p2xd2dg1m1tg751kx7j80000gn/T/ipykernel_4163/</span><span style=\"color: #808000; text-decoration-color: #808000; font-weight: bold\">3918235546.py</span>:<span style=\"color: #0000ff; text-decoration-color: #0000ff\">4</span> in        <span style=\"color: #800000; text-decoration-color: #800000\">│</span>\n",
       "<span style=\"color: #800000; text-decoration-color: #800000\">│</span> <span style=\"color: #00ff00; text-decoration-color: #00ff00\">get_statistic</span>                                                                             <span style=\"color: #800000; text-decoration-color: #800000\">│</span>\n",
       "<span style=\"color: #800000; text-decoration-color: #800000\">│</span>                                                                                           <span style=\"color: #800000; text-decoration-color: #800000\">│</span>\n",
       "<span style=\"color: #800000; text-decoration-color: #800000\">│</span> <span style=\"color: #800000; text-decoration-color: #800000; font-style: italic\">[Errno 2] No such file or directory: </span>                                                     <span style=\"color: #800000; text-decoration-color: #800000\">│</span>\n",
       "<span style=\"color: #800000; text-decoration-color: #800000\">│</span> <span style=\"color: #800000; text-decoration-color: #800000; font-style: italic\">'/var/folders/rv/1898p2xd2dg1m1tg751kx7j80000gn/T/ipykernel_4163/3918235546.py'</span>           <span style=\"color: #800000; text-decoration-color: #800000\">│</span>\n",
       "<span style=\"color: #800000; text-decoration-color: #800000\">╰───────────────────────────────────────────────────────────────────────────────────────────╯</span>\n",
       "<span style=\"color: #ff0000; text-decoration-color: #ff0000; font-weight: bold\">NameError: </span>name <span style=\"color: #008000; text-decoration-color: #008000\">'iris_url'</span> is not defined\n",
       "</pre>\n"
      ],
      "text/plain": [
       "\u001b[31m╭─\u001b[0m\u001b[31m─────────────────────────── \u001b[0m\u001b[1;31mTraceback \u001b[0m\u001b[1;2;31m(most recent call last)\u001b[0m\u001b[31m ───────────────────────────\u001b[0m\u001b[31m─╮\u001b[0m\n",
       "\u001b[31m│\u001b[0m                                                                                           \u001b[31m│\u001b[0m\n",
       "\u001b[31m│\u001b[0m \u001b[2;33m/var/folders/rv/1898p2xd2dg1m1tg751kx7j80000gn/T/ipykernel_4163/\u001b[0m\u001b[1;33m4276465768.py\u001b[0m:\u001b[94m3\u001b[0m in        \u001b[31m│\u001b[0m\n",
       "\u001b[31m│\u001b[0m \u001b[92m<module>\u001b[0m                                                                                  \u001b[31m│\u001b[0m\n",
       "\u001b[31m│\u001b[0m                                                                                           \u001b[31m│\u001b[0m\n",
       "\u001b[31m│\u001b[0m \u001b[3;31m[Errno 2] No such file or directory: \u001b[0m                                                     \u001b[31m│\u001b[0m\n",
       "\u001b[31m│\u001b[0m \u001b[3;31m'/var/folders/rv/1898p2xd2dg1m1tg751kx7j80000gn/T/ipykernel_4163/4276465768.py'\u001b[0m           \u001b[31m│\u001b[0m\n",
       "\u001b[31m│\u001b[0m \u001b[2;33m/var/folders/rv/1898p2xd2dg1m1tg751kx7j80000gn/T/ipykernel_4163/\u001b[0m\u001b[1;33m3918235546.py\u001b[0m:\u001b[94m4\u001b[0m in        \u001b[31m│\u001b[0m\n",
       "\u001b[31m│\u001b[0m \u001b[92mget_statistic\u001b[0m                                                                             \u001b[31m│\u001b[0m\n",
       "\u001b[31m│\u001b[0m                                                                                           \u001b[31m│\u001b[0m\n",
       "\u001b[31m│\u001b[0m \u001b[3;31m[Errno 2] No such file or directory: \u001b[0m                                                     \u001b[31m│\u001b[0m\n",
       "\u001b[31m│\u001b[0m \u001b[3;31m'/var/folders/rv/1898p2xd2dg1m1tg751kx7j80000gn/T/ipykernel_4163/3918235546.py'\u001b[0m           \u001b[31m│\u001b[0m\n",
       "\u001b[31m╰───────────────────────────────────────────────────────────────────────────────────────────╯\u001b[0m\n",
       "\u001b[1;91mNameError: \u001b[0mname \u001b[32m'iris_url'\u001b[0m is not defined\n"
      ]
     },
     "metadata": {},
     "output_type": "display_data"
    }
   ],
   "source": [
    "production_n_probes = []\n",
    "for uuid in production_uuids:\n",
    "    production_n_probes.append(get_statistic(uuid, \"packets_sent\"))\n",
    "\n",
    "print(production_n_probes)"
   ]
  },
  {
   "cell_type": "code",
   "execution_count": 13,
   "metadata": {},
   "outputs": [
    {
     "data": {
      "text/html": [
       "<pre style=\"white-space:pre;overflow-x:auto;line-height:normal;font-family:Menlo,'DejaVu Sans Mono',consolas,'Courier New',monospace\"><span style=\"font-weight: bold\">&lt;</span><span style=\"color: #ff00ff; text-decoration-color: #ff00ff; font-weight: bold\">Figure</span><span style=\"color: #000000; text-decoration-color: #000000\"> size 432x288 with </span><span style=\"color: #008080; text-decoration-color: #008080; font-weight: bold\">1</span><span style=\"color: #000000; text-decoration-color: #000000\"> Axes</span><span style=\"font-weight: bold\">&gt;</span>\n",
       "</pre>\n"
      ],
      "text/plain": [
       "\u001b[1m<\u001b[0m\u001b[1;95mFigure\u001b[0m\u001b[39m size 432x288 with \u001b[0m\u001b[1;36m1\u001b[0m\u001b[39m Axes\u001b[0m\u001b[1m>\u001b[0m\n"
      ]
     },
     "metadata": {},
     "output_type": "display_data"
    },
    {
     "data": {
      "image/png": "[encoded data removed]"
     },
     "metadata": {
      "needs_background": "light"
     },
     "output_type": "display_data"
    }
   ],
   "source": [
    "import matplotlib.pyplot as plt\n",
    "import matplotlib.ticker as ticker\n",
    "import pandas as pd\n",
    "import seaborn as sns\n",
    "\n",
    "data = pd.DataFrame({\n",
    "    \"production\": production_n_probes,\n",
    "})\n",
    "\n",
    "ax = sns.lineplot(data=data, legend = False)\n",
    "\n",
    "ax.set(xlabel=\"Cycles\", ylabel=\"Number of probes sent\")\n",
    "ax.set(ylim=(0, 15_000_000_000))\n",
    "\n",
    "ax.xaxis.set_major_locator(ticker.FixedLocator(range(0, 10)))\n",
    "ax.xaxis.set_major_formatter(ticker.FixedFormatter(range(1, 11)))\n",
    "\n",
    "ax.yaxis.set_major_formatter(OOMFormatter(9, \"%g\", mathText=False))\n",
    "\n",
    "ax.grid()\n",
    "\n",
    "plt.tight_layout()\n",
    "plt.savefig(\"./resources/figures/exp3_probes.pdf\")\n",
    "plt.show()"
   ]
  }
 ],
 "metadata": {
  "interpreter": {
   "hash": "772e1080b1fbf5200c669858b2c09332e229694cf709b93af0edeea0c9b8a739"
  },
  "kernelspec": {
   "display_name": "Python 3 (ipykernel)",
   "language": "python",
   "name": "python3"
  },
  "language_info": {
   "codemirror_mode": {
    "name": "ipython",
    "version": 3
   },
   "file_extension": ".py",
   "mimetype": "text/x-python",
   "name": "python",
   "nbconvert_exporter": "python",
   "pygments_lexer": "ipython3",
   "version": "3.9.9"
  },
  "metadata": {
   "interpreter": {
    "hash": "31f2aee4e71d21fbe5cf8b01ff0e069b9275f58929596ceb00d14d90e3e16cd6"
   }
  }
 },
 "nbformat": 4,
 "nbformat_minor": 4
}
