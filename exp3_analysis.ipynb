{
 "cells": [
  {
   "cell_type": "markdown",
   "metadata": {},
   "source": [
    "# Experiment 3\n",
    "\n",
    "*Hypothesis*: Zeph will work at scale with Diamond-Miner. "
   ]
  },
  {
   "cell_type": "code",
   "execution_count": 12,
   "metadata": {},
   "outputs": [],
   "source": [
    "from pathlib import Path\n",
    "\n",
    "\n",
    "exp_dir = Path(\"./resources/data/measurements/exp3/\")\n",
    "\n",
    "with (exp_dir / \"production.txt\").open(\"r\") as fd:\n",
    "    production_uuids = [uuid.strip() for uuid in fd.readlines()]"
   ]
  },
  {
   "cell_type": "code",
   "execution_count": 13,
   "metadata": {},
   "outputs": [],
   "source": [
    "# Get Iris API / database credentials\n",
    "from config.config import * \n",
    "from zeph.drivers import create_auth_header, get_database_url\n",
    "\n",
    "headers = create_auth_header(iris_url, iris_username, iris_password)\n",
    "\n",
    "# Get ChProxy database URL\n",
    "database_url = get_database_url(iris_url, headers) + \"&no_cache=1\""
   ]
  },
  {
   "cell_type": "markdown",
   "metadata": {},
   "source": [
    "## Links"
   ]
  },
  {
   "cell_type": "code",
   "execution_count": 14,
   "metadata": {},
   "outputs": [],
   "source": [
    "from diamond_miner.queries import GetLinks\n",
    "from zeph.drivers import get_previous_measurement_agents\n",
    "\n",
    "def sanitize_uuid(uuid):\n",
    "    return str(uuid).replace(\"-\", \"_\")\n",
    "\n",
    "\n",
    "def get_links(measurement_uuid):\n",
    "    agents_uuid = get_previous_measurement_agents(iris_url, measurement_uuid, headers)\n",
    "    \n",
    "    distinct_links = set()\n",
    "    for agent_uuid in agents_uuid:\n",
    "        measurement_id = sanitize_uuid(measurement_uuid) + \"__\" + sanitize_uuid(agent_uuid)\n",
    "        for link in GetLinks().execute_iter(database_url, measurement_id):\n",
    "            distinct_links.add((link[\"near_addr\"], link[\"far_addr\"])) \n",
    "    return distinct_links"
   ]
  },
  {
   "cell_type": "code",
   "execution_count": 15,
   "metadata": {},
   "outputs": [
    {
     "name": "stdout",
     "output_type": "stream",
     "text": [
      "[10436832, 12409675, 15053553, 12544834, 14955987, 16111646, 16105639, 17539163, 16658761, 19890422]\n"
     ]
    }
   ],
   "source": [
    "production_n_links = []\n",
    "for uuid in production_uuids:\n",
    "    production_n_links.append(len(get_links(uuid)))\n",
    "production_zeph_n_links = []\n",
    "\n",
    "print(production_n_links)"
   ]
  },
  {
   "cell_type": "code",
   "execution_count": 54,
   "metadata": {},
   "outputs": [],
   "source": [
    "class OOMFormatter(ticker.ScalarFormatter):\n",
    "    def __init__(self, order=0, fformat=\"%1.1f\", offset=True, mathText=True):\n",
    "        self.oom = order\n",
    "        self.fformat = fformat\n",
    "        ticker.ScalarFormatter.__init__(self, useOffset=offset, useMathText=mathText)\n",
    "    \n",
    "    def _set_order_of_magnitude(self):\n",
    "        self.orderOfMagnitude = self.oom\n",
    "    \n",
    "    def _set_format(self, vmin=None, vmax=None):\n",
    "        self.format = self.fformat\n",
    "        if self._useMathText:\n",
    "            self.format = r'$\\mathdefault{%s}$' % self.format"
   ]
  },
  {
   "cell_type": "code",
   "execution_count": 55,
   "metadata": {},
   "outputs": [
    {
     "data": {
      "image/png": "[encoded data removed]",
      "text/plain": [
       "<Figure size 432x288 with 1 Axes>"
      ]
     },
     "metadata": {
      "needs_background": "light"
     },
     "output_type": "display_data"
    }
   ],
   "source": [
    "import matplotlib.pyplot as plt\n",
    "import matplotlib.ticker as ticker\n",
    "import pandas as pd\n",
    "import seaborn as sns\n",
    "\n",
    "data = pd.DataFrame({\n",
    "    \"production\": production_n_links,\n",
    "})\n",
    "\n",
    "ax = sns.lineplot(data=data)\n",
    "\n",
    "ax.set(xlabel=\"Cycles\", ylabel=\"Number of distinct links\")\n",
    "ax.set(ylim=(0, 25_000_000))\n",
    "\n",
    "ax.xaxis.set_major_locator(ticker.FixedLocator(range(0, 10)))\n",
    "ax.xaxis.set_major_formatter(ticker.FixedFormatter(range(1, 11)))\n",
    "\n",
    "ax.yaxis.set_major_formatter(OOMFormatter(6, \"%g\", mathText=False))\n",
    "ax.grid()\n",
    "\n",
    "plt.tight_layout()\n",
    "plt.savefig(\"./resources/figures/exp3_links.pdf\")\n",
    "plt.show()"
   ]
  },
  {
   "cell_type": "markdown",
   "metadata": {},
   "source": [
    "## Nodes"
   ]
  },
  {
   "cell_type": "code",
   "execution_count": 17,
   "metadata": {},
   "outputs": [],
   "source": [
    "from diamond_miner.queries import GetNodes\n",
    "\n",
    "def get_nodes(measurement_uuid):\n",
    "    agents_uuid = get_previous_measurement_agents(iris_url, measurement_uuid, headers)\n",
    "    \n",
    "    distinct_nodes = set()\n",
    "    for agent_uuid in agents_uuid:\n",
    "        measurement_id = sanitize_uuid(measurement_uuid) + \"__\" + sanitize_uuid(agent_uuid)\n",
    "        for node in GetNodes().execute_iter(database_url, measurement_id):\n",
    "            distinct_nodes.add(node[\"reply_src_addr\"]) \n",
    "    return distinct_nodes"
   ]
  },
  {
   "cell_type": "code",
   "execution_count": 18,
   "metadata": {},
   "outputs": [
    {
     "name": "stdout",
     "output_type": "stream",
     "text": [
      "[2090101, 2505044, 2778420, 2827698, 2909473, 3025584, 3117979, 3195673, 3224954, 3288325]\n"
     ]
    }
   ],
   "source": [
    "production_n_nodes = []\n",
    "for uuid in production_uuids:\n",
    "    production_n_nodes.append(len(get_nodes(uuid)))\n",
    "production_zeph_n_nodes = []\n",
    "\n",
    "print(production_n_nodes)"
   ]
  },
  {
   "cell_type": "code",
   "execution_count": 46,
   "metadata": {},
   "outputs": [
    {
     "data": {
      "image/png": "[encoded data removed]",
      "text/plain": [
       "<Figure size 432x288 with 1 Axes>"
      ]
     },
     "metadata": {
      "needs_background": "light"
     },
     "output_type": "display_data"
    }
   ],
   "source": [
    "import matplotlib.pyplot as plt\n",
    "import matplotlib.ticker as ticker\n",
    "import pandas as pd\n",
    "import seaborn as sns\n",
    "\n",
    "data = pd.DataFrame({\n",
    "    \"production\": production_n_nodes,\n",
    "})\n",
    "\n",
    "ax = sns.lineplot(data=data)\n",
    "\n",
    "ax.set(xlabel=\"Cycles\", ylabel=\"Number of distinct nodes\")\n",
    "ax.set(ylim=(0, 5_000_000))\n",
    "\n",
    "ax.xaxis.set_major_locator(ticker.FixedLocator(range(0, 10)))\n",
    "ax.xaxis.set_major_formatter(ticker.FixedFormatter(range(1, 11)))\n",
    "ax.grid()\n",
    "\n",
    "plt.tight_layout()\n",
    "plt.savefig(\"./resources/figures/exp3_nodes.pdf\")\n",
    "plt.show()"
   ]
  },
  {
   "cell_type": "markdown",
   "metadata": {},
   "source": [
    "## Probes "
   ]
  },
  {
   "cell_type": "code",
   "execution_count": 20,
   "metadata": {},
   "outputs": [],
   "source": [
    "import requests \n",
    "\n",
    "def get_statistic(measurement_uuid, statistic):    \n",
    "    data = requests.get(iris_url + f\"/measurements/{measurement_uuid}\", headers=headers)\n",
    "\n",
    "    packets_sent = 0\n",
    "    for agent in data.json()[\"agents\"]:\n",
    "        for probing_round in agent[\"probing_statistics\"].values():\n",
    "            packets_sent += probing_round.get(statistic, 0)\n",
    "    return packets_sent"
   ]
  },
  {
   "cell_type": "code",
   "execution_count": 21,
   "metadata": {},
   "outputs": [
    {
     "name": "stdout",
     "output_type": "stream",
     "text": [
      "[7607107064, 8368742164, 10251834898, 7667765432, 9409400737, 9734247518, 10134618293, 10730631999, 10582564340, 12077540429]\n"
     ]
    }
   ],
   "source": [
    "production_n_probes = []\n",
    "for uuid in production_uuids:\n",
    "    production_n_probes.append(get_statistic(uuid, \"packets_sent\"))\n",
    "\n",
    "print(production_n_probes)"
   ]
  },
  {
   "cell_type": "code",
   "execution_count": 56,
   "metadata": {},
   "outputs": [
    {
     "data": {
      "image/png": "[encoded data removed]",
      "text/plain": [
       "<Figure size 432x288 with 1 Axes>"
      ]
     },
     "metadata": {
      "needs_background": "light"
     },
     "output_type": "display_data"
    }
   ],
   "source": [
    "import matplotlib.pyplot as plt\n",
    "import matplotlib.ticker as ticker\n",
    "import pandas as pd\n",
    "import seaborn as sns\n",
    "\n",
    "data = pd.DataFrame({\n",
    "    \"production\": production_n_probes,\n",
    "})\n",
    "\n",
    "ax = sns.lineplot(data=data)\n",
    "\n",
    "ax.set(xlabel=\"Cycles\", ylabel=\"Number of probes sent\")\n",
    "ax.set(ylim=(0, 15_000_000_000))\n",
    "\n",
    "ax.xaxis.set_major_locator(ticker.FixedLocator(range(0, 10)))\n",
    "ax.xaxis.set_major_formatter(ticker.FixedFormatter(range(1, 11)))\n",
    "\n",
    "ax.yaxis.set_major_formatter(OOMFormatter(9, \"%g\", mathText=False))\n",
    "\n",
    "ax.grid()\n",
    "\n",
    "plt.tight_layout()\n",
    "plt.savefig(\"./resources/figures/exp3_probes.pdf\")\n",
    "plt.show()"
   ]
  }
 ],
 "metadata": {
  "interpreter": {
   "hash": "772e1080b1fbf5200c669858b2c09332e229694cf709b93af0edeea0c9b8a739"
  },
  "kernelspec": {
   "display_name": "Python 3.8.10 64-bit",
   "name": "python3"
  },
  "language_info": {
   "codemirror_mode": {
    "name": "ipython",
    "version": 3
   },
   "file_extension": ".py",
   "mimetype": "text/x-python",
   "name": "python",
   "nbconvert_exporter": "python",
   "pygments_lexer": "ipython3",
   "version": "3.9.0"
  },
  "metadata": {
   "interpreter": {
    "hash": "31f2aee4e71d21fbe5cf8b01ff0e069b9275f58929596ceb00d14d90e3e16cd6"
   }
  },
  "orig_nbformat": 2
 },
 "nbformat": 4,
 "nbformat_minor": 2
}
