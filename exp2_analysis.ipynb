{
 "cells": [
  {
   "cell_type": "markdown",
   "metadata": {},
   "source": [
    "# Experiment 2\n",
    "\n",
    "*Hypothesis*: for the same per-agent probing budget, allocating prefixes to agents based on an adaptive approach\n",
    "(with the possibility of a prefix to be probed from any number from 0 to n agents)\n",
    "will allow more to be discovered than allocating prefixes to agents randomly (with each prefix being probed from precisely one agent)."
   ]
  },
  {
   "cell_type": "code",
   "execution_count": 1,
   "metadata": {},
   "outputs": [],
   "source": [
    "# When running outside of a poetry virtual environment (e.g. Binder):\n",
    "import sys; sys.path.append(\"zeph\")"
   ]
  },
  {
   "cell_type": "code",
   "execution_count": 2,
   "metadata": {},
   "outputs": [],
   "source": [
    "from pathlib import Path\n",
    "\n",
    "\n",
    "exp_dir = Path(\"./resources/data/measurements/exp2/\")\n",
    "\n",
    "with (exp_dir / \"zeph.txt\").open(\"r\") as fd:\n",
    "    zeph_uuids = [uuid.strip() for uuid in fd.readlines()]\n",
    "with (exp_dir / \"exploration.txt\").open(\"r\") as fd:\n",
    "    exploration_uuids = [uuid.strip() for uuid in fd.readlines()]\n",
    "with (exp_dir / \"constrained_exploration.txt\").open(\"r\") as fd:\n",
    "    constrained_exploration_uuids = [uuid.strip() for uuid in fd.readlines()]\n",
    "with (exp_dir / \"constrained_zeph.txt\").open(\"r\") as fd:\n",
    "    constrained_zeph_uuids = [uuid.strip() for uuid in fd.readlines()]"
   ]
  },
  {
   "cell_type": "code",
   "execution_count": 3,
   "metadata": {},
   "outputs": [],
   "source": [
    "# Get Iris API / database credentials\n",
    "import json\n",
    "from zeph.drivers import create_auth_header, get_database_url\n",
    "\n",
    "config = json.load(open(\"config.json\"))\n",
    "headers = create_auth_header(config[\"iris_url\"], config[\"iris_username\"], config[\"iris_password\"])\n",
    "database_url = get_database_url(config[\"iris_url\"], headers)"
   ]
  },
  {
   "cell_type": "markdown",
   "metadata": {},
   "source": [
    "## Links"
   ]
  },
  {
   "cell_type": "code",
   "execution_count": 13,
   "metadata": {},
   "outputs": [],
   "source": [
    "from diamond_miner.queries import GetLinks\n",
    "from zeph.drivers import get_previous_measurement_agents\n",
    "\n",
    "def sanitize_uuid(uuid):\n",
    "    return str(uuid).replace(\"-\", \"_\")\n",
    "\n",
    "\n",
    "def get_links(measurement_uuid):\n",
    "    agents_uuid = get_previous_measurement_agents(config[\"iris_url\"], measurement_uuid, headers)\n",
    "    \n",
    "    distinct_links = set()\n",
    "    for agent_uuid in agents_uuid:\n",
    "        measurement_id = sanitize_uuid(measurement_uuid) + \"__\" + sanitize_uuid(agent_uuid)\n",
    "        for link in GetLinks().execute_iter(database_url, measurement_id):\n",
    "            distinct_links.add((link[\"near_addr\"], link[\"far_addr\"])) \n",
    "    return distinct_links"
   ]
  },
  {
   "cell_type": "code",
   "execution_count": 14,
   "metadata": {},
   "outputs": [
    {
     "data": {
      "text/html": [
       "<pre style=\"white-space:pre;overflow-x:auto;line-height:normal;font-family:Menlo,'DejaVu Sans Mono',consolas,'Courier New',monospace\"><span style=\"font-weight: bold\">[</span><span style=\"color: #008080; text-decoration-color: #008080; font-weight: bold\">1312411</span>, <span style=\"color: #008080; text-decoration-color: #008080; font-weight: bold\">1643748</span>, <span style=\"color: #008080; text-decoration-color: #008080; font-weight: bold\">1776420</span>, <span style=\"color: #008080; text-decoration-color: #008080; font-weight: bold\">1862660</span>, <span style=\"color: #008080; text-decoration-color: #008080; font-weight: bold\">1906901</span>, <span style=\"color: #008080; text-decoration-color: #008080; font-weight: bold\">1932468</span>, <span style=\"color: #008080; text-decoration-color: #008080; font-weight: bold\">1953851</span>, <span style=\"color: #008080; text-decoration-color: #008080; font-weight: bold\">1940732</span>, <span style=\"color: #008080; text-decoration-color: #008080; font-weight: bold\">1934102</span>, <span style=\"color: #008080; text-decoration-color: #008080; font-weight: bold\">1975131</span><span style=\"font-weight: bold\">]</span>\n",
       "</pre>\n"
      ],
      "text/plain": [
       "\u001b[1m[\u001b[0m\u001b[1;36m1312411\u001b[0m, \u001b[1;36m1643748\u001b[0m, \u001b[1;36m1776420\u001b[0m, \u001b[1;36m1862660\u001b[0m, \u001b[1;36m1906901\u001b[0m, \u001b[1;36m1932468\u001b[0m, \u001b[1;36m1953851\u001b[0m, \u001b[1;36m1940732\u001b[0m, \u001b[1;36m1934102\u001b[0m, \u001b[1;36m1975131\u001b[0m\u001b[1m]\u001b[0m\n"
      ]
     },
     "metadata": {},
     "output_type": "display_data"
    },
    {
     "data": {
      "text/html": [
       "<pre style=\"white-space:pre;overflow-x:auto;line-height:normal;font-family:Menlo,'DejaVu Sans Mono',consolas,'Courier New',monospace\"><span style=\"font-weight: bold\">[</span><span style=\"color: #008080; text-decoration-color: #008080; font-weight: bold\">1309661</span>, <span style=\"color: #008080; text-decoration-color: #008080; font-weight: bold\">1278711</span>, <span style=\"color: #008080; text-decoration-color: #008080; font-weight: bold\">1301691</span>, <span style=\"color: #008080; text-decoration-color: #008080; font-weight: bold\">1282089</span>, <span style=\"color: #008080; text-decoration-color: #008080; font-weight: bold\">1285787</span>, <span style=\"color: #008080; text-decoration-color: #008080; font-weight: bold\">1273213</span>, <span style=\"color: #008080; text-decoration-color: #008080; font-weight: bold\">1250004</span>, <span style=\"color: #008080; text-decoration-color: #008080; font-weight: bold\">1257523</span>, <span style=\"color: #008080; text-decoration-color: #008080; font-weight: bold\">1271269</span>, <span style=\"color: #008080; text-decoration-color: #008080; font-weight: bold\">1306999</span><span style=\"font-weight: bold\">]</span>\n",
       "</pre>\n"
      ],
      "text/plain": [
       "\u001b[1m[\u001b[0m\u001b[1;36m1309661\u001b[0m, \u001b[1;36m1278711\u001b[0m, \u001b[1;36m1301691\u001b[0m, \u001b[1;36m1282089\u001b[0m, \u001b[1;36m1285787\u001b[0m, \u001b[1;36m1273213\u001b[0m, \u001b[1;36m1250004\u001b[0m, \u001b[1;36m1257523\u001b[0m, \u001b[1;36m1271269\u001b[0m, \u001b[1;36m1306999\u001b[0m\u001b[1m]\u001b[0m\n"
      ]
     },
     "metadata": {},
     "output_type": "display_data"
    },
    {
     "data": {
      "text/html": [
       "<pre style=\"white-space:pre;overflow-x:auto;line-height:normal;font-family:Menlo,'DejaVu Sans Mono',consolas,'Courier New',monospace\"><span style=\"font-weight: bold\">[</span><span style=\"color: #008080; text-decoration-color: #008080; font-weight: bold\">1397572</span>, <span style=\"color: #008080; text-decoration-color: #008080; font-weight: bold\">1386996</span>, <span style=\"color: #008080; text-decoration-color: #008080; font-weight: bold\">1376577</span>, <span style=\"color: #008080; text-decoration-color: #008080; font-weight: bold\">1375248</span>, <span style=\"color: #008080; text-decoration-color: #008080; font-weight: bold\">1354416</span>, <span style=\"color: #008080; text-decoration-color: #008080; font-weight: bold\">1357908</span>, <span style=\"color: #008080; text-decoration-color: #008080; font-weight: bold\">1346312</span>, <span style=\"color: #008080; text-decoration-color: #008080; font-weight: bold\">1344087</span>, <span style=\"color: #008080; text-decoration-color: #008080; font-weight: bold\">1341361</span>, <span style=\"color: #008080; text-decoration-color: #008080; font-weight: bold\">1382974</span><span style=\"font-weight: bold\">]</span>\n",
       "</pre>\n"
      ],
      "text/plain": [
       "\u001b[1m[\u001b[0m\u001b[1;36m1397572\u001b[0m, \u001b[1;36m1386996\u001b[0m, \u001b[1;36m1376577\u001b[0m, \u001b[1;36m1375248\u001b[0m, \u001b[1;36m1354416\u001b[0m, \u001b[1;36m1357908\u001b[0m, \u001b[1;36m1346312\u001b[0m, \u001b[1;36m1344087\u001b[0m, \u001b[1;36m1341361\u001b[0m, \u001b[1;36m1382974\u001b[0m\u001b[1m]\u001b[0m\n"
      ]
     },
     "metadata": {},
     "output_type": "display_data"
    },
    {
     "data": {
      "text/html": [
       "<pre style=\"white-space:pre;overflow-x:auto;line-height:normal;font-family:Menlo,'DejaVu Sans Mono',consolas,'Courier New',monospace\"><span style=\"font-weight: bold\">[</span><span style=\"color: #008080; text-decoration-color: #008080; font-weight: bold\">1459864</span>, <span style=\"color: #008080; text-decoration-color: #008080; font-weight: bold\">1594706</span>, <span style=\"color: #008080; text-decoration-color: #008080; font-weight: bold\">1630338</span>, <span style=\"color: #008080; text-decoration-color: #008080; font-weight: bold\">1658091</span>, <span style=\"color: #008080; text-decoration-color: #008080; font-weight: bold\">1647807</span>, <span style=\"color: #008080; text-decoration-color: #008080; font-weight: bold\">1654716</span>, <span style=\"color: #008080; text-decoration-color: #008080; font-weight: bold\">1630776</span>, <span style=\"color: #008080; text-decoration-color: #008080; font-weight: bold\">1610196</span>, <span style=\"color: #008080; text-decoration-color: #008080; font-weight: bold\">1647522</span>, <span style=\"color: #008080; text-decoration-color: #008080; font-weight: bold\">1649087</span><span style=\"font-weight: bold\">]</span>\n",
       "</pre>\n"
      ],
      "text/plain": [
       "\u001b[1m[\u001b[0m\u001b[1;36m1459864\u001b[0m, \u001b[1;36m1594706\u001b[0m, \u001b[1;36m1630338\u001b[0m, \u001b[1;36m1658091\u001b[0m, \u001b[1;36m1647807\u001b[0m, \u001b[1;36m1654716\u001b[0m, \u001b[1;36m1630776\u001b[0m, \u001b[1;36m1610196\u001b[0m, \u001b[1;36m1647522\u001b[0m, \u001b[1;36m1649087\u001b[0m\u001b[1m]\u001b[0m\n"
      ]
     },
     "metadata": {},
     "output_type": "display_data"
    }
   ],
   "source": [
    "# Estimated computing time: ~4 minutes\n",
    "\n",
    "zeph_n_links = []\n",
    "for uuid in zeph_uuids:\n",
    "    zeph_n_links.append(len(get_links(uuid)))\n",
    "exploration_n_links = []\n",
    "for uuid in exploration_uuids:\n",
    "    exploration_n_links.append(len(get_links(uuid)))\n",
    "constrained_exploration_n_links = []\n",
    "for uuid in constrained_exploration_uuids:\n",
    "    constrained_exploration_n_links.append(len(get_links(uuid)))\n",
    "constrained_zeph_n_links = []\n",
    "for uuid in constrained_zeph_uuids:\n",
    "    constrained_zeph_n_links.append(len(get_links(uuid)))\n",
    "\n",
    "print(zeph_n_links)\n",
    "print(exploration_n_links)\n",
    "print(constrained_exploration_n_links)\n",
    "print(constrained_zeph_n_links)"
   ]
  },
  {
   "cell_type": "code",
   "execution_count": 15,
   "metadata": {},
   "outputs": [
    {
     "data": {
      "text/html": [
       "<pre style=\"white-space:pre;overflow-x:auto;line-height:normal;font-family:Menlo,'DejaVu Sans Mono',consolas,'Courier New',monospace\"><span style=\"font-weight: bold\">&lt;</span><span style=\"color: #ff00ff; text-decoration-color: #ff00ff; font-weight: bold\">Figure</span><span style=\"color: #000000; text-decoration-color: #000000\"> size 432x288 with </span><span style=\"color: #008080; text-decoration-color: #008080; font-weight: bold\">1</span><span style=\"color: #000000; text-decoration-color: #000000\"> Axes</span><span style=\"font-weight: bold\">&gt;</span>\n",
       "</pre>\n"
      ],
      "text/plain": [
       "\u001b[1m<\u001b[0m\u001b[1;95mFigure\u001b[0m\u001b[39m size 432x288 with \u001b[0m\u001b[1;36m1\u001b[0m\u001b[39m Axes\u001b[0m\u001b[1m>\u001b[0m\n"
      ]
     },
     "metadata": {},
     "output_type": "display_data"
    },
    {
     "data": {
      "image/png": "[encoded data removed]"
     },
     "metadata": {
      "needs_background": "light"
     },
     "output_type": "display_data"
    }
   ],
   "source": [
    "import matplotlib.pyplot as plt\n",
    "import matplotlib.ticker as ticker\n",
    "import pandas as pd\n",
    "import seaborn as sns\n",
    "\n",
    "data = pd.DataFrame({\n",
    "    \"Zeph\": zeph_n_links,\n",
    "    \"Constrained Zeph\": constrained_zeph_n_links,\n",
    "    \"Constrained exploration\": constrained_exploration_n_links,\n",
    "    \"Exploration\": exploration_n_links,\n",
    "})\n",
    "\n",
    "ax = sns.lineplot(data=data)\n",
    "\n",
    "ax.set(xlabel=\"Cycles\", ylabel=\"Number of distinct links\")\n",
    "ax.set(ylim=(0, 2_500_000))\n",
    "\n",
    "ax.xaxis.set_major_locator(ticker.FixedLocator(range(0, 10)))\n",
    "ax.xaxis.set_major_formatter(ticker.FixedFormatter(range(1, 11)))\n",
    "ax.grid()\n",
    "\n",
    "plt.tight_layout()\n",
    "plt.savefig(\"./resources/figures/exp2_links.pdf\")\n",
    "plt.show()"
   ]
  },
  {
   "cell_type": "markdown",
   "metadata": {},
   "source": [
    "## Nodes"
   ]
  },
  {
   "cell_type": "code",
   "execution_count": 16,
   "metadata": {},
   "outputs": [],
   "source": [
    "from diamond_miner.queries import GetNodes\n",
    "\n",
    "def get_nodes(measurement_uuid):\n",
    "    agents_uuid = get_previous_measurement_agents(config[\"iris_url\"], measurement_uuid, headers)\n",
    "    \n",
    "    distinct_nodes = set()\n",
    "    for agent_uuid in agents_uuid:\n",
    "        measurement_id = sanitize_uuid(measurement_uuid) + \"__\" + sanitize_uuid(agent_uuid)\n",
    "        for node in GetNodes().execute_iter(database_url, measurement_id):\n",
    "            distinct_nodes.add(node[\"reply_src_addr\"]) \n",
    "    return distinct_nodes"
   ]
  },
  {
   "cell_type": "code",
   "execution_count": 17,
   "metadata": {},
   "outputs": [
    {
     "data": {
      "text/html": [
       "<pre style=\"white-space:pre;overflow-x:auto;line-height:normal;font-family:Menlo,'DejaVu Sans Mono',consolas,'Courier New',monospace\"><span style=\"font-weight: bold\">[</span><span style=\"color: #008080; text-decoration-color: #008080; font-weight: bold\">673757</span>, <span style=\"color: #008080; text-decoration-color: #008080; font-weight: bold\">795182</span>, <span style=\"color: #008080; text-decoration-color: #008080; font-weight: bold\">844494</span>, <span style=\"color: #008080; text-decoration-color: #008080; font-weight: bold\">869081</span>, <span style=\"color: #008080; text-decoration-color: #008080; font-weight: bold\">879816</span>, <span style=\"color: #008080; text-decoration-color: #008080; font-weight: bold\">891045</span>, <span style=\"color: #008080; text-decoration-color: #008080; font-weight: bold\">898327</span>, <span style=\"color: #008080; text-decoration-color: #008080; font-weight: bold\">900541</span>, <span style=\"color: #008080; text-decoration-color: #008080; font-weight: bold\">897402</span>, <span style=\"color: #008080; text-decoration-color: #008080; font-weight: bold\">902202</span><span style=\"font-weight: bold\">]</span>\n",
       "</pre>\n"
      ],
      "text/plain": [
       "\u001b[1m[\u001b[0m\u001b[1;36m673757\u001b[0m, \u001b[1;36m795182\u001b[0m, \u001b[1;36m844494\u001b[0m, \u001b[1;36m869081\u001b[0m, \u001b[1;36m879816\u001b[0m, \u001b[1;36m891045\u001b[0m, \u001b[1;36m898327\u001b[0m, \u001b[1;36m900541\u001b[0m, \u001b[1;36m897402\u001b[0m, \u001b[1;36m902202\u001b[0m\u001b[1m]\u001b[0m\n"
      ]
     },
     "metadata": {},
     "output_type": "display_data"
    },
    {
     "data": {
      "text/html": [
       "<pre style=\"white-space:pre;overflow-x:auto;line-height:normal;font-family:Menlo,'DejaVu Sans Mono',consolas,'Courier New',monospace\"><span style=\"font-weight: bold\">[</span><span style=\"color: #008080; text-decoration-color: #008080; font-weight: bold\">675544</span>, <span style=\"color: #008080; text-decoration-color: #008080; font-weight: bold\">668039</span>, <span style=\"color: #008080; text-decoration-color: #008080; font-weight: bold\">678249</span>, <span style=\"color: #008080; text-decoration-color: #008080; font-weight: bold\">677574</span>, <span style=\"color: #008080; text-decoration-color: #008080; font-weight: bold\">672336</span>, <span style=\"color: #008080; text-decoration-color: #008080; font-weight: bold\">672963</span>, <span style=\"color: #008080; text-decoration-color: #008080; font-weight: bold\">664330</span>, <span style=\"color: #008080; text-decoration-color: #008080; font-weight: bold\">669018</span>, <span style=\"color: #008080; text-decoration-color: #008080; font-weight: bold\">672298</span>, <span style=\"color: #008080; text-decoration-color: #008080; font-weight: bold\">681980</span><span style=\"font-weight: bold\">]</span>\n",
       "</pre>\n"
      ],
      "text/plain": [
       "\u001b[1m[\u001b[0m\u001b[1;36m675544\u001b[0m, \u001b[1;36m668039\u001b[0m, \u001b[1;36m678249\u001b[0m, \u001b[1;36m677574\u001b[0m, \u001b[1;36m672336\u001b[0m, \u001b[1;36m672963\u001b[0m, \u001b[1;36m664330\u001b[0m, \u001b[1;36m669018\u001b[0m, \u001b[1;36m672298\u001b[0m, \u001b[1;36m681980\u001b[0m\u001b[1m]\u001b[0m\n"
      ]
     },
     "metadata": {},
     "output_type": "display_data"
    },
    {
     "data": {
      "text/html": [
       "<pre style=\"white-space:pre;overflow-x:auto;line-height:normal;font-family:Menlo,'DejaVu Sans Mono',consolas,'Courier New',monospace\"><span style=\"font-weight: bold\">[</span><span style=\"color: #008080; text-decoration-color: #008080; font-weight: bold\">762047</span>, <span style=\"color: #008080; text-decoration-color: #008080; font-weight: bold\">761299</span>, <span style=\"color: #008080; text-decoration-color: #008080; font-weight: bold\">760511</span>, <span style=\"color: #008080; text-decoration-color: #008080; font-weight: bold\">760283</span>, <span style=\"color: #008080; text-decoration-color: #008080; font-weight: bold\">752976</span>, <span style=\"color: #008080; text-decoration-color: #008080; font-weight: bold\">756630</span>, <span style=\"color: #008080; text-decoration-color: #008080; font-weight: bold\">753301</span>, <span style=\"color: #008080; text-decoration-color: #008080; font-weight: bold\">753104</span>, <span style=\"color: #008080; text-decoration-color: #008080; font-weight: bold\">752812</span>, <span style=\"color: #008080; text-decoration-color: #008080; font-weight: bold\">760171</span><span style=\"font-weight: bold\">]</span>\n",
       "</pre>\n"
      ],
      "text/plain": [
       "\u001b[1m[\u001b[0m\u001b[1;36m762047\u001b[0m, \u001b[1;36m761299\u001b[0m, \u001b[1;36m760511\u001b[0m, \u001b[1;36m760283\u001b[0m, \u001b[1;36m752976\u001b[0m, \u001b[1;36m756630\u001b[0m, \u001b[1;36m753301\u001b[0m, \u001b[1;36m753104\u001b[0m, \u001b[1;36m752812\u001b[0m, \u001b[1;36m760171\u001b[0m\u001b[1m]\u001b[0m\n"
      ]
     },
     "metadata": {},
     "output_type": "display_data"
    },
    {
     "data": {
      "text/html": [
       "<pre style=\"white-space:pre;overflow-x:auto;line-height:normal;font-family:Menlo,'DejaVu Sans Mono',consolas,'Courier New',monospace\"><span style=\"font-weight: bold\">[</span><span style=\"color: #008080; text-decoration-color: #008080; font-weight: bold\">776749</span>, <span style=\"color: #008080; text-decoration-color: #008080; font-weight: bold\">827574</span>, <span style=\"color: #008080; text-decoration-color: #008080; font-weight: bold\">841899</span>, <span style=\"color: #008080; text-decoration-color: #008080; font-weight: bold\">848152</span>, <span style=\"color: #008080; text-decoration-color: #008080; font-weight: bold\">850241</span>, <span style=\"color: #008080; text-decoration-color: #008080; font-weight: bold\">852302</span>, <span style=\"color: #008080; text-decoration-color: #008080; font-weight: bold\">848357</span>, <span style=\"color: #008080; text-decoration-color: #008080; font-weight: bold\">845145</span>, <span style=\"color: #008080; text-decoration-color: #008080; font-weight: bold\">849889</span>, <span style=\"color: #008080; text-decoration-color: #008080; font-weight: bold\">849600</span><span style=\"font-weight: bold\">]</span>\n",
       "</pre>\n"
      ],
      "text/plain": [
       "\u001b[1m[\u001b[0m\u001b[1;36m776749\u001b[0m, \u001b[1;36m827574\u001b[0m, \u001b[1;36m841899\u001b[0m, \u001b[1;36m848152\u001b[0m, \u001b[1;36m850241\u001b[0m, \u001b[1;36m852302\u001b[0m, \u001b[1;36m848357\u001b[0m, \u001b[1;36m845145\u001b[0m, \u001b[1;36m849889\u001b[0m, \u001b[1;36m849600\u001b[0m\u001b[1m]\u001b[0m\n"
      ]
     },
     "metadata": {},
     "output_type": "display_data"
    }
   ],
   "source": [
    "# Estimated computing time: ~2 minutes\n",
    "\n",
    "zeph_n_nodes = []\n",
    "for uuid in zeph_uuids:\n",
    "    zeph_n_nodes.append(len(get_nodes(uuid.strip())))\n",
    "exploration_n_nodes = []\n",
    "for uuid in exploration_uuids:\n",
    "    exploration_n_nodes.append(len(get_nodes(uuid.strip())))\n",
    "constrained_exploration_n_nodes = []\n",
    "for uuid in constrained_exploration_uuids:\n",
    "    constrained_exploration_n_nodes.append(len(get_nodes(uuid.strip())))\n",
    "constrained_zeph_n_nodes = []\n",
    "for uuid in constrained_zeph_uuids:\n",
    "    constrained_zeph_n_nodes.append(len(get_nodes(uuid.strip())))\n",
    "\n",
    "print(zeph_n_nodes)\n",
    "print(exploration_n_nodes)\n",
    "print(constrained_exploration_n_nodes)\n",
    "print(constrained_zeph_n_nodes)"
   ]
  },
  {
   "cell_type": "code",
   "execution_count": 18,
   "metadata": {},
   "outputs": [
    {
     "data": {
      "text/html": [
       "<pre style=\"white-space:pre;overflow-x:auto;line-height:normal;font-family:Menlo,'DejaVu Sans Mono',consolas,'Courier New',monospace\"><span style=\"font-weight: bold\">&lt;</span><span style=\"color: #ff00ff; text-decoration-color: #ff00ff; font-weight: bold\">Figure</span><span style=\"color: #000000; text-decoration-color: #000000\"> size 432x288 with </span><span style=\"color: #008080; text-decoration-color: #008080; font-weight: bold\">1</span><span style=\"color: #000000; text-decoration-color: #000000\"> Axes</span><span style=\"font-weight: bold\">&gt;</span>\n",
       "</pre>\n"
      ],
      "text/plain": [
       "\u001b[1m<\u001b[0m\u001b[1;95mFigure\u001b[0m\u001b[39m size 432x288 with \u001b[0m\u001b[1;36m1\u001b[0m\u001b[39m Axes\u001b[0m\u001b[1m>\u001b[0m\n"
      ]
     },
     "metadata": {},
     "output_type": "display_data"
    },
    {
     "data": {
      "image/png": "[encoded data removed]"
     },
     "metadata": {
      "needs_background": "light"
     },
     "output_type": "display_data"
    }
   ],
   "source": [
    "import matplotlib.pyplot as plt\n",
    "import matplotlib.ticker as ticker\n",
    "import pandas as pd\n",
    "import seaborn as sns\n",
    "\n",
    "data = pd.DataFrame({\n",
    "    \"Zeph\": zeph_n_nodes,\n",
    "    \"Constrained Zeph\": constrained_zeph_n_nodes,  \n",
    "    \"Constrained exploration\": constrained_exploration_n_nodes,\n",
    "    \"Exploration\": exploration_n_nodes,\n",
    "})\n",
    "\n",
    "ax = sns.lineplot(data=data)\n",
    "\n",
    "ax.set(xlabel=\"Cycles\", ylabel=\"Number of distinct nodes\")\n",
    "ax.set(ylim=(0, 1_200_000))\n",
    "\n",
    "ax.xaxis.set_major_locator(ticker.FixedLocator(range(0, 10)))\n",
    "ax.xaxis.set_major_formatter(ticker.FixedFormatter(range(1, 11)))\n",
    "ax.grid()\n",
    "\n",
    "plt.tight_layout()\n",
    "plt.savefig(\"./resources/figures/exp2_nodes.pdf\")\n",
    "plt.show()"
   ]
  },
  {
   "cell_type": "markdown",
   "metadata": {},
   "source": [
    "## Probes"
   ]
  },
  {
   "cell_type": "code",
   "execution_count": 20,
   "metadata": {},
   "outputs": [],
   "source": [
    "import requests \n",
    "\n",
    "def get_statistic(measurement_uuid, statistic):    \n",
    "    data = requests.get(config[\"iris_url\"] + f\"/measurements/{measurement_uuid}\", headers=headers)\n",
    "\n",
    "    packets_sent = 0\n",
    "    for agent in data.json()[\"agents\"]:\n",
    "        for probing_round in agent[\"probing_statistics\"].values():\n",
    "            packets_sent += probing_round.get(statistic, 0)\n",
    "    return packets_sent"
   ]
  },
  {
   "cell_type": "code",
   "execution_count": 21,
   "metadata": {},
   "outputs": [
    {
     "data": {
      "text/html": [
       "<pre style=\"white-space:pre;overflow-x:auto;line-height:normal;font-family:Menlo,'DejaVu Sans Mono',consolas,'Courier New',monospace\"><span style=\"font-weight: bold\">[</span>\n",
       "    <span style=\"color: #008080; text-decoration-color: #008080; font-weight: bold\">297035375</span>,\n",
       "    <span style=\"color: #008080; text-decoration-color: #008080; font-weight: bold\">297035375</span>,\n",
       "    <span style=\"color: #008080; text-decoration-color: #008080; font-weight: bold\">297035375</span>,\n",
       "    <span style=\"color: #008080; text-decoration-color: #008080; font-weight: bold\">297035375</span>,\n",
       "    <span style=\"color: #008080; text-decoration-color: #008080; font-weight: bold\">297035375</span>,\n",
       "    <span style=\"color: #008080; text-decoration-color: #008080; font-weight: bold\">297035375</span>,\n",
       "    <span style=\"color: #008080; text-decoration-color: #008080; font-weight: bold\">297035375</span>,\n",
       "    <span style=\"color: #008080; text-decoration-color: #008080; font-weight: bold\">297035375</span>,\n",
       "    <span style=\"color: #008080; text-decoration-color: #008080; font-weight: bold\">297035375</span>,\n",
       "    <span style=\"color: #008080; text-decoration-color: #008080; font-weight: bold\">297035375</span>\n",
       "<span style=\"font-weight: bold\">]</span>\n",
       "</pre>\n"
      ],
      "text/plain": [
       "\u001b[1m[\u001b[0m\n",
       "    \u001b[1;36m297035375\u001b[0m,\n",
       "    \u001b[1;36m297035375\u001b[0m,\n",
       "    \u001b[1;36m297035375\u001b[0m,\n",
       "    \u001b[1;36m297035375\u001b[0m,\n",
       "    \u001b[1;36m297035375\u001b[0m,\n",
       "    \u001b[1;36m297035375\u001b[0m,\n",
       "    \u001b[1;36m297035375\u001b[0m,\n",
       "    \u001b[1;36m297035375\u001b[0m,\n",
       "    \u001b[1;36m297035375\u001b[0m,\n",
       "    \u001b[1;36m297035375\u001b[0m\n",
       "\u001b[1m]\u001b[0m\n"
      ]
     },
     "metadata": {},
     "output_type": "display_data"
    },
    {
     "data": {
      "text/html": [
       "<pre style=\"white-space:pre;overflow-x:auto;line-height:normal;font-family:Menlo,'DejaVu Sans Mono',consolas,'Courier New',monospace\"><span style=\"font-weight: bold\">[</span>\n",
       "    <span style=\"color: #008080; text-decoration-color: #008080; font-weight: bold\">297035375</span>,\n",
       "    <span style=\"color: #008080; text-decoration-color: #008080; font-weight: bold\">297035375</span>,\n",
       "    <span style=\"color: #008080; text-decoration-color: #008080; font-weight: bold\">297035375</span>,\n",
       "    <span style=\"color: #008080; text-decoration-color: #008080; font-weight: bold\">297035375</span>,\n",
       "    <span style=\"color: #008080; text-decoration-color: #008080; font-weight: bold\">297035375</span>,\n",
       "    <span style=\"color: #008080; text-decoration-color: #008080; font-weight: bold\">297035375</span>,\n",
       "    <span style=\"color: #008080; text-decoration-color: #008080; font-weight: bold\">297035375</span>,\n",
       "    <span style=\"color: #008080; text-decoration-color: #008080; font-weight: bold\">297035375</span>,\n",
       "    <span style=\"color: #008080; text-decoration-color: #008080; font-weight: bold\">297035375</span>,\n",
       "    <span style=\"color: #008080; text-decoration-color: #008080; font-weight: bold\">297035375</span>\n",
       "<span style=\"font-weight: bold\">]</span>\n",
       "</pre>\n"
      ],
      "text/plain": [
       "\u001b[1m[\u001b[0m\n",
       "    \u001b[1;36m297035375\u001b[0m,\n",
       "    \u001b[1;36m297035375\u001b[0m,\n",
       "    \u001b[1;36m297035375\u001b[0m,\n",
       "    \u001b[1;36m297035375\u001b[0m,\n",
       "    \u001b[1;36m297035375\u001b[0m,\n",
       "    \u001b[1;36m297035375\u001b[0m,\n",
       "    \u001b[1;36m297035375\u001b[0m,\n",
       "    \u001b[1;36m297035375\u001b[0m,\n",
       "    \u001b[1;36m297035375\u001b[0m,\n",
       "    \u001b[1;36m297035375\u001b[0m\n",
       "\u001b[1m]\u001b[0m\n"
      ]
     },
     "metadata": {},
     "output_type": "display_data"
    },
    {
     "data": {
      "text/html": [
       "<pre style=\"white-space:pre;overflow-x:auto;line-height:normal;font-family:Menlo,'DejaVu Sans Mono',consolas,'Courier New',monospace\"><span style=\"font-weight: bold\">[</span>\n",
       "    <span style=\"color: #008080; text-decoration-color: #008080; font-weight: bold\">297035375</span>,\n",
       "    <span style=\"color: #008080; text-decoration-color: #008080; font-weight: bold\">297035375</span>,\n",
       "    <span style=\"color: #008080; text-decoration-color: #008080; font-weight: bold\">297035375</span>,\n",
       "    <span style=\"color: #008080; text-decoration-color: #008080; font-weight: bold\">297035375</span>,\n",
       "    <span style=\"color: #008080; text-decoration-color: #008080; font-weight: bold\">297035375</span>,\n",
       "    <span style=\"color: #008080; text-decoration-color: #008080; font-weight: bold\">297035375</span>,\n",
       "    <span style=\"color: #008080; text-decoration-color: #008080; font-weight: bold\">297035375</span>,\n",
       "    <span style=\"color: #008080; text-decoration-color: #008080; font-weight: bold\">297035375</span>,\n",
       "    <span style=\"color: #008080; text-decoration-color: #008080; font-weight: bold\">297035375</span>,\n",
       "    <span style=\"color: #008080; text-decoration-color: #008080; font-weight: bold\">297035375</span>\n",
       "<span style=\"font-weight: bold\">]</span>\n",
       "</pre>\n"
      ],
      "text/plain": [
       "\u001b[1m[\u001b[0m\n",
       "    \u001b[1;36m297035375\u001b[0m,\n",
       "    \u001b[1;36m297035375\u001b[0m,\n",
       "    \u001b[1;36m297035375\u001b[0m,\n",
       "    \u001b[1;36m297035375\u001b[0m,\n",
       "    \u001b[1;36m297035375\u001b[0m,\n",
       "    \u001b[1;36m297035375\u001b[0m,\n",
       "    \u001b[1;36m297035375\u001b[0m,\n",
       "    \u001b[1;36m297035375\u001b[0m,\n",
       "    \u001b[1;36m297035375\u001b[0m,\n",
       "    \u001b[1;36m297035375\u001b[0m\n",
       "\u001b[1m]\u001b[0m\n"
      ]
     },
     "metadata": {},
     "output_type": "display_data"
    },
    {
     "data": {
      "text/html": [
       "<pre style=\"white-space:pre;overflow-x:auto;line-height:normal;font-family:Menlo,'DejaVu Sans Mono',consolas,'Courier New',monospace\"><span style=\"font-weight: bold\">[</span>\n",
       "    <span style=\"color: #008080; text-decoration-color: #008080; font-weight: bold\">297035375</span>,\n",
       "    <span style=\"color: #008080; text-decoration-color: #008080; font-weight: bold\">297035375</span>,\n",
       "    <span style=\"color: #008080; text-decoration-color: #008080; font-weight: bold\">297035375</span>,\n",
       "    <span style=\"color: #008080; text-decoration-color: #008080; font-weight: bold\">297035375</span>,\n",
       "    <span style=\"color: #008080; text-decoration-color: #008080; font-weight: bold\">297035375</span>,\n",
       "    <span style=\"color: #008080; text-decoration-color: #008080; font-weight: bold\">297035375</span>,\n",
       "    <span style=\"color: #008080; text-decoration-color: #008080; font-weight: bold\">297035375</span>,\n",
       "    <span style=\"color: #008080; text-decoration-color: #008080; font-weight: bold\">297035375</span>,\n",
       "    <span style=\"color: #008080; text-decoration-color: #008080; font-weight: bold\">297035375</span>,\n",
       "    <span style=\"color: #008080; text-decoration-color: #008080; font-weight: bold\">297035375</span>\n",
       "<span style=\"font-weight: bold\">]</span>\n",
       "</pre>\n"
      ],
      "text/plain": [
       "\u001b[1m[\u001b[0m\n",
       "    \u001b[1;36m297035375\u001b[0m,\n",
       "    \u001b[1;36m297035375\u001b[0m,\n",
       "    \u001b[1;36m297035375\u001b[0m,\n",
       "    \u001b[1;36m297035375\u001b[0m,\n",
       "    \u001b[1;36m297035375\u001b[0m,\n",
       "    \u001b[1;36m297035375\u001b[0m,\n",
       "    \u001b[1;36m297035375\u001b[0m,\n",
       "    \u001b[1;36m297035375\u001b[0m,\n",
       "    \u001b[1;36m297035375\u001b[0m,\n",
       "    \u001b[1;36m297035375\u001b[0m\n",
       "\u001b[1m]\u001b[0m\n"
      ]
     },
     "metadata": {},
     "output_type": "display_data"
    }
   ],
   "source": [
    "zeph_n_probes = []\n",
    "for uuid in zeph_uuids:\n",
    "    zeph_n_probes.append(get_statistic(uuid, \"packets_sent\"))\n",
    "exploration_n_probes = []\n",
    "for uuid in exploration_uuids:\n",
    "    exploration_n_probes.append(get_statistic(uuid, \"packets_sent\"))\n",
    "constrained_exploration_n_probes = []\n",
    "for uuid in constrained_exploration_uuids:\n",
    "    constrained_exploration_n_probes.append(get_statistic(uuid, \"packets_sent\"))\n",
    "constrained_zeph_n_probes = []\n",
    "for uuid in constrained_zeph_uuids:\n",
    "    constrained_zeph_n_probes.append(get_statistic(uuid, \"packets_sent\"))\n",
    "\n",
    "print(zeph_n_probes)\n",
    "print(exploration_n_probes)\n",
    "print(constrained_exploration_n_probes)\n",
    "print(constrained_zeph_n_probes)"
   ]
  },
  {
   "cell_type": "code",
   "execution_count": 22,
   "metadata": {},
   "outputs": [
    {
     "data": {
      "text/html": [
       "<pre style=\"white-space:pre;overflow-x:auto;line-height:normal;font-family:Menlo,'DejaVu Sans Mono',consolas,'Courier New',monospace\"><span style=\"font-weight: bold\">&lt;</span><span style=\"color: #ff00ff; text-decoration-color: #ff00ff; font-weight: bold\">Figure</span><span style=\"color: #000000; text-decoration-color: #000000\"> size 432x288 with </span><span style=\"color: #008080; text-decoration-color: #008080; font-weight: bold\">1</span><span style=\"color: #000000; text-decoration-color: #000000\"> Axes</span><span style=\"font-weight: bold\">&gt;</span>\n",
       "</pre>\n"
      ],
      "text/plain": [
       "\u001b[1m<\u001b[0m\u001b[1;95mFigure\u001b[0m\u001b[39m size 432x288 with \u001b[0m\u001b[1;36m1\u001b[0m\u001b[39m Axes\u001b[0m\u001b[1m>\u001b[0m\n"
      ]
     },
     "metadata": {},
     "output_type": "display_data"
    },
    {
     "data": {
      "image/png": "[encoded data removed]"
     },
     "metadata": {
      "needs_background": "light"
     },
     "output_type": "display_data"
    }
   ],
   "source": [
    "import matplotlib.pyplot as plt\n",
    "import matplotlib.ticker as ticker\n",
    "import pandas as pd\n",
    "import seaborn as sns\n",
    "\n",
    "data = pd.DataFrame({\n",
    "    \"Zeph\": zeph_n_probes,\n",
    "    \"Constrained Zeph\": constrained_zeph_n_probes, \n",
    "    \"Constrained exploration\": constrained_exploration_n_probes,\n",
    "    \"Exploration\": exploration_n_probes,\n",
    "})\n",
    "\n",
    "ax = sns.lineplot(data=data)\n",
    "\n",
    "ax.set(xlabel=\"Cycles\", ylabel=\"Number of probes sent\")\n",
    "ax.set(ylim=(0, 500_000_000))\n",
    "\n",
    "ax.xaxis.set_major_locator(ticker.FixedLocator(range(0, 10)))\n",
    "ax.xaxis.set_major_formatter(ticker.FixedFormatter(range(1, 11)))\n",
    "ax.grid()\n",
    "\n",
    "plt.tight_layout()\n",
    "plt.savefig(\"./resources/figures/exp2_probes.pdf\")\n",
    "plt.show()"
   ]
  }
 ],
 "metadata": {
  "interpreter": {
   "hash": "772e1080b1fbf5200c669858b2c09332e229694cf709b93af0edeea0c9b8a739"
  },
  "kernelspec": {
   "display_name": "Python 3 (ipykernel)",
   "language": "python",
   "name": "python3"
  },
  "language_info": {
   "codemirror_mode": {
    "name": "ipython",
    "version": 3
   },
   "file_extension": ".py",
   "mimetype": "text/x-python",
   "name": "python",
   "nbconvert_exporter": "python",
   "pygments_lexer": "ipython3",
   "version": "3.9.9"
  },
  "metadata": {
   "interpreter": {
    "hash": "31f2aee4e71d21fbe5cf8b01ff0e069b9275f58929596ceb00d14d90e3e16cd6"
   }
  }
 },
 "nbformat": 4,
 "nbformat_minor": 4
}
