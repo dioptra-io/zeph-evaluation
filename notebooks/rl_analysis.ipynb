{
 "cells": [
  {
   "cell_type": "markdown",
   "metadata": {},
   "source": [
    "# Reinforcement learning anaysis\n",
    "\n",
    "*Hypothesis*: the exploitation budget of Zeph will be responsible of the most part of nodes and links discoveries. "
   ]
  },
  {
   "cell_type": "code",
   "execution_count": 1,
   "metadata": {},
   "outputs": [],
   "source": [
    "from pathlib import Path\n",
    "\n",
    "experiment = \"exp1\"\n",
    "sub_experiment = \"zeph_25\"\n",
    "\n",
    "# Directory of the experiment\n",
    "exp_dir = Path(f\"../resources/data/measurements/{experiment}/\")\n",
    "\n",
    "# Directory of the total prefixes and exploitation prefixes pickle files\n",
    "prefixes_dir = exp_dir / \"prefixes\"\n",
    "exploitation_dir = exp_dir / \"exploitation\""
   ]
  },
  {
   "cell_type": "code",
   "execution_count": 2,
   "metadata": {},
   "outputs": [],
   "source": [
    "import pickle\n",
    "from pathlib import Path\n",
    "\n",
    "with (exp_dir / f\"{sub_experiment}.txt\").open(\"r\") as fd:\n",
    "    experiment_uuids = [uuid.strip() for uuid in fd.readlines()]"
   ]
  },
  {
   "cell_type": "code",
   "execution_count": 3,
   "metadata": {},
   "outputs": [],
   "source": [
    "# Get Iris API / database credentials\n",
    "import json\n",
    "from zeph.drivers import create_auth_header, get_database_url\n",
    "\n",
    "config = json.load(open(\"../config.json\"))\n",
    "headers = create_auth_header(config[\"iris_url\"], config[\"iris_username\"], config[\"iris_password\"])\n",
    "database_url = get_database_url(config[\"iris_url\"], headers)"
   ]
  },
  {
   "cell_type": "code",
   "execution_count": 4,
   "metadata": {},
   "outputs": [],
   "source": [
    "import matplotlib\n",
    "import matplotlib.pyplot as plt\n",
    "import matplotlib.ticker as ticker\n",
    "import pandas as pd\n",
    "import seaborn as sns\n",
    "\n",
    "matplotlib.rcParams['pdf.fonttype'] = 42\n",
    "matplotlib.rcParams['ps.fonttype'] = 42"
   ]
  },
  {
   "cell_type": "markdown",
   "metadata": {},
   "source": [
    "## Links"
   ]
  },
  {
   "cell_type": "code",
   "execution_count": 5,
   "metadata": {},
   "outputs": [],
   "source": [
    "import orjson\n",
    "import requests\n",
    "\n",
    "from dataclasses import dataclass\n",
    "from typing import Sequence, Iterator, Iterable\n",
    "\n",
    "from diamond_miner.queries.query import UNIVERSE_SUBSET, LinksQuery, links_table\n",
    "from diamond_miner.typing import IPNetwork\n",
    "\n",
    "@dataclass(frozen=True)\n",
    "class GetLinksPrefixes(LinksQuery):\n",
    "    \"\"\"\n",
    "    Return the links pre-computed in the links table.\n",
    "    This doesn't group replies by probe protocol and probe source address,\n",
    "    in other words, it assumes that the table contains the replies for a\n",
    "    single vantage point and a single protocol.\n",
    "    \"\"\"\n",
    "\n",
    "    def prefix_v4_to_v6(self, prefix):\n",
    "        return \"::ffff:\" + str(prefix.network_address) \n",
    "\n",
    "    def group_elements(self, l, n):\n",
    "        return [l[i:i + n] for i in range(0, len(l), n)]\n",
    "\n",
    "    def execute_iter(\n",
    "        self,\n",
    "        url: str,\n",
    "        measurement_id: str,\n",
    "        prefixes,\n",
    "        n_chunks,\n",
    "        *,\n",
    "        data  = None,\n",
    "        limit  = None,\n",
    "        subsets = (UNIVERSE_SUBSET,),\n",
    "        timeout  = (1, 60),\n",
    "    ) -> Iterator:\n",
    "        prefixes_chunks = self.group_elements(list(prefixes), n_chunks)\n",
    "        for prefixes in prefixes_chunks:\n",
    "            for _, statement in enumerate(self.statements(measurement_id, prefixes)):\n",
    "                    params = {\n",
    "                        \"default_format\": \"JSONEachRow\",\n",
    "                        \"limit\": limit[0] if limit else 0,\n",
    "                        \"offset\": limit[1] if limit else 0,\n",
    "                        \"output_format_json_quote_64bit_integers\": 0,\n",
    "                        \"query\": statement,\n",
    "                    }\n",
    "                    r = requests.post(\n",
    "                        url,\n",
    "                        headers={\"Accept-encoding\": \"gzip\"},\n",
    "                        params=params,\n",
    "                        data=data,\n",
    "                        stream=True,\n",
    "                        timeout=timeout,\n",
    "                    )\n",
    "                    try:\n",
    "                        for line in r.iter_lines(chunk_size=2 ** 20):\n",
    "                            yield orjson.loads(line)\n",
    "                    except orjson.JSONDecodeError as e:\n",
    "                        raise RuntimeError(f\"Invalid database response: {line}\") from e\n",
    "\n",
    "    def statements(\n",
    "        self, measurement_id: str, prefixes: Iterable[IPNetwork]\n",
    "    ) -> Sequence[str]:\n",
    "        # Override this method if you want your query to return multiple statements.\n",
    "        return (self.statement(measurement_id, prefixes),)\n",
    "\n",
    "    def statement(\n",
    "        self, measurement_id: str, prefixes: Iterable[IPNetwork]\n",
    "    ) -> str:\n",
    "        q =  f\"\"\"\n",
    "        SELECT DISTINCT near_addr, far_addr\n",
    "        FROM {links_table(measurement_id)}\n",
    "        WHERE {self.filters(UNIVERSE_SUBSET)}\n",
    "        AND probe_dst_prefix IN [\n",
    "        \"\"\"\n",
    "        q += \",\".join([f\"toIPv6('{self.prefix_v4_to_v6(prefix)}')\" for prefix in prefixes])\n",
    "        q += \"]\"\n",
    "        return q"
   ]
  },
  {
   "cell_type": "code",
   "execution_count": 6,
   "metadata": {},
   "outputs": [],
   "source": [
    "def get_links_exploitation(measurement_id, prefixes, n_chunks):\n",
    "    distinct_links = set()\n",
    "    for link in GetLinksPrefixes().execute_iter(database_url, measurement_id, prefixes, n_chunks):\n",
    "        distinct_links.add((link[\"near_addr\"], link[\"far_addr\"])) \n",
    "    return distinct_links"
   ]
  },
  {
   "cell_type": "code",
   "execution_count": 7,
   "metadata": {},
   "outputs": [],
   "source": [
    "from diamond_miner.queries import GetLinks\n",
    "from zeph.drivers import get_previous_measurement_agents\n",
    "\n",
    "def sanitize_uuid(uuid):\n",
    "    return str(uuid).replace(\"-\", \"_\")\n",
    "\n",
    "def get_links_total(measurement_uuid):\n",
    "    agents_uuid = get_previous_measurement_agents(config[\"iris_url\"], measurement_uuid, headers)\n",
    "    \n",
    "    distinct_links = set()\n",
    "    for agent_uuid in agents_uuid:\n",
    "        measurement_id = sanitize_uuid(measurement_uuid) + \"__\" + sanitize_uuid(agent_uuid)\n",
    "        for link in GetLinks().execute_iter(database_url, measurement_id):\n",
    "            distinct_links.add((link[\"near_addr\"], link[\"far_addr\"])) \n",
    "    return distinct_links"
   ]
  },
  {
   "cell_type": "code",
   "execution_count": 8,
   "metadata": {},
   "outputs": [
    {
     "data": {
      "text/html": [
       "<pre style=\"white-space:pre;overflow-x:auto;line-height:normal;font-family:Menlo,'DejaVu Sans Mono',consolas,'Courier New',monospace\"><span style=\"font-weight: bold\">[</span><span style=\"color: #008080; text-decoration-color: #008080; font-weight: bold\">1462889</span>, <span style=\"color: #008080; text-decoration-color: #008080; font-weight: bold\">1717638</span>, <span style=\"color: #008080; text-decoration-color: #008080; font-weight: bold\">1881807</span>, <span style=\"color: #008080; text-decoration-color: #008080; font-weight: bold\">2003898</span>, <span style=\"color: #008080; text-decoration-color: #008080; font-weight: bold\">2056546</span>, <span style=\"color: #008080; text-decoration-color: #008080; font-weight: bold\">2082815</span>, <span style=\"color: #008080; text-decoration-color: #008080; font-weight: bold\">2074676</span>, <span style=\"color: #008080; text-decoration-color: #008080; font-weight: bold\">2056853</span>, <span style=\"color: #008080; text-decoration-color: #008080; font-weight: bold\">2030392</span>, <span style=\"color: #008080; text-decoration-color: #008080; font-weight: bold\">2097882</span><span style=\"font-weight: bold\">]</span>\n",
       "</pre>\n"
      ],
      "text/plain": [
       "\u001b[1m[\u001b[0m\u001b[1;36m1462889\u001b[0m, \u001b[1;36m1717638\u001b[0m, \u001b[1;36m1881807\u001b[0m, \u001b[1;36m2003898\u001b[0m, \u001b[1;36m2056546\u001b[0m, \u001b[1;36m2082815\u001b[0m, \u001b[1;36m2074676\u001b[0m, \u001b[1;36m2056853\u001b[0m, \u001b[1;36m2030392\u001b[0m, \u001b[1;36m2097882\u001b[0m\u001b[1m]\u001b[0m\n"
      ]
     },
     "metadata": {},
     "output_type": "display_data"
    }
   ],
   "source": [
    "# Estimated computing time: ~2 minutes\n",
    "\n",
    "total_n_links = []\n",
    "for uuid in experiment_uuids:\n",
    "    total_n_links.append(len(get_links_total(uuid)))\n",
    "\n",
    "print(total_n_links)"
   ]
  },
  {
   "cell_type": "code",
   "execution_count": 9,
   "metadata": {
    "tags": []
   },
   "outputs": [
    {
     "data": {
      "text/html": [
       "<pre style=\"white-space:pre;overflow-x:auto;line-height:normal;font-family:Menlo,'DejaVu Sans Mono',consolas,'Courier New',monospace\"><span style=\"font-weight: bold\">[</span><span style=\"color: #800080; text-decoration-color: #800080; font-style: italic\">None</span>, <span style=\"color: #008080; text-decoration-color: #008080; font-weight: bold\">1278962</span>, <span style=\"color: #008080; text-decoration-color: #008080; font-weight: bold\">1560546</span>, <span style=\"color: #008080; text-decoration-color: #008080; font-weight: bold\">1748593</span>, <span style=\"color: #008080; text-decoration-color: #008080; font-weight: bold\">1862593</span>, <span style=\"color: #008080; text-decoration-color: #008080; font-weight: bold\">1878883</span>, <span style=\"color: #008080; text-decoration-color: #008080; font-weight: bold\">1868577</span>, <span style=\"color: #008080; text-decoration-color: #008080; font-weight: bold\">1835564</span>, <span style=\"color: #008080; text-decoration-color: #008080; font-weight: bold\">1815689</span>, <span style=\"color: #008080; text-decoration-color: #008080; font-weight: bold\">1902539</span><span style=\"font-weight: bold\">]</span>\n",
       "</pre>\n"
      ],
      "text/plain": [
       "\u001b[1m[\u001b[0m\u001b[3;35mNone\u001b[0m, \u001b[1;36m1278962\u001b[0m, \u001b[1;36m1560546\u001b[0m, \u001b[1;36m1748593\u001b[0m, \u001b[1;36m1862593\u001b[0m, \u001b[1;36m1878883\u001b[0m, \u001b[1;36m1868577\u001b[0m, \u001b[1;36m1835564\u001b[0m, \u001b[1;36m1815689\u001b[0m, \u001b[1;36m1902539\u001b[0m\u001b[1m]\u001b[0m\n"
      ]
     },
     "metadata": {},
     "output_type": "display_data"
    }
   ],
   "source": [
    "# Estimated computing time: ~30 minutes\n",
    "\n",
    "exploitation_n_links = [None]\n",
    "for uuid in experiment_uuids[1:]:\n",
    "    # Get exploitation prefixes \n",
    "    with (exploitation_dir / f\"exploitation_{uuid}.pickle\").open(\"rb\") as fd:\n",
    "        exploitation_prefixes = pickle.load(fd)\n",
    "    \n",
    "    cycle_n_links = set()\n",
    "    for agent_uuid in exploitation_prefixes.keys():\n",
    "        cycle_n_links.update(get_links_exploitation(f\"{uuid}__{agent_uuid}\", exploitation_prefixes[agent_uuid], 5000))\n",
    "    exploitation_n_links.append(len(cycle_n_links))\n",
    "\n",
    "print(exploitation_n_links)"
   ]
  },
  {
   "cell_type": "code",
   "execution_count": 10,
   "metadata": {},
   "outputs": [
    {
     "data": {
      "text/html": [
       "<pre style=\"white-space:pre;overflow-x:auto;line-height:normal;font-family:Menlo,'DejaVu Sans Mono',consolas,'Courier New',monospace\"><span style=\"font-weight: bold\">&lt;</span><span style=\"color: #ff00ff; text-decoration-color: #ff00ff; font-weight: bold\">Figure</span><span style=\"color: #000000; text-decoration-color: #000000\"> size 432x288 with </span><span style=\"color: #008080; text-decoration-color: #008080; font-weight: bold\">1</span><span style=\"color: #000000; text-decoration-color: #000000\"> Axes</span><span style=\"font-weight: bold\">&gt;</span>\n",
       "</pre>\n"
      ],
      "text/plain": [
       "\u001b[1m<\u001b[0m\u001b[1;95mFigure\u001b[0m\u001b[39m size 432x288 with \u001b[0m\u001b[1;36m1\u001b[0m\u001b[39m Axes\u001b[0m\u001b[1m>\u001b[0m\n"
      ]
     },
     "metadata": {},
     "output_type": "display_data"
    },
    {
     "data": {
      "image/png": "[encoded data removed]"
     },
     "metadata": {
      "needs_background": "light"
     },
     "output_type": "display_data"
    }
   ],
   "source": [
    "data = pd.DataFrame({\n",
    "    \"total\": total_n_links,\n",
    "    \"exploitation\": exploitation_n_links,\n",
    "})\n",
    "\n",
    "ax = sns.lineplot(data=data)\n",
    "\n",
    "ax.set_xlabel(\"Cycles\", fontsize=14)\n",
    "ax.set_ylabel(\"Number of distinct links\", fontsize=14)\n",
    "ax.set(ylim=(0, 2_500_000))\n",
    "\n",
    "ax.xaxis.set_major_locator(ticker.FixedLocator(range(0, 10)))\n",
    "ax.xaxis.set_major_formatter(ticker.FixedFormatter(range(1, 11)))\n",
    "ax.grid()\n",
    "\n",
    "plt.tight_layout()\n",
    "plt.savefig(\"../resources/figures/exploitation_vs_total_links.pdf\")\n",
    "plt.show()"
   ]
  },
  {
   "cell_type": "markdown",
   "metadata": {},
   "source": [
    "## Nodes"
   ]
  },
  {
   "cell_type": "code",
   "execution_count": 11,
   "metadata": {},
   "outputs": [],
   "source": [
    "from dataclasses import dataclass\n",
    "from typing import Iterable, Iterator, Sequence\n",
    "\n",
    "from diamond_miner.queries.query import UNIVERSE_SUBSET, ResultsQuery, results_table\n",
    "from diamond_miner.typing import IPNetwork\n",
    "\n",
    "@dataclass(frozen=True)\n",
    "class GetNodesPrefixes(ResultsQuery):\n",
    "    def prefix_v4_to_v6(self, prefix):\n",
    "        return \"::ffff:\" + str(prefix.network_address) \n",
    "\n",
    "    def group_elements(self, l, n):\n",
    "        return [l[i:i + n] for i in range(0, len(l), n)]\n",
    "\n",
    "    def execute_iter(\n",
    "        self,\n",
    "        url: str,\n",
    "        measurement_id: str,\n",
    "        prefixes,\n",
    "        n_chunks,\n",
    "        *,\n",
    "        data  = None,\n",
    "        limit  = None,\n",
    "        subsets = (UNIVERSE_SUBSET,),\n",
    "        timeout  = (1, 60),\n",
    "    ) -> Iterator:\n",
    "        prefixes_chunks = self.group_elements(list(prefixes), n_chunks)\n",
    "        for prefixes in prefixes_chunks:\n",
    "            for _, statement in enumerate(self.statements(measurement_id, prefixes)):\n",
    "                    params = {\n",
    "                        \"default_format\": \"JSONEachRow\",\n",
    "                        \"limit\": limit[0] if limit else 0,\n",
    "                        \"offset\": limit[1] if limit else 0,\n",
    "                        \"output_format_json_quote_64bit_integers\": 0,\n",
    "                        \"query\": statement,\n",
    "                    }\n",
    "                    r = requests.post(\n",
    "                        url,\n",
    "                        headers={\"Accept-encoding\": \"gzip\"},\n",
    "                        params=params,\n",
    "                        data=data,\n",
    "                        stream=True,\n",
    "                        timeout=timeout,\n",
    "                    )\n",
    "                    try:\n",
    "                        for line in r.iter_lines(chunk_size=2 ** 20):\n",
    "                            yield orjson.loads(line)\n",
    "                    except orjson.JSONDecodeError as e:\n",
    "                        raise RuntimeError(f\"Invalid database response: {line}\") from e\n",
    "\n",
    "    def statements(\n",
    "        self, measurement_id: str, prefixes: Iterable[IPNetwork]\n",
    "    ) -> Sequence[str]:\n",
    "        # Override this method if you want your query to return multiple statements.\n",
    "        return (self.statement(measurement_id, prefixes),)\n",
    "\n",
    "    def statement(\n",
    "            self, measurement_id: str, prefixes: Iterable[IPNetwork]\n",
    "        ) -> str:\n",
    "            q = f\"\"\"\n",
    "            SELECT reply_src_addr\n",
    "            FROM {results_table(measurement_id)}\n",
    "            WHERE {self.filters(UNIVERSE_SUBSET)}\n",
    "            AND probe_dst_prefix IN [\n",
    "            \"\"\"\n",
    "            q += \",\".join([f\"toIPv6('{self.prefix_v4_to_v6(prefix)}')\" for prefix in prefixes])\n",
    "            q += \"]\"\n",
    "            return q"
   ]
  },
  {
   "cell_type": "code",
   "execution_count": 12,
   "metadata": {},
   "outputs": [],
   "source": [
    "def get_nodes_exploitation(measurement_id, prefixes, n_chunks):\n",
    "    distinct_nodes = set()\n",
    "    for node in GetNodesPrefixes().execute_iter(database_url, measurement_id, prefixes, n_chunks):\n",
    "        distinct_nodes.add(node[\"reply_src_addr\"]) \n",
    "    return distinct_nodes"
   ]
  },
  {
   "cell_type": "code",
   "execution_count": 13,
   "metadata": {},
   "outputs": [],
   "source": [
    "from diamond_miner.queries import GetNodes\n",
    "\n",
    "def get_nodes_total(measurement_uuid):\n",
    "    agents_uuid = get_previous_measurement_agents(config[\"iris_url\"], measurement_uuid, headers)\n",
    "    \n",
    "    distinct_nodes = set()\n",
    "    for agent_uuid in agents_uuid:\n",
    "        measurement_id = sanitize_uuid(measurement_uuid) + \"__\" + sanitize_uuid(agent_uuid)\n",
    "        for node in GetNodes().execute_iter(database_url, measurement_id):\n",
    "            distinct_nodes.add(node[\"reply_src_addr\"]) \n",
    "    return distinct_nodes"
   ]
  },
  {
   "cell_type": "code",
   "execution_count": 14,
   "metadata": {},
   "outputs": [
    {
     "data": {
      "text/html": [
       "<pre style=\"white-space:pre;overflow-x:auto;line-height:normal;font-family:Menlo,'DejaVu Sans Mono',consolas,'Courier New',monospace\"><span style=\"font-weight: bold\">[</span><span style=\"color: #008080; text-decoration-color: #008080; font-weight: bold\">739755</span>, <span style=\"color: #008080; text-decoration-color: #008080; font-weight: bold\">839275</span>, <span style=\"color: #008080; text-decoration-color: #008080; font-weight: bold\">877413</span>, <span style=\"color: #008080; text-decoration-color: #008080; font-weight: bold\">903131</span>, <span style=\"color: #008080; text-decoration-color: #008080; font-weight: bold\">916350</span>, <span style=\"color: #008080; text-decoration-color: #008080; font-weight: bold\">920832</span>, <span style=\"color: #008080; text-decoration-color: #008080; font-weight: bold\">919425</span>, <span style=\"color: #008080; text-decoration-color: #008080; font-weight: bold\">919637</span>, <span style=\"color: #008080; text-decoration-color: #008080; font-weight: bold\">914434</span>, <span style=\"color: #008080; text-decoration-color: #008080; font-weight: bold\">921358</span><span style=\"font-weight: bold\">]</span>\n",
       "</pre>\n"
      ],
      "text/plain": [
       "\u001b[1m[\u001b[0m\u001b[1;36m739755\u001b[0m, \u001b[1;36m839275\u001b[0m, \u001b[1;36m877413\u001b[0m, \u001b[1;36m903131\u001b[0m, \u001b[1;36m916350\u001b[0m, \u001b[1;36m920832\u001b[0m, \u001b[1;36m919425\u001b[0m, \u001b[1;36m919637\u001b[0m, \u001b[1;36m914434\u001b[0m, \u001b[1;36m921358\u001b[0m\u001b[1m]\u001b[0m\n"
      ]
     },
     "metadata": {},
     "output_type": "display_data"
    }
   ],
   "source": [
    "# Estimated computing time: ~1 minute\n",
    "\n",
    "total_n_nodes = []\n",
    "for uuid in experiment_uuids:\n",
    "    total_n_nodes.append(len(get_nodes_total(uuid)))\n",
    "\n",
    "print(total_n_nodes)"
   ]
  },
  {
   "cell_type": "code",
   "execution_count": 15,
   "metadata": {},
   "outputs": [
    {
     "data": {
      "text/html": [
       "<pre style=\"white-space:pre;overflow-x:auto;line-height:normal;font-family:Menlo,'DejaVu Sans Mono',consolas,'Courier New',monospace\"><span style=\"font-weight: bold\">[</span><span style=\"color: #800080; text-decoration-color: #800080; font-style: italic\">None</span>, <span style=\"color: #008080; text-decoration-color: #008080; font-weight: bold\">688713</span>, <span style=\"color: #008080; text-decoration-color: #008080; font-weight: bold\">793993</span>, <span style=\"color: #008080; text-decoration-color: #008080; font-weight: bold\">843963</span>, <span style=\"color: #008080; text-decoration-color: #008080; font-weight: bold\">868476</span>, <span style=\"color: #008080; text-decoration-color: #008080; font-weight: bold\">877259</span>, <span style=\"color: #008080; text-decoration-color: #008080; font-weight: bold\">876527</span>, <span style=\"color: #008080; text-decoration-color: #008080; font-weight: bold\">871520</span>, <span style=\"color: #008080; text-decoration-color: #008080; font-weight: bold\">869851</span>, <span style=\"color: #008080; text-decoration-color: #008080; font-weight: bold\">881423</span><span style=\"font-weight: bold\">]</span>\n",
       "</pre>\n"
      ],
      "text/plain": [
       "\u001b[1m[\u001b[0m\u001b[3;35mNone\u001b[0m, \u001b[1;36m688713\u001b[0m, \u001b[1;36m793993\u001b[0m, \u001b[1;36m843963\u001b[0m, \u001b[1;36m868476\u001b[0m, \u001b[1;36m877259\u001b[0m, \u001b[1;36m876527\u001b[0m, \u001b[1;36m871520\u001b[0m, \u001b[1;36m869851\u001b[0m, \u001b[1;36m881423\u001b[0m\u001b[1m]\u001b[0m\n"
      ]
     },
     "metadata": {},
     "output_type": "display_data"
    }
   ],
   "source": [
    "# Estimated computing time: ~30 minutes\n",
    "\n",
    "exploitation_n_nodes = [None]\n",
    "for uuid in experiment_uuids[1:]:\n",
    "    uuid = uuid.strip()\n",
    "    # Get exploitation prefixes \n",
    "    with (exploitation_dir / f\"exploitation_{uuid}.pickle\").open(\"rb\") as fd:\n",
    "        exploitation_prefixes = pickle.load(fd)\n",
    "    \n",
    "    cycle_n_nodes = set()\n",
    "    for agent_uuid in exploitation_prefixes.keys():\n",
    "        cycle_n_nodes.update(get_nodes_exploitation(f\"{uuid}__{agent_uuid}\", exploitation_prefixes[agent_uuid], 5000))\n",
    "    exploitation_n_nodes.append(len(cycle_n_nodes))\n",
    "\n",
    "print(exploitation_n_nodes)"
   ]
  },
  {
   "cell_type": "code",
   "execution_count": 16,
   "metadata": {},
   "outputs": [
    {
     "data": {
      "text/html": [
       "<pre style=\"white-space:pre;overflow-x:auto;line-height:normal;font-family:Menlo,'DejaVu Sans Mono',consolas,'Courier New',monospace\"><span style=\"font-weight: bold\">&lt;</span><span style=\"color: #ff00ff; text-decoration-color: #ff00ff; font-weight: bold\">Figure</span><span style=\"color: #000000; text-decoration-color: #000000\"> size 432x288 with </span><span style=\"color: #008080; text-decoration-color: #008080; font-weight: bold\">1</span><span style=\"color: #000000; text-decoration-color: #000000\"> Axes</span><span style=\"font-weight: bold\">&gt;</span>\n",
       "</pre>\n"
      ],
      "text/plain": [
       "\u001b[1m<\u001b[0m\u001b[1;95mFigure\u001b[0m\u001b[39m size 432x288 with \u001b[0m\u001b[1;36m1\u001b[0m\u001b[39m Axes\u001b[0m\u001b[1m>\u001b[0m\n"
      ]
     },
     "metadata": {},
     "output_type": "display_data"
    },
    {
     "data": {
      "image/png": "[encoded data removed]"
     },
     "metadata": {
      "needs_background": "light"
     },
     "output_type": "display_data"
    }
   ],
   "source": [
    "data = pd.DataFrame({\n",
    "    \"total\": total_n_nodes,\n",
    "    \"exploitation\": exploitation_n_nodes,\n",
    "})\n",
    "\n",
    "ax = sns.lineplot(data=data)\n",
    "\n",
    "ax.set_xlabel(\"Cycles\", fontsize=14)\n",
    "ax.set_ylabel(\"Number of distinct nodes\", fontsize=14)\n",
    "ax.set(ylim=(0, 1_200_000))\n",
    "\n",
    "ax.xaxis.set_major_locator(ticker.FixedLocator(range(0, 10)))\n",
    "ax.xaxis.set_major_formatter(ticker.FixedFormatter(range(1, 11)))\n",
    "ax.grid()\n",
    "\n",
    "plt.tight_layout()\n",
    "plt.savefig(\"../resources/figures/exploitation_vs_total_nodes.pdf\")\n",
    "plt.show()"
   ]
  },
  {
   "cell_type": "markdown",
   "metadata": {},
   "source": [
    "## Budget"
   ]
  },
  {
   "cell_type": "code",
   "execution_count": 17,
   "metadata": {},
   "outputs": [
    {
     "data": {
      "text/html": [
       "<pre style=\"white-space:pre;overflow-x:auto;line-height:normal;font-family:Menlo,'DejaVu Sans Mono',consolas,'Courier New',monospace\"><span style=\"font-weight: bold\">[</span>\n",
       "    <span style=\"color: #008080; text-decoration-color: #008080; font-weight: bold\">0</span>,\n",
       "    <span style=\"color: #008080; text-decoration-color: #008080; font-weight: bold\">0.08581165446929756</span>,\n",
       "    <span style=\"color: #008080; text-decoration-color: #008080; font-weight: bold\">0.0968299158143458</span>,\n",
       "    <span style=\"color: #008080; text-decoration-color: #008080; font-weight: bold\">0.10007505006808765</span>,\n",
       "    <span style=\"color: #008080; text-decoration-color: #008080; font-weight: bold\">0.1050172882258252</span>,\n",
       "    <span style=\"color: #008080; text-decoration-color: #008080; font-weight: bold\">0.10687535877210727</span>,\n",
       "    <span style=\"color: #008080; text-decoration-color: #008080; font-weight: bold\">0.10713101811441406</span>,\n",
       "    <span style=\"color: #008080; text-decoration-color: #008080; font-weight: bold\">0.10743978075801804</span>,\n",
       "    <span style=\"color: #008080; text-decoration-color: #008080; font-weight: bold\">0.1060303236741821</span>,\n",
       "    <span style=\"color: #008080; text-decoration-color: #008080; font-weight: bold\">0.10428446317617397</span>\n",
       "<span style=\"font-weight: bold\">]</span>\n",
       "</pre>\n"
      ],
      "text/plain": [
       "\u001b[1m[\u001b[0m\n",
       "    \u001b[1;36m0\u001b[0m,\n",
       "    \u001b[1;36m0.08581165446929756\u001b[0m,\n",
       "    \u001b[1;36m0.0968299158143458\u001b[0m,\n",
       "    \u001b[1;36m0.10007505006808765\u001b[0m,\n",
       "    \u001b[1;36m0.1050172882258252\u001b[0m,\n",
       "    \u001b[1;36m0.10687535877210727\u001b[0m,\n",
       "    \u001b[1;36m0.10713101811441406\u001b[0m,\n",
       "    \u001b[1;36m0.10743978075801804\u001b[0m,\n",
       "    \u001b[1;36m0.1060303236741821\u001b[0m,\n",
       "    \u001b[1;36m0.10428446317617397\u001b[0m\n",
       "\u001b[1m]\u001b[0m\n"
      ]
     },
     "metadata": {},
     "output_type": "display_data"
    }
   ],
   "source": [
    "# Estimated computing time: ~25 minutes\n",
    "\n",
    "exploitation_prefixes_ratio = [0]\n",
    "for uuid in experiment_uuids[1:]:\n",
    "    # Get total prefixes \n",
    "    with (prefixes_dir / f\"prefixes_{uuid}.pickle\").open(\"rb\") as fd:\n",
    "        total_prefixes = pickle.load(fd)\n",
    "    total_n_prefixes = len(set.union(*[set(s) for s in total_prefixes.values()]))\n",
    "\n",
    "    # Get exploitation prefixes \n",
    "    with (exploitation_dir / f\"exploitation_{uuid}.pickle\").open(\"rb\") as fd:\n",
    "        exploitation_prefixes = pickle.load(fd)\n",
    "    exploitation_n_prefixes = len(set.union(*exploitation_prefixes.values()))\n",
    "\n",
    "    exploitation_prefixes_ratio.append(exploitation_n_prefixes / total_n_prefixes)\n",
    "\n",
    "print(exploitation_prefixes_ratio)"
   ]
  },
  {
   "cell_type": "code",
   "execution_count": 18,
   "metadata": {},
   "outputs": [
    {
     "data": {
      "text/html": [
       "<pre style=\"white-space:pre;overflow-x:auto;line-height:normal;font-family:Menlo,'DejaVu Sans Mono',consolas,'Courier New',monospace\"><span style=\"font-weight: bold\">&lt;</span><span style=\"color: #ff00ff; text-decoration-color: #ff00ff; font-weight: bold\">Figure</span><span style=\"color: #000000; text-decoration-color: #000000\"> size 432x288 with </span><span style=\"color: #008080; text-decoration-color: #008080; font-weight: bold\">1</span><span style=\"color: #000000; text-decoration-color: #000000\"> Axes</span><span style=\"font-weight: bold\">&gt;</span>\n",
       "</pre>\n"
      ],
      "text/plain": [
       "\u001b[1m<\u001b[0m\u001b[1;95mFigure\u001b[0m\u001b[39m size 432x288 with \u001b[0m\u001b[1;36m1\u001b[0m\u001b[39m Axes\u001b[0m\u001b[1m>\u001b[0m\n"
      ]
     },
     "metadata": {},
     "output_type": "display_data"
    },
    {
     "data": {
      "image/png": "[encoded data removed]"
     },
     "metadata": {
      "needs_background": "light"
     },
     "output_type": "display_data"
    }
   ],
   "source": [
    "ax = sns.barplot(x=list(range(len(exploitation_prefixes_ratio))), y=exploitation_prefixes_ratio, palette=\"Blues_d\")\n",
    "\n",
    "ax.set_xlabel(\"Cycles\", fontsize=14)\n",
    "ax.set_ylabel(\"Exploitation budget ratio\", fontsize=14)\n",
    "ax.set(ylim=(0, 1))\n",
    "\n",
    "ax.xaxis.set_major_locator(ticker.FixedLocator(range(0, 10)))\n",
    "ax.xaxis.set_major_formatter(ticker.FixedFormatter(range(1, 11)))\n",
    "ax.grid()\n",
    "\n",
    "plt.tight_layout()\n",
    "plt.savefig(\"../resources/figures/exploitation_fraction_budget.pdf\")\n",
    "plt.show()"
   ]
  }
 ],
 "metadata": {
  "interpreter": {
   "hash": "772e1080b1fbf5200c669858b2c09332e229694cf709b93af0edeea0c9b8a739"
  },
  "kernelspec": {
   "display_name": "Python 3 (ipykernel)",
   "language": "python",
   "name": "python3"
  },
  "language_info": {
   "codemirror_mode": {
    "name": "ipython",
    "version": 3
   },
   "file_extension": ".py",
   "mimetype": "text/x-python",
   "name": "python",
   "nbconvert_exporter": "python",
   "pygments_lexer": "ipython3",
   "version": "3.9.9"
  }
 },
 "nbformat": 4,
 "nbformat_minor": 4
}
