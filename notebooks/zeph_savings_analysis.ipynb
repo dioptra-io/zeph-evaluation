{
 "cells": [
  {
   "cell_type": "markdown",
   "metadata": {},
   "source": [
    "# Probe saving analysis\n",
    "\n",
    "*Hypothesis*: Zeph will be able to see almost the same as complete discovery\n",
    "(= full IPv4 routable prefixes) but with a much-reduced probing budget."
   ]
  },
  {
   "cell_type": "code",
   "execution_count": 2,
   "metadata": {},
   "outputs": [],
   "source": [
    "from pathlib import Path\n",
    "\n",
    "\n",
    "exp_dir = Path(\"../resources/data/measurements/exp1/\")\n",
    "\n",
    "with (exp_dir / \"zeph_10.txt\").open(\"r\") as fd:\n",
    "    zeph_10_uuids = [uuid.strip() for uuid in fd.readlines()]\n",
    "with (exp_dir / \"zeph_25.txt\").open(\"r\") as fd:\n",
    "    zeph_25_uuids = [uuid.strip() for uuid in fd.readlines()]\n",
    "with (exp_dir / \"zeph_50.txt\").open(\"r\") as fd:\n",
    "    zeph_50_uuids = [uuid.strip() for uuid in fd.readlines()]\n",
    "with (exp_dir / \"zeph_75.txt\").open(\"r\") as fd:\n",
    "    zeph_75_uuids = [uuid.strip() for uuid in fd.readlines()]\n",
    "with (exp_dir / \"zeph_100.txt\").open(\"r\") as fd:\n",
    "    zeph_100_uuids = [uuid.strip() for uuid in fd.readlines()]"
   ]
  },
  {
   "cell_type": "code",
   "execution_count": 3,
   "metadata": {},
   "outputs": [],
   "source": [
    "# Get Iris API / database credentials\n",
    "import json\n",
    "from zeph.drivers import create_auth_header, get_database_url\n",
    "\n",
    "config = json.load(open(\"../config.json\"))\n",
    "headers = create_auth_header(config[\"iris_url\"], config[\"iris_username\"], config[\"iris_password\"])\n",
    "database_url = get_database_url(config[\"iris_url\"], headers)"
   ]
  },
  {
   "cell_type": "markdown",
   "metadata": {},
   "source": [
    "## Links"
   ]
  },
  {
   "cell_type": "code",
   "execution_count": 4,
   "metadata": {},
   "outputs": [],
   "source": [
    "from diamond_miner.queries import GetLinks\n",
    "from zeph.drivers import get_previous_measurement_agents\n",
    "\n",
    "def sanitize_uuid(uuid):\n",
    "    return str(uuid).replace(\"-\", \"_\")\n",
    "\n",
    "\n",
    "def get_links(measurement_uuid):\n",
    "    agents_uuid = get_previous_measurement_agents(config[\"iris_url\"], measurement_uuid, headers)\n",
    "    \n",
    "    distinct_links = set()\n",
    "    for agent_uuid in agents_uuid:\n",
    "        measurement_id = sanitize_uuid(measurement_uuid) + \"__\" + sanitize_uuid(agent_uuid)\n",
    "        for link in GetLinks().execute_iter(database_url, measurement_id):\n",
    "            distinct_links.add((link[\"near_addr\"], link[\"far_addr\"])) \n",
    "    return distinct_links"
   ]
  },
  {
   "cell_type": "code",
   "execution_count": 5,
   "metadata": {},
   "outputs": [
    {
     "data": {
      "text/html": [
       "<pre style=\"white-space:pre;overflow-x:auto;line-height:normal;font-family:Menlo,'DejaVu Sans Mono',consolas,'Courier New',monospace\"><span style=\"font-weight: bold\">[</span><span style=\"color: #008080; text-decoration-color: #008080; font-weight: bold\">873778</span>, <span style=\"color: #008080; text-decoration-color: #008080; font-weight: bold\">1180322</span>, <span style=\"color: #008080; text-decoration-color: #008080; font-weight: bold\">1333789</span>, <span style=\"color: #008080; text-decoration-color: #008080; font-weight: bold\">1489189</span>, <span style=\"color: #008080; text-decoration-color: #008080; font-weight: bold\">1572098</span>, <span style=\"color: #008080; text-decoration-color: #008080; font-weight: bold\">1619663</span>, <span style=\"color: #008080; text-decoration-color: #008080; font-weight: bold\">1633880</span>, <span style=\"color: #008080; text-decoration-color: #008080; font-weight: bold\">1657901</span>, <span style=\"color: #008080; text-decoration-color: #008080; font-weight: bold\">1641410</span>, <span style=\"color: #008080; text-decoration-color: #008080; font-weight: bold\">1714698</span><span style=\"font-weight: bold\">]</span>\n",
       "</pre>\n"
      ],
      "text/plain": [
       "\u001b[1m[\u001b[0m\u001b[1;36m873778\u001b[0m, \u001b[1;36m1180322\u001b[0m, \u001b[1;36m1333789\u001b[0m, \u001b[1;36m1489189\u001b[0m, \u001b[1;36m1572098\u001b[0m, \u001b[1;36m1619663\u001b[0m, \u001b[1;36m1633880\u001b[0m, \u001b[1;36m1657901\u001b[0m, \u001b[1;36m1641410\u001b[0m, \u001b[1;36m1714698\u001b[0m\u001b[1m]\u001b[0m\n"
      ]
     },
     "metadata": {},
     "output_type": "display_data"
    },
    {
     "data": {
      "text/html": [
       "<pre style=\"white-space:pre;overflow-x:auto;line-height:normal;font-family:Menlo,'DejaVu Sans Mono',consolas,'Courier New',monospace\"><span style=\"font-weight: bold\">[</span><span style=\"color: #008080; text-decoration-color: #008080; font-weight: bold\">1462889</span>, <span style=\"color: #008080; text-decoration-color: #008080; font-weight: bold\">1717638</span>, <span style=\"color: #008080; text-decoration-color: #008080; font-weight: bold\">1881807</span>, <span style=\"color: #008080; text-decoration-color: #008080; font-weight: bold\">2003898</span>, <span style=\"color: #008080; text-decoration-color: #008080; font-weight: bold\">2056546</span>, <span style=\"color: #008080; text-decoration-color: #008080; font-weight: bold\">2082815</span>, <span style=\"color: #008080; text-decoration-color: #008080; font-weight: bold\">2074676</span>, <span style=\"color: #008080; text-decoration-color: #008080; font-weight: bold\">2056853</span>, <span style=\"color: #008080; text-decoration-color: #008080; font-weight: bold\">2030392</span>, <span style=\"color: #008080; text-decoration-color: #008080; font-weight: bold\">2097882</span><span style=\"font-weight: bold\">]</span>\n",
       "</pre>\n"
      ],
      "text/plain": [
       "\u001b[1m[\u001b[0m\u001b[1;36m1462889\u001b[0m, \u001b[1;36m1717638\u001b[0m, \u001b[1;36m1881807\u001b[0m, \u001b[1;36m2003898\u001b[0m, \u001b[1;36m2056546\u001b[0m, \u001b[1;36m2082815\u001b[0m, \u001b[1;36m2074676\u001b[0m, \u001b[1;36m2056853\u001b[0m, \u001b[1;36m2030392\u001b[0m, \u001b[1;36m2097882\u001b[0m\u001b[1m]\u001b[0m\n"
      ]
     },
     "metadata": {},
     "output_type": "display_data"
    },
    {
     "data": {
      "text/html": [
       "<pre style=\"white-space:pre;overflow-x:auto;line-height:normal;font-family:Menlo,'DejaVu Sans Mono',consolas,'Courier New',monospace\"><span style=\"font-weight: bold\">[</span><span style=\"color: #008080; text-decoration-color: #008080; font-weight: bold\">1950666</span>, <span style=\"color: #008080; text-decoration-color: #008080; font-weight: bold\">2076613</span>, <span style=\"color: #008080; text-decoration-color: #008080; font-weight: bold\">2216760</span>, <span style=\"color: #008080; text-decoration-color: #008080; font-weight: bold\">2298088</span>, <span style=\"color: #008080; text-decoration-color: #008080; font-weight: bold\">2313784</span>, <span style=\"color: #008080; text-decoration-color: #008080; font-weight: bold\">2275065</span>, <span style=\"color: #008080; text-decoration-color: #008080; font-weight: bold\">2258055</span>, <span style=\"color: #008080; text-decoration-color: #008080; font-weight: bold\">2247123</span>, <span style=\"color: #008080; text-decoration-color: #008080; font-weight: bold\">2230495</span>, <span style=\"color: #008080; text-decoration-color: #008080; font-weight: bold\">2305629</span><span style=\"font-weight: bold\">]</span>\n",
       "</pre>\n"
      ],
      "text/plain": [
       "\u001b[1m[\u001b[0m\u001b[1;36m1950666\u001b[0m, \u001b[1;36m2076613\u001b[0m, \u001b[1;36m2216760\u001b[0m, \u001b[1;36m2298088\u001b[0m, \u001b[1;36m2313784\u001b[0m, \u001b[1;36m2275065\u001b[0m, \u001b[1;36m2258055\u001b[0m, \u001b[1;36m2247123\u001b[0m, \u001b[1;36m2230495\u001b[0m, \u001b[1;36m2305629\u001b[0m\u001b[1m]\u001b[0m\n"
      ]
     },
     "metadata": {},
     "output_type": "display_data"
    },
    {
     "data": {
      "text/html": [
       "<pre style=\"white-space:pre;overflow-x:auto;line-height:normal;font-family:Menlo,'DejaVu Sans Mono',consolas,'Courier New',monospace\"><span style=\"font-weight: bold\">[</span><span style=\"color: #008080; text-decoration-color: #008080; font-weight: bold\">2210047</span>, <span style=\"color: #008080; text-decoration-color: #008080; font-weight: bold\">2270584</span>, <span style=\"color: #008080; text-decoration-color: #008080; font-weight: bold\">2378309</span>, <span style=\"color: #008080; text-decoration-color: #008080; font-weight: bold\">2391047</span>, <span style=\"color: #008080; text-decoration-color: #008080; font-weight: bold\">2377430</span>, <span style=\"color: #008080; text-decoration-color: #008080; font-weight: bold\">2336989</span>, <span style=\"color: #008080; text-decoration-color: #008080; font-weight: bold\">2327403</span>, <span style=\"color: #008080; text-decoration-color: #008080; font-weight: bold\">2309406</span>, <span style=\"color: #008080; text-decoration-color: #008080; font-weight: bold\">2300398</span>, <span style=\"color: #008080; text-decoration-color: #008080; font-weight: bold\">2382635</span><span style=\"font-weight: bold\">]</span>\n",
       "</pre>\n"
      ],
      "text/plain": [
       "\u001b[1m[\u001b[0m\u001b[1;36m2210047\u001b[0m, \u001b[1;36m2270584\u001b[0m, \u001b[1;36m2378309\u001b[0m, \u001b[1;36m2391047\u001b[0m, \u001b[1;36m2377430\u001b[0m, \u001b[1;36m2336989\u001b[0m, \u001b[1;36m2327403\u001b[0m, \u001b[1;36m2309406\u001b[0m, \u001b[1;36m2300398\u001b[0m, \u001b[1;36m2382635\u001b[0m\u001b[1m]\u001b[0m\n"
      ]
     },
     "metadata": {},
     "output_type": "display_data"
    },
    {
     "data": {
      "text/html": [
       "<pre style=\"white-space:pre;overflow-x:auto;line-height:normal;font-family:Menlo,'DejaVu Sans Mono',consolas,'Courier New',monospace\"><span style=\"font-weight: bold\">[</span><span style=\"color: #008080; text-decoration-color: #008080; font-weight: bold\">2418910</span>, <span style=\"color: #008080; text-decoration-color: #008080; font-weight: bold\">2345168</span>, <span style=\"color: #008080; text-decoration-color: #008080; font-weight: bold\">2423222</span>, <span style=\"color: #008080; text-decoration-color: #008080; font-weight: bold\">2452164</span>, <span style=\"color: #008080; text-decoration-color: #008080; font-weight: bold\">2446559</span>, <span style=\"color: #008080; text-decoration-color: #008080; font-weight: bold\">2411982</span>, <span style=\"color: #008080; text-decoration-color: #008080; font-weight: bold\">2391089</span>, <span style=\"color: #008080; text-decoration-color: #008080; font-weight: bold\">2385338</span>, <span style=\"color: #008080; text-decoration-color: #008080; font-weight: bold\">2359792</span>, <span style=\"color: #008080; text-decoration-color: #008080; font-weight: bold\">2413700</span><span style=\"font-weight: bold\">]</span>\n",
       "</pre>\n"
      ],
      "text/plain": [
       "\u001b[1m[\u001b[0m\u001b[1;36m2418910\u001b[0m, \u001b[1;36m2345168\u001b[0m, \u001b[1;36m2423222\u001b[0m, \u001b[1;36m2452164\u001b[0m, \u001b[1;36m2446559\u001b[0m, \u001b[1;36m2411982\u001b[0m, \u001b[1;36m2391089\u001b[0m, \u001b[1;36m2385338\u001b[0m, \u001b[1;36m2359792\u001b[0m, \u001b[1;36m2413700\u001b[0m\u001b[1m]\u001b[0m\n"
      ]
     },
     "metadata": {},
     "output_type": "display_data"
    }
   ],
   "source": [
    "# Estimated computing time: ~7 minutes\n",
    "\n",
    "zeph_10_n_links = []\n",
    "for uuid in zeph_10_uuids:\n",
    "    zeph_10_n_links.append(len(get_links(uuid)))\n",
    "zeph_25_n_links = []\n",
    "for uuid in zeph_25_uuids:\n",
    "    zeph_25_n_links.append(len(get_links(uuid)))\n",
    "zeph_50_n_links = []\n",
    "for uuid in zeph_50_uuids:\n",
    "    zeph_50_n_links.append(len(get_links(uuid)))\n",
    "zeph_75_n_links = []\n",
    "for uuid in zeph_75_uuids:\n",
    "    zeph_75_n_links.append(len(get_links(uuid)))\n",
    "zeph_100_n_links = []\n",
    "for uuid in zeph_100_uuids:\n",
    "    zeph_100_n_links.append(len(get_links(uuid)))\n",
    "\n",
    "print(zeph_10_n_links)\n",
    "print(zeph_25_n_links)\n",
    "print(zeph_50_n_links)\n",
    "print(zeph_75_n_links)\n",
    "print(zeph_100_n_links)"
   ]
  },
  {
   "cell_type": "code",
   "execution_count": 6,
   "metadata": {},
   "outputs": [
    {
     "data": {
      "text/html": [
       "<pre style=\"white-space:pre;overflow-x:auto;line-height:normal;font-family:Menlo,'DejaVu Sans Mono',consolas,'Courier New',monospace\"><span style=\"font-weight: bold\">&lt;</span><span style=\"color: #ff00ff; text-decoration-color: #ff00ff; font-weight: bold\">Figure</span><span style=\"color: #000000; text-decoration-color: #000000\"> size 432x288 with </span><span style=\"color: #008080; text-decoration-color: #008080; font-weight: bold\">1</span><span style=\"color: #000000; text-decoration-color: #000000\"> Axes</span><span style=\"font-weight: bold\">&gt;</span>\n",
       "</pre>\n"
      ],
      "text/plain": [
       "\u001b[1m<\u001b[0m\u001b[1;95mFigure\u001b[0m\u001b[39m size 432x288 with \u001b[0m\u001b[1;36m1\u001b[0m\u001b[39m Axes\u001b[0m\u001b[1m>\u001b[0m\n"
      ]
     },
     "metadata": {},
     "output_type": "display_data"
    },
    {
     "data": {
      "image/png": "[encoded data removed]"
     },
     "metadata": {
      "needs_background": "light"
     },
     "output_type": "display_data"
    }
   ],
   "source": [
    "import matplotlib.pyplot as plt\n",
    "import matplotlib.ticker as ticker\n",
    "import pandas as pd\n",
    "import seaborn as sns\n",
    "\n",
    "data = pd.DataFrame({\n",
    "    \"Zeph 10%\": zeph_10_n_links,\n",
    "    \"Zeph 25%\": zeph_25_n_links,\n",
    "    \"Zeph 50%\": zeph_50_n_links,\n",
    "    \"Zeph 75%\": zeph_75_n_links,\n",
    "    \"Zeph 100%\": zeph_100_n_links,\n",
    "})\n",
    "\n",
    "ax = sns.lineplot(data=data)\n",
    "\n",
    "ax.set(xlabel=\"Cycles\", ylabel=\"Number of distinct links\")\n",
    "ax.set(ylim=(0, 3_000_000))\n",
    "\n",
    "ax.xaxis.set_major_locator(ticker.FixedLocator(range(0, 10)))\n",
    "ax.xaxis.set_major_formatter(ticker.FixedFormatter(range(1, 11)))\n",
    "ax.grid()\n",
    "\n",
    "plt.tight_layout()\n",
    "plt.savefig(\"../resources/figures/exp1_links.pdf\")\n",
    "plt.show()"
   ]
  },
  {
   "cell_type": "markdown",
   "metadata": {},
   "source": [
    "## Nodes"
   ]
  },
  {
   "cell_type": "code",
   "execution_count": 7,
   "metadata": {},
   "outputs": [],
   "source": [
    "from diamond_miner.queries import GetNodes\n",
    "\n",
    "def get_nodes(measurement_uuid):\n",
    "    agents_uuid = get_previous_measurement_agents(config[\"iris_url\"], measurement_uuid, headers)\n",
    "    \n",
    "    distinct_nodes = set()\n",
    "    for agent_uuid in agents_uuid:\n",
    "        measurement_id = sanitize_uuid(measurement_uuid) + \"__\" + sanitize_uuid(agent_uuid)\n",
    "        for node in GetNodes().execute_iter(database_url, measurement_id):\n",
    "            distinct_nodes.add(node[\"reply_src_addr\"]) \n",
    "    return distinct_nodes"
   ]
  },
  {
   "cell_type": "code",
   "execution_count": 8,
   "metadata": {},
   "outputs": [
    {
     "data": {
      "text/html": [
       "<pre style=\"white-space:pre;overflow-x:auto;line-height:normal;font-family:Menlo,'DejaVu Sans Mono',consolas,'Courier New',monospace\"><span style=\"font-weight: bold\">[</span><span style=\"color: #008080; text-decoration-color: #008080; font-weight: bold\">489027</span>, <span style=\"color: #008080; text-decoration-color: #008080; font-weight: bold\">629993</span>, <span style=\"color: #008080; text-decoration-color: #008080; font-weight: bold\">696452</span>, <span style=\"color: #008080; text-decoration-color: #008080; font-weight: bold\">743172</span>, <span style=\"color: #008080; text-decoration-color: #008080; font-weight: bold\">772598</span>, <span style=\"color: #008080; text-decoration-color: #008080; font-weight: bold\">793157</span>, <span style=\"color: #008080; text-decoration-color: #008080; font-weight: bold\">808389</span>, <span style=\"color: #008080; text-decoration-color: #008080; font-weight: bold\">820351</span>, <span style=\"color: #008080; text-decoration-color: #008080; font-weight: bold\">823607</span>, <span style=\"color: #008080; text-decoration-color: #008080; font-weight: bold\">835815</span><span style=\"font-weight: bold\">]</span>\n",
       "</pre>\n"
      ],
      "text/plain": [
       "\u001b[1m[\u001b[0m\u001b[1;36m489027\u001b[0m, \u001b[1;36m629993\u001b[0m, \u001b[1;36m696452\u001b[0m, \u001b[1;36m743172\u001b[0m, \u001b[1;36m772598\u001b[0m, \u001b[1;36m793157\u001b[0m, \u001b[1;36m808389\u001b[0m, \u001b[1;36m820351\u001b[0m, \u001b[1;36m823607\u001b[0m, \u001b[1;36m835815\u001b[0m\u001b[1m]\u001b[0m\n"
      ]
     },
     "metadata": {},
     "output_type": "display_data"
    },
    {
     "data": {
      "text/html": [
       "<pre style=\"white-space:pre;overflow-x:auto;line-height:normal;font-family:Menlo,'DejaVu Sans Mono',consolas,'Courier New',monospace\"><span style=\"font-weight: bold\">[</span><span style=\"color: #008080; text-decoration-color: #008080; font-weight: bold\">739755</span>, <span style=\"color: #008080; text-decoration-color: #008080; font-weight: bold\">839275</span>, <span style=\"color: #008080; text-decoration-color: #008080; font-weight: bold\">877413</span>, <span style=\"color: #008080; text-decoration-color: #008080; font-weight: bold\">903131</span>, <span style=\"color: #008080; text-decoration-color: #008080; font-weight: bold\">916350</span>, <span style=\"color: #008080; text-decoration-color: #008080; font-weight: bold\">920832</span>, <span style=\"color: #008080; text-decoration-color: #008080; font-weight: bold\">919425</span>, <span style=\"color: #008080; text-decoration-color: #008080; font-weight: bold\">919637</span>, <span style=\"color: #008080; text-decoration-color: #008080; font-weight: bold\">914434</span>, <span style=\"color: #008080; text-decoration-color: #008080; font-weight: bold\">921358</span><span style=\"font-weight: bold\">]</span>\n",
       "</pre>\n"
      ],
      "text/plain": [
       "\u001b[1m[\u001b[0m\u001b[1;36m739755\u001b[0m, \u001b[1;36m839275\u001b[0m, \u001b[1;36m877413\u001b[0m, \u001b[1;36m903131\u001b[0m, \u001b[1;36m916350\u001b[0m, \u001b[1;36m920832\u001b[0m, \u001b[1;36m919425\u001b[0m, \u001b[1;36m919637\u001b[0m, \u001b[1;36m914434\u001b[0m, \u001b[1;36m921358\u001b[0m\u001b[1m]\u001b[0m\n"
      ]
     },
     "metadata": {},
     "output_type": "display_data"
    },
    {
     "data": {
      "text/html": [
       "<pre style=\"white-space:pre;overflow-x:auto;line-height:normal;font-family:Menlo,'DejaVu Sans Mono',consolas,'Courier New',monospace\"><span style=\"font-weight: bold\">[</span><span style=\"color: #008080; text-decoration-color: #008080; font-weight: bold\">891826</span>, <span style=\"color: #008080; text-decoration-color: #008080; font-weight: bold\">928864</span>, <span style=\"color: #008080; text-decoration-color: #008080; font-weight: bold\">942693</span>, <span style=\"color: #008080; text-decoration-color: #008080; font-weight: bold\">953281</span>, <span style=\"color: #008080; text-decoration-color: #008080; font-weight: bold\">956170</span>, <span style=\"color: #008080; text-decoration-color: #008080; font-weight: bold\">956573</span>, <span style=\"color: #008080; text-decoration-color: #008080; font-weight: bold\">955400</span>, <span style=\"color: #008080; text-decoration-color: #008080; font-weight: bold\">951645</span>, <span style=\"color: #008080; text-decoration-color: #008080; font-weight: bold\">950642</span>, <span style=\"color: #008080; text-decoration-color: #008080; font-weight: bold\">955361</span><span style=\"font-weight: bold\">]</span>\n",
       "</pre>\n"
      ],
      "text/plain": [
       "\u001b[1m[\u001b[0m\u001b[1;36m891826\u001b[0m, \u001b[1;36m928864\u001b[0m, \u001b[1;36m942693\u001b[0m, \u001b[1;36m953281\u001b[0m, \u001b[1;36m956170\u001b[0m, \u001b[1;36m956573\u001b[0m, \u001b[1;36m955400\u001b[0m, \u001b[1;36m951645\u001b[0m, \u001b[1;36m950642\u001b[0m, \u001b[1;36m955361\u001b[0m\u001b[1m]\u001b[0m\n"
      ]
     },
     "metadata": {},
     "output_type": "display_data"
    },
    {
     "data": {
      "text/html": [
       "<pre style=\"white-space:pre;overflow-x:auto;line-height:normal;font-family:Menlo,'DejaVu Sans Mono',consolas,'Courier New',monospace\"><span style=\"font-weight: bold\">[</span><span style=\"color: #008080; text-decoration-color: #008080; font-weight: bold\">948280</span>, <span style=\"color: #008080; text-decoration-color: #008080; font-weight: bold\">956215</span>, <span style=\"color: #008080; text-decoration-color: #008080; font-weight: bold\">963685</span>, <span style=\"color: #008080; text-decoration-color: #008080; font-weight: bold\">966376</span>, <span style=\"color: #008080; text-decoration-color: #008080; font-weight: bold\">966493</span>, <span style=\"color: #008080; text-decoration-color: #008080; font-weight: bold\">963604</span>, <span style=\"color: #008080; text-decoration-color: #008080; font-weight: bold\">964937</span>, <span style=\"color: #008080; text-decoration-color: #008080; font-weight: bold\">964293</span>, <span style=\"color: #008080; text-decoration-color: #008080; font-weight: bold\">961683</span>, <span style=\"color: #008080; text-decoration-color: #008080; font-weight: bold\">965545</span><span style=\"font-weight: bold\">]</span>\n",
       "</pre>\n"
      ],
      "text/plain": [
       "\u001b[1m[\u001b[0m\u001b[1;36m948280\u001b[0m, \u001b[1;36m956215\u001b[0m, \u001b[1;36m963685\u001b[0m, \u001b[1;36m966376\u001b[0m, \u001b[1;36m966493\u001b[0m, \u001b[1;36m963604\u001b[0m, \u001b[1;36m964937\u001b[0m, \u001b[1;36m964293\u001b[0m, \u001b[1;36m961683\u001b[0m, \u001b[1;36m965545\u001b[0m\u001b[1m]\u001b[0m\n"
      ]
     },
     "metadata": {},
     "output_type": "display_data"
    },
    {
     "data": {
      "text/html": [
       "<pre style=\"white-space:pre;overflow-x:auto;line-height:normal;font-family:Menlo,'DejaVu Sans Mono',consolas,'Courier New',monospace\"><span style=\"font-weight: bold\">[</span><span style=\"color: #008080; text-decoration-color: #008080; font-weight: bold\">973613</span>, <span style=\"color: #008080; text-decoration-color: #008080; font-weight: bold\">970403</span>, <span style=\"color: #008080; text-decoration-color: #008080; font-weight: bold\">969690</span>, <span style=\"color: #008080; text-decoration-color: #008080; font-weight: bold\">974730</span>, <span style=\"color: #008080; text-decoration-color: #008080; font-weight: bold\">975849</span>, <span style=\"color: #008080; text-decoration-color: #008080; font-weight: bold\">973826</span>, <span style=\"color: #008080; text-decoration-color: #008080; font-weight: bold\">972308</span>, <span style=\"color: #008080; text-decoration-color: #008080; font-weight: bold\">973173</span>, <span style=\"color: #008080; text-decoration-color: #008080; font-weight: bold\">970543</span>, <span style=\"color: #008080; text-decoration-color: #008080; font-weight: bold\">971206</span><span style=\"font-weight: bold\">]</span>\n",
       "</pre>\n"
      ],
      "text/plain": [
       "\u001b[1m[\u001b[0m\u001b[1;36m973613\u001b[0m, \u001b[1;36m970403\u001b[0m, \u001b[1;36m969690\u001b[0m, \u001b[1;36m974730\u001b[0m, \u001b[1;36m975849\u001b[0m, \u001b[1;36m973826\u001b[0m, \u001b[1;36m972308\u001b[0m, \u001b[1;36m973173\u001b[0m, \u001b[1;36m970543\u001b[0m, \u001b[1;36m971206\u001b[0m\u001b[1m]\u001b[0m\n"
      ]
     },
     "metadata": {},
     "output_type": "display_data"
    }
   ],
   "source": [
    "# Estimated computing time: ~3 minutes\n",
    "\n",
    "zeph_10_n_nodes = []\n",
    "for uuid in zeph_10_uuids:\n",
    "    zeph_10_n_nodes.append(len(get_nodes(uuid)))\n",
    "zeph_25_n_nodes = []\n",
    "for uuid in zeph_25_uuids:\n",
    "    zeph_25_n_nodes.append(len(get_nodes(uuid)))\n",
    "zeph_50_n_nodes = []\n",
    "for uuid in zeph_50_uuids:\n",
    "    zeph_50_n_nodes.append(len(get_nodes(uuid)))\n",
    "zeph_75_n_nodes = []\n",
    "for uuid in zeph_75_uuids:\n",
    "    zeph_75_n_nodes.append(len(get_nodes(uuid)))\n",
    "zeph_100_n_nodes = []\n",
    "for uuid in zeph_100_uuids:\n",
    "    zeph_100_n_nodes.append(len(get_nodes(uuid)))\n",
    "\n",
    "print(zeph_10_n_nodes)\n",
    "print(zeph_25_n_nodes)\n",
    "print(zeph_50_n_nodes)\n",
    "print(zeph_75_n_nodes)\n",
    "print(zeph_100_n_nodes)"
   ]
  },
  {
   "cell_type": "code",
   "execution_count": 9,
   "metadata": {},
   "outputs": [
    {
     "data": {
      "text/html": [
       "<pre style=\"white-space:pre;overflow-x:auto;line-height:normal;font-family:Menlo,'DejaVu Sans Mono',consolas,'Courier New',monospace\"><span style=\"font-weight: bold\">&lt;</span><span style=\"color: #ff00ff; text-decoration-color: #ff00ff; font-weight: bold\">Figure</span><span style=\"color: #000000; text-decoration-color: #000000\"> size 432x288 with </span><span style=\"color: #008080; text-decoration-color: #008080; font-weight: bold\">1</span><span style=\"color: #000000; text-decoration-color: #000000\"> Axes</span><span style=\"font-weight: bold\">&gt;</span>\n",
       "</pre>\n"
      ],
      "text/plain": [
       "\u001b[1m<\u001b[0m\u001b[1;95mFigure\u001b[0m\u001b[39m size 432x288 with \u001b[0m\u001b[1;36m1\u001b[0m\u001b[39m Axes\u001b[0m\u001b[1m>\u001b[0m\n"
      ]
     },
     "metadata": {},
     "output_type": "display_data"
    },
    {
     "data": {
      "image/png": "[encoded data removed]"
     },
     "metadata": {
      "needs_background": "light"
     },
     "output_type": "display_data"
    }
   ],
   "source": [
    "import matplotlib.pyplot as plt\n",
    "import matplotlib.ticker as ticker\n",
    "import pandas as pd\n",
    "import seaborn as sns\n",
    "\n",
    "data = pd.DataFrame({\n",
    "    \"Zeph 10%\": zeph_10_n_nodes,\n",
    "    \"Zeph 25%\": zeph_25_n_nodes,\n",
    "    \"Zeph 50%\": zeph_50_n_nodes,\n",
    "    \"Zeph 75%\": zeph_75_n_nodes,\n",
    "    \"Zeph 100%\": zeph_100_n_nodes,\n",
    "})\n",
    "\n",
    "ax = sns.lineplot(data=data)\n",
    "\n",
    "ax.set(xlabel=\"Cycles\", ylabel=\"Number of distinct nodes\")\n",
    "ax.set(ylim=(0, 1_200_000))\n",
    "\n",
    "ax.xaxis.set_major_locator(ticker.FixedLocator(range(0, 10)))\n",
    "ax.xaxis.set_major_formatter(ticker.FixedFormatter(range(1, 11)))\n",
    "ax.grid()\n",
    "\n",
    "plt.tight_layout()\n",
    "plt.savefig(\"../resources/figures/exp1_nodes.pdf\")\n",
    "plt.show()"
   ]
  },
  {
   "cell_type": "markdown",
   "metadata": {},
   "source": [
    "## Probes "
   ]
  },
  {
   "cell_type": "code",
   "execution_count": 13,
   "metadata": {},
   "outputs": [],
   "source": [
    "import requests \n",
    "\n",
    "def get_statistic(measurement_uuid, statistic):    \n",
    "    data = requests.get(config[\"iris_url\"] + f\"/measurements/{measurement_uuid}\", headers=headers)\n",
    "\n",
    "    packets_sent = 0\n",
    "    for agent in data.json()[\"agents\"]:\n",
    "        for probing_round in agent[\"probing_statistics\"].values():\n",
    "            packets_sent += probing_round.get(statistic, 0)\n",
    "    return packets_sent"
   ]
  },
  {
   "cell_type": "code",
   "execution_count": 14,
   "metadata": {},
   "outputs": [
    {
     "data": {
      "text/html": [
       "<pre style=\"white-space:pre;overflow-x:auto;line-height:normal;font-family:Menlo,'DejaVu Sans Mono',consolas,'Courier New',monospace\"><span style=\"font-weight: bold\">[</span>\n",
       "    <span style=\"color: #008080; text-decoration-color: #008080; font-weight: bold\">148517625</span>,\n",
       "    <span style=\"color: #008080; text-decoration-color: #008080; font-weight: bold\">148517625</span>,\n",
       "    <span style=\"color: #008080; text-decoration-color: #008080; font-weight: bold\">148517625</span>,\n",
       "    <span style=\"color: #008080; text-decoration-color: #008080; font-weight: bold\">148517625</span>,\n",
       "    <span style=\"color: #008080; text-decoration-color: #008080; font-weight: bold\">148517625</span>,\n",
       "    <span style=\"color: #008080; text-decoration-color: #008080; font-weight: bold\">148517625</span>,\n",
       "    <span style=\"color: #008080; text-decoration-color: #008080; font-weight: bold\">148517625</span>,\n",
       "    <span style=\"color: #008080; text-decoration-color: #008080; font-weight: bold\">148517625</span>,\n",
       "    <span style=\"color: #008080; text-decoration-color: #008080; font-weight: bold\">148517625</span>,\n",
       "    <span style=\"color: #008080; text-decoration-color: #008080; font-weight: bold\">148517625</span>\n",
       "<span style=\"font-weight: bold\">]</span>\n",
       "</pre>\n"
      ],
      "text/plain": [
       "\u001b[1m[\u001b[0m\n",
       "    \u001b[1;36m148517625\u001b[0m,\n",
       "    \u001b[1;36m148517625\u001b[0m,\n",
       "    \u001b[1;36m148517625\u001b[0m,\n",
       "    \u001b[1;36m148517625\u001b[0m,\n",
       "    \u001b[1;36m148517625\u001b[0m,\n",
       "    \u001b[1;36m148517625\u001b[0m,\n",
       "    \u001b[1;36m148517625\u001b[0m,\n",
       "    \u001b[1;36m148517625\u001b[0m,\n",
       "    \u001b[1;36m148517625\u001b[0m,\n",
       "    \u001b[1;36m148517625\u001b[0m\n",
       "\u001b[1m]\u001b[0m\n"
      ]
     },
     "metadata": {},
     "output_type": "display_data"
    },
    {
     "data": {
      "text/html": [
       "<pre style=\"white-space:pre;overflow-x:auto;line-height:normal;font-family:Menlo,'DejaVu Sans Mono',consolas,'Courier New',monospace\"><span style=\"font-weight: bold\">[</span>\n",
       "    <span style=\"color: #008080; text-decoration-color: #008080; font-weight: bold\">371294250</span>,\n",
       "    <span style=\"color: #008080; text-decoration-color: #008080; font-weight: bold\">371294250</span>,\n",
       "    <span style=\"color: #008080; text-decoration-color: #008080; font-weight: bold\">371294250</span>,\n",
       "    <span style=\"color: #008080; text-decoration-color: #008080; font-weight: bold\">371294250</span>,\n",
       "    <span style=\"color: #008080; text-decoration-color: #008080; font-weight: bold\">371294250</span>,\n",
       "    <span style=\"color: #008080; text-decoration-color: #008080; font-weight: bold\">371294250</span>,\n",
       "    <span style=\"color: #008080; text-decoration-color: #008080; font-weight: bold\">371294250</span>,\n",
       "    <span style=\"color: #008080; text-decoration-color: #008080; font-weight: bold\">371294250</span>,\n",
       "    <span style=\"color: #008080; text-decoration-color: #008080; font-weight: bold\">371294250</span>,\n",
       "    <span style=\"color: #008080; text-decoration-color: #008080; font-weight: bold\">371294250</span>\n",
       "<span style=\"font-weight: bold\">]</span>\n",
       "</pre>\n"
      ],
      "text/plain": [
       "\u001b[1m[\u001b[0m\n",
       "    \u001b[1;36m371294250\u001b[0m,\n",
       "    \u001b[1;36m371294250\u001b[0m,\n",
       "    \u001b[1;36m371294250\u001b[0m,\n",
       "    \u001b[1;36m371294250\u001b[0m,\n",
       "    \u001b[1;36m371294250\u001b[0m,\n",
       "    \u001b[1;36m371294250\u001b[0m,\n",
       "    \u001b[1;36m371294250\u001b[0m,\n",
       "    \u001b[1;36m371294250\u001b[0m,\n",
       "    \u001b[1;36m371294250\u001b[0m,\n",
       "    \u001b[1;36m371294250\u001b[0m\n",
       "\u001b[1m]\u001b[0m\n"
      ]
     },
     "metadata": {},
     "output_type": "display_data"
    },
    {
     "data": {
      "text/html": [
       "<pre style=\"white-space:pre;overflow-x:auto;line-height:normal;font-family:Menlo,'DejaVu Sans Mono',consolas,'Courier New',monospace\"><span style=\"font-weight: bold\">[</span>\n",
       "    <span style=\"color: #008080; text-decoration-color: #008080; font-weight: bold\">742588500</span>,\n",
       "    <span style=\"color: #008080; text-decoration-color: #008080; font-weight: bold\">742588500</span>,\n",
       "    <span style=\"color: #008080; text-decoration-color: #008080; font-weight: bold\">742588500</span>,\n",
       "    <span style=\"color: #008080; text-decoration-color: #008080; font-weight: bold\">742588500</span>,\n",
       "    <span style=\"color: #008080; text-decoration-color: #008080; font-weight: bold\">742588500</span>,\n",
       "    <span style=\"color: #008080; text-decoration-color: #008080; font-weight: bold\">742588500</span>,\n",
       "    <span style=\"color: #008080; text-decoration-color: #008080; font-weight: bold\">742588500</span>,\n",
       "    <span style=\"color: #008080; text-decoration-color: #008080; font-weight: bold\">742588500</span>,\n",
       "    <span style=\"color: #008080; text-decoration-color: #008080; font-weight: bold\">742588500</span>,\n",
       "    <span style=\"color: #008080; text-decoration-color: #008080; font-weight: bold\">742588500</span>\n",
       "<span style=\"font-weight: bold\">]</span>\n",
       "</pre>\n"
      ],
      "text/plain": [
       "\u001b[1m[\u001b[0m\n",
       "    \u001b[1;36m742588500\u001b[0m,\n",
       "    \u001b[1;36m742588500\u001b[0m,\n",
       "    \u001b[1;36m742588500\u001b[0m,\n",
       "    \u001b[1;36m742588500\u001b[0m,\n",
       "    \u001b[1;36m742588500\u001b[0m,\n",
       "    \u001b[1;36m742588500\u001b[0m,\n",
       "    \u001b[1;36m742588500\u001b[0m,\n",
       "    \u001b[1;36m742588500\u001b[0m,\n",
       "    \u001b[1;36m742588500\u001b[0m,\n",
       "    \u001b[1;36m742588500\u001b[0m\n",
       "\u001b[1m]\u001b[0m\n"
      ]
     },
     "metadata": {},
     "output_type": "display_data"
    },
    {
     "data": {
      "text/html": [
       "<pre style=\"white-space:pre;overflow-x:auto;line-height:normal;font-family:Menlo,'DejaVu Sans Mono',consolas,'Courier New',monospace\"><span style=\"font-weight: bold\">[</span>\n",
       "    <span style=\"color: #008080; text-decoration-color: #008080; font-weight: bold\">1113882750</span>,\n",
       "    <span style=\"color: #008080; text-decoration-color: #008080; font-weight: bold\">1113882750</span>,\n",
       "    <span style=\"color: #008080; text-decoration-color: #008080; font-weight: bold\">1113882750</span>,\n",
       "    <span style=\"color: #008080; text-decoration-color: #008080; font-weight: bold\">1113882750</span>,\n",
       "    <span style=\"color: #008080; text-decoration-color: #008080; font-weight: bold\">1113882750</span>,\n",
       "    <span style=\"color: #008080; text-decoration-color: #008080; font-weight: bold\">1113882750</span>,\n",
       "    <span style=\"color: #008080; text-decoration-color: #008080; font-weight: bold\">1113882750</span>,\n",
       "    <span style=\"color: #008080; text-decoration-color: #008080; font-weight: bold\">1113882750</span>,\n",
       "    <span style=\"color: #008080; text-decoration-color: #008080; font-weight: bold\">1113882750</span>,\n",
       "    <span style=\"color: #008080; text-decoration-color: #008080; font-weight: bold\">1113882750</span>\n",
       "<span style=\"font-weight: bold\">]</span>\n",
       "</pre>\n"
      ],
      "text/plain": [
       "\u001b[1m[\u001b[0m\n",
       "    \u001b[1;36m1113882750\u001b[0m,\n",
       "    \u001b[1;36m1113882750\u001b[0m,\n",
       "    \u001b[1;36m1113882750\u001b[0m,\n",
       "    \u001b[1;36m1113882750\u001b[0m,\n",
       "    \u001b[1;36m1113882750\u001b[0m,\n",
       "    \u001b[1;36m1113882750\u001b[0m,\n",
       "    \u001b[1;36m1113882750\u001b[0m,\n",
       "    \u001b[1;36m1113882750\u001b[0m,\n",
       "    \u001b[1;36m1113882750\u001b[0m,\n",
       "    \u001b[1;36m1113882750\u001b[0m\n",
       "\u001b[1m]\u001b[0m\n"
      ]
     },
     "metadata": {},
     "output_type": "display_data"
    },
    {
     "data": {
      "text/html": [
       "<pre style=\"white-space:pre;overflow-x:auto;line-height:normal;font-family:Menlo,'DejaVu Sans Mono',consolas,'Courier New',monospace\"><span style=\"font-weight: bold\">[</span>\n",
       "    <span style=\"color: #008080; text-decoration-color: #008080; font-weight: bold\">1485177000</span>,\n",
       "    <span style=\"color: #008080; text-decoration-color: #008080; font-weight: bold\">1485177000</span>,\n",
       "    <span style=\"color: #008080; text-decoration-color: #008080; font-weight: bold\">1485177000</span>,\n",
       "    <span style=\"color: #008080; text-decoration-color: #008080; font-weight: bold\">1485177000</span>,\n",
       "    <span style=\"color: #008080; text-decoration-color: #008080; font-weight: bold\">1485177000</span>,\n",
       "    <span style=\"color: #008080; text-decoration-color: #008080; font-weight: bold\">1485177000</span>,\n",
       "    <span style=\"color: #008080; text-decoration-color: #008080; font-weight: bold\">1485177000</span>,\n",
       "    <span style=\"color: #008080; text-decoration-color: #008080; font-weight: bold\">1485177000</span>,\n",
       "    <span style=\"color: #008080; text-decoration-color: #008080; font-weight: bold\">1485177000</span>,\n",
       "    <span style=\"color: #008080; text-decoration-color: #008080; font-weight: bold\">1485177000</span>\n",
       "<span style=\"font-weight: bold\">]</span>\n",
       "</pre>\n"
      ],
      "text/plain": [
       "\u001b[1m[\u001b[0m\n",
       "    \u001b[1;36m1485177000\u001b[0m,\n",
       "    \u001b[1;36m1485177000\u001b[0m,\n",
       "    \u001b[1;36m1485177000\u001b[0m,\n",
       "    \u001b[1;36m1485177000\u001b[0m,\n",
       "    \u001b[1;36m1485177000\u001b[0m,\n",
       "    \u001b[1;36m1485177000\u001b[0m,\n",
       "    \u001b[1;36m1485177000\u001b[0m,\n",
       "    \u001b[1;36m1485177000\u001b[0m,\n",
       "    \u001b[1;36m1485177000\u001b[0m,\n",
       "    \u001b[1;36m1485177000\u001b[0m\n",
       "\u001b[1m]\u001b[0m\n"
      ]
     },
     "metadata": {},
     "output_type": "display_data"
    }
   ],
   "source": [
    "zeph_10_n_probes = []\n",
    "for uuid in zeph_10_uuids:\n",
    "    zeph_10_n_probes.append(get_statistic(uuid, \"packets_sent\"))\n",
    "zeph_25_n_probes = []\n",
    "for uuid in zeph_25_uuids:\n",
    "    zeph_25_n_probes.append(get_statistic(uuid, \"packets_sent\"))\n",
    "zeph_50_n_probes = []\n",
    "for uuid in zeph_50_uuids:\n",
    "    zeph_50_n_probes.append(get_statistic(uuid, \"packets_sent\"))\n",
    "zeph_75_n_probes = []\n",
    "for uuid in zeph_75_uuids:\n",
    "    zeph_75_n_probes.append(get_statistic(uuid, \"packets_sent\"))\n",
    "zeph_100_n_probes = []\n",
    "for uuid in zeph_100_uuids:\n",
    "    zeph_100_n_probes.append(get_statistic(uuid, \"packets_sent\"))\n",
    "\n",
    "print(zeph_10_n_probes)\n",
    "print(zeph_25_n_probes)\n",
    "print(zeph_50_n_probes)\n",
    "print(zeph_75_n_probes)\n",
    "print(zeph_100_n_probes)\n"
   ]
  },
  {
   "cell_type": "code",
   "execution_count": 15,
   "metadata": {},
   "outputs": [
    {
     "data": {
      "text/html": [
       "<pre style=\"white-space:pre;overflow-x:auto;line-height:normal;font-family:Menlo,'DejaVu Sans Mono',consolas,'Courier New',monospace\"><span style=\"font-weight: bold\">&lt;</span><span style=\"color: #ff00ff; text-decoration-color: #ff00ff; font-weight: bold\">Figure</span><span style=\"color: #000000; text-decoration-color: #000000\"> size 432x288 with </span><span style=\"color: #008080; text-decoration-color: #008080; font-weight: bold\">1</span><span style=\"color: #000000; text-decoration-color: #000000\"> Axes</span><span style=\"font-weight: bold\">&gt;</span>\n",
       "</pre>\n"
      ],
      "text/plain": [
       "\u001b[1m<\u001b[0m\u001b[1;95mFigure\u001b[0m\u001b[39m size 432x288 with \u001b[0m\u001b[1;36m1\u001b[0m\u001b[39m Axes\u001b[0m\u001b[1m>\u001b[0m\n"
      ]
     },
     "metadata": {},
     "output_type": "display_data"
    },
    {
     "data": {
      "image/png": "[encoded data removed]"
     },
     "metadata": {
      "needs_background": "light"
     },
     "output_type": "display_data"
    }
   ],
   "source": [
    "import matplotlib.pyplot as plt\n",
    "import matplotlib.ticker as ticker\n",
    "import pandas as pd\n",
    "import seaborn as sns\n",
    "\n",
    "data = pd.DataFrame({\n",
    "    \"Zeph 10%\": zeph_10_n_probes,\n",
    "    \"Zeph 25%\": zeph_25_n_probes,\n",
    "    \"Zeph 50%\": zeph_50_n_probes,\n",
    "    \"Zeph 75%\": zeph_75_n_probes,\n",
    "    \"Zeph 100%\": zeph_100_n_probes,\n",
    "})\n",
    "\n",
    "ax = sns.lineplot(data=data)\n",
    "\n",
    "ax.set(xlabel=\"Cycles\", ylabel=\"Number of probes sent\")\n",
    "ax.set(ylim=(0, 15_000_00_000))\n",
    "\n",
    "ax.xaxis.set_major_locator(ticker.FixedLocator(range(0, 10)))\n",
    "ax.xaxis.set_major_formatter(ticker.FixedFormatter(range(1, 11)))\n",
    "ax.grid()\n",
    "\n",
    "plt.tight_layout()\n",
    "plt.savefig(\"../resources/figures/exp1_probes.pdf\")\n",
    "plt.show()"
   ]
  }
 ],
 "metadata": {
  "interpreter": {
   "hash": "772e1080b1fbf5200c669858b2c09332e229694cf709b93af0edeea0c9b8a739"
  },
  "kernelspec": {
   "display_name": "Python 3 (ipykernel)",
   "language": "python",
   "name": "python3"
  },
  "language_info": {
   "codemirror_mode": {
    "name": "ipython",
    "version": 3
   },
   "file_extension": ".py",
   "mimetype": "text/x-python",
   "name": "python",
   "nbconvert_exporter": "python",
   "pygments_lexer": "ipython3",
   "version": "3.9.9"
  },
  "metadata": {
   "interpreter": {
    "hash": "31f2aee4e71d21fbe5cf8b01ff0e069b9275f58929596ceb00d14d90e3e16cd6"
   }
  }
 },
 "nbformat": 4,
 "nbformat_minor": 4
}
