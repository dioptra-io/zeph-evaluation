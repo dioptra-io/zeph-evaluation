{
 "cells": [
  {
   "cell_type": "code",
   "execution_count": 26,
   "source": [
    "experiment = \"exp1\"\n",
    "sub_experiment = \"constrained_zeph_25\""
   ],
   "outputs": [],
   "metadata": {}
  },
  {
   "cell_type": "markdown",
   "source": [
    "# Exploitation anaysis"
   ],
   "metadata": {}
  },
  {
   "cell_type": "markdown",
   "source": [
    "## Links"
   ],
   "metadata": {}
  },
  {
   "cell_type": "code",
   "execution_count": 27,
   "source": [
    "from dataclasses import dataclass\n",
    "from typing import Iterable, Iterator, Sequence\n",
    "\n",
    "from diamond_miner.queries.query import UNIVERSE_SUBSET, CH_QUERY_SETTINGS, LinksQuery, links_table\n",
    "from diamond_miner.typing import IPNetwork\n",
    "\n",
    "@dataclass(frozen=True)\n",
    "class GetLinksPrefixes(LinksQuery):\n",
    "    \"\"\"\n",
    "    Return the links pre-computed in the links table.\n",
    "    This doesn't group replies by probe protocol and probe source address,\n",
    "    in other words, it assumes that the table contains the replies for a\n",
    "    single vantage point and a single protocol.\n",
    "    \"\"\"\n",
    "\n",
    "    def prefix_v4_to_v6(self, prefix):\n",
    "        return \"::ffff:\" + str(prefix.network_address) \n",
    "\n",
    "    def group_elements(self, l, n):\n",
    "        return [l[i:i + n] for i in range(0, len(l), n)]\n",
    "\n",
    "    def execute_iter(\n",
    "        self,\n",
    "        url: str,\n",
    "        measurement_id: str,\n",
    "        prefixes: Iterable[IPNetwork],\n",
    "        n_chunks: int\n",
    "    ) -> Iterator:\n",
    "        client = Client.from_url(url)\n",
    "        prefixes_chunks = self.group_elements(list(prefixes), n_chunks)\n",
    "        for prefixes in prefixes_chunks:\n",
    "            for i, statement in enumerate(self.statements(measurement_id, prefixes)):\n",
    "                rows = client.execute_iter(statement, settings=CH_QUERY_SETTINGS)\n",
    "                for row in rows:\n",
    "                    yield row\n",
    "\n",
    "    def statements(\n",
    "        self, measurement_id: str, prefixes: Iterable[IPNetwork]\n",
    "    ) -> Sequence[str]:\n",
    "        # Override this method if you want your query to return multiple statements.\n",
    "        return (self.statement(measurement_id, prefixes),)\n",
    "\n",
    "    def statement(\n",
    "        self, measurement_id: str, prefixes: Iterable[IPNetwork]\n",
    "    ) -> str:\n",
    "        q =  f\"\"\"\n",
    "        SELECT DISTINCT ({self.addr_cast('near_addr')}, {self.addr_cast('far_addr')})\n",
    "        FROM {links_table(measurement_id)}\n",
    "        WHERE {self.filters(UNIVERSE_SUBSET)}\n",
    "        AND probe_dst_prefix IN [\n",
    "        \"\"\"\n",
    "        q += \",\".join([f\"toIPv6('{self.prefix_v4_to_v6(prefix)}')\" for prefix in prefixes])\n",
    "        q += \"]\"\n",
    "        return q"
   ],
   "outputs": [],
   "metadata": {}
  },
  {
   "cell_type": "code",
   "execution_count": 28,
   "source": [
    "from clickhouse_driver import Client\n",
    "from diamond_miner.queries import AddrType, GetLinks\n",
    "\n",
    "database_name = \"iris\"\n",
    "database_url = f\"clickhouse://localhost/{database_name}\"\n",
    "\n",
    "def get_links_exploitation(measurement_id, prefixes, n_chunks):\n",
    "    agent = measurement_id.split(\"__\")[1].replace(\"_\", \"-\")\n",
    "\n",
    "    distinct_links = set()\n",
    "    for link in GetLinksPrefixes(\n",
    "        addr_type=AddrType.FixedString\n",
    "    ).execute_iter(database_url, measurement_id, prefixes, n_chunks):\n",
    "        distinct_links.add(link) \n",
    "    return distinct_links"
   ],
   "outputs": [],
   "metadata": {}
  },
  {
   "cell_type": "code",
   "execution_count": 29,
   "source": [
    "from clickhouse_driver import Client\n",
    "from diamond_miner.queries import AddrType, GetLinks\n",
    "\n",
    "database_name = \"iris\"\n",
    "database_url = f\"clickhouse://localhost/{database_name}\"\n",
    "\n",
    "def get_links_total(measurement_uuid):\n",
    "    tables = Client.from_url(database_url).execute_iter(\n",
    "        f\"SHOW TABLES FROM {database_name} LIKE \"\n",
    "        f\"'results__{measurement_uuid.replace('-', '_')}%'\"\n",
    "    )\n",
    "    tables = [table[0] for table in tables]\n",
    "    measurement_ids = [\"__\".join(table.split(\"__\")[1:]) for table in tables]\n",
    "\n",
    "    distinct_links = set()\n",
    "    for measurement_id in measurement_ids:\n",
    "        for link in GetLinks(\n",
    "            addr_type=AddrType.FixedString\n",
    "        ).execute_iter(database_url, measurement_id):\n",
    "            distinct_links.add(link) \n",
    "    return distinct_links"
   ],
   "outputs": [],
   "metadata": {}
  },
  {
   "cell_type": "code",
   "execution_count": 30,
   "source": [
    "import pickle\n",
    "from pathlib import Path\n",
    "\n",
    "with Path(f\"./resources/data/measurements/{experiment}/{sub_experiment}.txt\").open(\"r\") as fd:\n",
    "    adaptive_uuids = fd.readlines()\n",
    "\n"
   ],
   "outputs": [],
   "metadata": {}
  },
  {
   "cell_type": "code",
   "execution_count": 31,
   "source": [
    "total_n_links = []\n",
    "for uuid in adaptive_uuids:\n",
    "    total_n_links.append(len(get_links_total(uuid.strip())))\n",
    "\n",
    "print(total_n_links)"
   ],
   "outputs": [
    {
     "output_type": "stream",
     "name": "stdout",
     "text": [
      "[31966, 43756, 50352, 55753, 59497, 62591, 63587, 65781, 68351, 68579, 69382, 70745, 71169, 71194, 70624, 72081, 72630, 72733, 72361, 73401]\n"
     ]
    }
   ],
   "metadata": {}
  },
  {
   "cell_type": "code",
   "execution_count": 32,
   "source": [
    "exploitation_n_links = [None]\n",
    "for uuid in adaptive_uuids[1:]:\n",
    "    uuid = uuid.strip()\n",
    "    # Get exploitation prefixes \n",
    "    with Path(f\"./resources/data/measurements/{experiment}/exploitation_{uuid}.pickle\").open(\"rb\") as fd:\n",
    "        exploitation_prefixes = pickle.load(fd)\n",
    "    \n",
    "    cycle_n_links = set()\n",
    "    for agent_uuid in exploitation_prefixes.keys():\n",
    "        cycle_n_links.update(get_links_exploitation(f\"{uuid}__{agent_uuid}\", exploitation_prefixes[agent_uuid], 5000))\n",
    "    exploitation_n_links.append(len(cycle_n_links))\n",
    "\n",
    "print(exploitation_n_links)"
   ],
   "outputs": [
    {
     "output_type": "stream",
     "name": "stdout",
     "text": [
      "[None, 31046, 42449, 49575, 54783, 58603, 61066, 62489, 65069, 66720, 67687, 68791, 69615, 69666, 69941, 70483, 70707, 71727, 71146, 71962]\n"
     ]
    }
   ],
   "metadata": {
    "tags": []
   }
  },
  {
   "cell_type": "code",
   "execution_count": 33,
   "source": [
    "import matplotlib.pyplot as plt\n",
    "import matplotlib.ticker as ticker\n",
    "import pandas as pd\n",
    "import seaborn as sns\n",
    "\n",
    "data = pd.DataFrame({\n",
    "    \"total\": total_n_links,\n",
    "    \"exploitation\": exploitation_n_links,\n",
    "})\n",
    "\n",
    "ax = sns.lineplot(data=data)\n",
    "\n",
    "ax.set(xlabel=\"Cycles\", ylabel=\"Number of distinct links\")\n",
    "ax.set(ylim=(0, 80_000))\n",
    "\n",
    "ax.xaxis.set_major_locator(ticker.MultipleLocator(1))\n",
    "ax.xaxis.set_major_formatter(ticker.ScalarFormatter())\n",
    "ax.grid()\n",
    "\n",
    "plt.tight_layout()\n",
    "plt.savefig(\"./resources/figures/exploitation_vs_total_links.pdf\")\n",
    "plt.show()"
   ],
   "outputs": [
    {
     "output_type": "display_data",
     "data": {
      "text/plain": [
       "<Figure size 432x288 with 1 Axes>"
      ],
      "image/png": "[encoded data removed]"
     },
     "metadata": {
      "needs_background": "light"
     }
    }
   ],
   "metadata": {}
  },
  {
   "cell_type": "markdown",
   "source": [
    "## Nodes"
   ],
   "metadata": {}
  },
  {
   "cell_type": "code",
   "execution_count": 34,
   "source": [
    "from dataclasses import dataclass\n",
    "from typing import Iterable, Iterator, Sequence\n",
    "\n",
    "from diamond_miner.queries.query import UNIVERSE_SUBSET, CH_QUERY_SETTINGS, LinksQuery, links_table\n",
    "from diamond_miner.typing import IPNetwork\n",
    "\n",
    "@dataclass(frozen=True)\n",
    "class GetNodesPrefixes(LinksQuery):\n",
    "    def prefix_v4_to_v6(self, prefix):\n",
    "        return \"::ffff:\" + str(prefix.network_address) \n",
    "\n",
    "    def group_elements(self, l, n):\n",
    "        return [l[i:i + n] for i in range(0, len(l), n)]\n",
    "\n",
    "    def execute_iter(\n",
    "        self,\n",
    "        url: str,\n",
    "        measurement_id: str,\n",
    "        prefixes: Iterable[IPNetwork],\n",
    "        n_chunks: int\n",
    "    ) -> Iterator:\n",
    "        client = Client.from_url(url)\n",
    "        prefixes_chunks = self.group_elements(list(prefixes), n_chunks)\n",
    "        for prefixes in prefixes_chunks:\n",
    "            for i, statement in enumerate(self.statements(measurement_id, prefixes)):\n",
    "                rows = client.execute_iter(statement, settings=CH_QUERY_SETTINGS)\n",
    "                for row in rows:\n",
    "                    yield row\n",
    "\n",
    "    def statements(\n",
    "        self, measurement_id: str, prefixes: Iterable[IPNetwork]\n",
    "    ) -> Sequence[str]:\n",
    "        # Override this method if you want your query to return multiple statements.\n",
    "        return (self.statement(measurement_id, prefixes),)\n",
    "\n",
    "    def statement(\n",
    "            self, measurement_id: str, prefixes: Iterable[IPNetwork]\n",
    "        ) -> str:\n",
    "            q = f\"\"\"\n",
    "            SELECT\n",
    "                arrayJoin(\n",
    "                    arrayDistinct(\n",
    "                        arrayConcat(\n",
    "                            groupUniqArray({self.addr_cast('near_addr')}),\n",
    "                            groupUniqArray({self.addr_cast('far_addr')})\n",
    "                        )\n",
    "                    )\n",
    "                )\n",
    "            FROM {links_table(measurement_id)}\n",
    "            WHERE {self.filters(UNIVERSE_SUBSET)}\n",
    "            AND probe_dst_prefix IN [\n",
    "            \"\"\"\n",
    "            q += \",\".join([f\"toIPv6('{self.prefix_v4_to_v6(prefix)}')\" for prefix in prefixes])\n",
    "            q += \"]\"\n",
    "            return q"
   ],
   "outputs": [],
   "metadata": {}
  },
  {
   "cell_type": "code",
   "execution_count": 35,
   "source": [
    "from clickhouse_driver import Client\n",
    "from diamond_miner.queries import AddrType, GetLinks\n",
    "\n",
    "database_name = \"iris\"\n",
    "database_url = f\"clickhouse://localhost/{database_name}\"\n",
    "\n",
    "def get_nodes_exploitation(measurement_id, prefixes, n_chunks):\n",
    "    agent = measurement_id.split(\"__\")[1].replace(\"_\", \"-\")\n",
    "\n",
    "    distinct_nodes = set()\n",
    "    for link in GetNodesPrefixes(\n",
    "        addr_type=AddrType.FixedString\n",
    "    ).execute_iter(database_url, measurement_id, prefixes, n_chunks):\n",
    "        distinct_nodes.add(link) \n",
    "    return distinct_nodes"
   ],
   "outputs": [],
   "metadata": {}
  },
  {
   "cell_type": "code",
   "execution_count": 36,
   "source": [
    "from clickhouse_driver import Client\n",
    "from diamond_miner.queries import AddrType, GetNodes\n",
    "\n",
    "database_name = \"iris\"\n",
    "database_url = f\"clickhouse://localhost/{database_name}\"\n",
    "\n",
    "def get_nodes_total(measurement_uuid):\n",
    "    tables = Client.from_url(database_url).execute_iter(\n",
    "        f\"SHOW TABLES FROM {database_name} LIKE \"\n",
    "        f\"'results__{measurement_uuid.replace('-', '_')}%'\"\n",
    "    )\n",
    "    tables = [table[0] for table in tables]\n",
    "    measurement_ids = [\"__\".join(table.split(\"__\")[1:]) for table in tables]\n",
    "\n",
    "    distinct_nodes = set()\n",
    "    for measurement_id in measurement_ids:\n",
    "        for node in GetNodes(\n",
    "            addr_type=AddrType.FixedString\n",
    "        ).execute_iter(database_url, measurement_id):\n",
    "            distinct_nodes.add(node) \n",
    "    return distinct_nodes"
   ],
   "outputs": [],
   "metadata": {}
  },
  {
   "cell_type": "code",
   "execution_count": 37,
   "source": [
    "import pickle\n",
    "from pathlib import Path\n",
    "\n",
    "with Path(f\"./resources/data/measurements/{experiment}/{sub_experiment}.txt\").open(\"r\") as fd:\n",
    "    adaptive_uuids = fd.readlines()"
   ],
   "outputs": [],
   "metadata": {}
  },
  {
   "cell_type": "code",
   "execution_count": 38,
   "source": [
    "total_n_nodes = []\n",
    "for uuid in adaptive_uuids:\n",
    "    total_n_nodes.append(len(get_nodes_total(uuid.strip())))\n",
    "\n",
    "print(total_n_nodes)"
   ],
   "outputs": [
    {
     "output_type": "stream",
     "name": "stdout",
     "text": [
      "[21432, 28412, 32598, 35417, 37476, 39260, 40053, 40959, 41999, 42357, 42825, 43523, 43766, 43891, 43872, 44295, 44344, 44636, 44646, 45019]\n"
     ]
    }
   ],
   "metadata": {}
  },
  {
   "cell_type": "code",
   "execution_count": 39,
   "source": [
    "exploitation_n_nodes = [None]\n",
    "for uuid in adaptive_uuids[1:]:\n",
    "    uuid = uuid.strip()\n",
    "    # Get exploitation prefixes \n",
    "    with Path(f\"./resources/data/measurements/{experiment}/exploitation_{uuid}.pickle\").open(\"rb\") as fd:\n",
    "        exploitation_prefixes = pickle.load(fd)\n",
    "    \n",
    "    cycle_n_nodes = set()\n",
    "    for agent_uuid in exploitation_prefixes.keys():\n",
    "        cycle_n_nodes.update(get_nodes_exploitation(f\"{uuid}__{agent_uuid}\", exploitation_prefixes[agent_uuid], 5000))\n",
    "    exploitation_n_nodes.append(len(cycle_n_nodes))\n",
    "\n",
    "print(exploitation_n_nodes)"
   ],
   "outputs": [
    {
     "output_type": "stream",
     "name": "stdout",
     "text": [
      "[None, 21176, 28067, 32407, 35241, 37212, 38887, 39751, 40813, 41606, 42187, 42811, 43272, 43409, 43579, 43821, 43930, 44264, 44371, 44575]\n"
     ]
    }
   ],
   "metadata": {}
  },
  {
   "cell_type": "code",
   "execution_count": 40,
   "source": [
    "import matplotlib.pyplot as plt\n",
    "import matplotlib.ticker as ticker\n",
    "import pandas as pd\n",
    "import seaborn as sns\n",
    "\n",
    "data = pd.DataFrame({\n",
    "    \"total\": total_n_nodes,\n",
    "    \"exploitation\": exploitation_n_nodes,\n",
    "})\n",
    "\n",
    "ax = sns.lineplot(data=data)\n",
    "\n",
    "ax.set(xlabel=\"Cycles\", ylabel=\"Number of distinct nodes\")\n",
    "ax.set(ylim=(0, 50_000))\n",
    "\n",
    "ax.xaxis.set_major_locator(ticker.MultipleLocator(1))\n",
    "ax.xaxis.set_major_formatter(ticker.ScalarFormatter())\n",
    "ax.grid()\n",
    "\n",
    "plt.tight_layout()\n",
    "plt.savefig(\"./resources/figures/exploitation_vs_total_nodes.pdf\")\n",
    "plt.show()"
   ],
   "outputs": [
    {
     "output_type": "display_data",
     "data": {
      "text/plain": [
       "<Figure size 432x288 with 1 Axes>"
      ],
      "image/png": "[encoded data removed]"
     },
     "metadata": {
      "needs_background": "light"
     }
    }
   ],
   "metadata": {}
  },
  {
   "cell_type": "markdown",
   "source": [
    "## Budget"
   ],
   "metadata": {}
  },
  {
   "cell_type": "code",
   "execution_count": 41,
   "source": [
    "total_n_prefixes = []\n",
    "for uuid in adaptive_uuids:\n",
    "    uuid = uuid.strip()"
   ],
   "outputs": [],
   "metadata": {}
  },
  {
   "cell_type": "code",
   "execution_count": 42,
   "source": [
    "exploitation_prefixes_ratio = [0]\n",
    "for uuid in adaptive_uuids[1:]:\n",
    "    uuid = uuid.strip()\n",
    "\n",
    "    # Get total prefixes \n",
    "    with Path(f\"./resources/data/measurements/{experiment}/prefixes_{uuid}.pickle\").open(\"rb\") as fd:\n",
    "        total_prefixes = pickle.load(fd)\n",
    "    total_n_prefixes = len(set.union(*[set(s) for s in total_prefixes.values()]))\n",
    "\n",
    "    # Get exploitation prefixes \n",
    "    with Path(f\"./resources/data/measurements/{experiment}/exploitation_{uuid}.pickle\").open(\"rb\") as fd:\n",
    "        exploitation_prefixes = pickle.load(fd)\n",
    "    exploitation_n_prefixes = len(set.union(*exploitation_prefixes.values()))\n",
    "\n",
    "    exploitation_prefixes_ratio.append(exploitation_n_prefixes / total_n_prefixes)\n",
    "\n",
    "print(exploitation_prefixes_ratio)"
   ],
   "outputs": [
    {
     "output_type": "stream",
     "name": "stdout",
     "text": [
      "[0, 0.2628442395884256, 0.3471938195864576, 0.41227166276346605, 0.44255524196324086, 0.46629976899035197, 0.5067043543262941, 0.5189724251708697, 0.5578171523405087, 0.5465433278188131, 0.5666964005882494, 0.5720357401593817, 0.5694689632138938, 0.5755714936793879, 0.6106835327287967, 0.5565378482318731, 0.6043432469030543, 0.6047210833643931, 0.5776511103194395, 0.585102295648833]\n"
     ]
    }
   ],
   "metadata": {}
  },
  {
   "cell_type": "code",
   "execution_count": 43,
   "source": [
    "import matplotlib.pyplot as plt\n",
    "import matplotlib.ticker as ticker\n",
    "import pandas as pd\n",
    "import seaborn as sns\n",
    "\n",
    "\n",
    "ax = sns.barplot(x=list(range(len(exploitation_prefixes_ratio))), y=exploitation_prefixes_ratio, palette=\"Blues_d\")\n",
    "\n",
    "ax.set(xlabel=\"Cycles\", ylabel=\"Exploitation budget ratio\")\n",
    "ax.set(ylim=(0, 1))\n",
    "\n",
    "ax.xaxis.set_major_locator(ticker.MultipleLocator(1))\n",
    "ax.xaxis.set_major_formatter(ticker.ScalarFormatter())\n",
    "ax.grid()\n",
    "\n",
    "plt.tight_layout()\n",
    "plt.savefig(\"./resources/figures/exploitation_fraction_budget.pdf\")\n",
    "plt.show()"
   ],
   "outputs": [
    {
     "output_type": "display_data",
     "data": {
      "text/plain": [
       "<Figure size 432x288 with 1 Axes>"
      ],
      "image/png": "[encoded data removed]"
     },
     "metadata": {
      "needs_background": "light"
     }
    }
   ],
   "metadata": {}
  },
  {
   "cell_type": "markdown",
   "source": [
    "# Impact of adding agent"
   ],
   "metadata": {}
  },
  {
   "cell_type": "markdown",
   "source": [
    "## Links"
   ],
   "metadata": {}
  },
  {
   "cell_type": "code",
   "execution_count": 44,
   "source": [
    "from clickhouse_driver import Client\n",
    "from diamond_miner.queries import AddrType, GetLinks\n",
    "from collections import defaultdict\n",
    "\n",
    "database_name = \"iris\"\n",
    "database_url = f\"clickhouse://localhost/{database_name}\"\n",
    "\n",
    "def get_links_total_per_agent(measurement_uuid):\n",
    "    tables = Client.from_url(database_url).execute_iter(\n",
    "        f\"SHOW TABLES FROM {database_name} LIKE \"\n",
    "        f\"'results__{measurement_uuid.replace('-', '_')}%'\"\n",
    "    )\n",
    "    tables = [table[0] for table in tables]\n",
    "    measurement_ids = [\"__\".join(table.split(\"__\")[1:]) for table in tables]\n",
    "    \n",
    "    distinct_links = defaultdict(set)\n",
    "    for measurement_id in measurement_ids:\n",
    "        for link in GetLinks(\n",
    "            addr_type=AddrType.FixedString\n",
    "        ).execute_iter(database_url, measurement_id):\n",
    "            distinct_links[measurement_id].add(link) \n",
    "    return distinct_links"
   ],
   "outputs": [],
   "metadata": {}
  },
  {
   "cell_type": "code",
   "execution_count": 45,
   "source": [
    "total_links = []\n",
    "for uuid in adaptive_uuids:\n",
    "    links_per_agent = get_links_total_per_agent(uuid.strip())\n",
    "    additive_links = []\n",
    "    for _, links in links_per_agent.items():\n",
    "        try:\n",
    "            links_already_counted = set(additive_links[:-1])\n",
    "        except IndexError:\n",
    "            links_already_counted = set()\n",
    "        additive_links.append(links_already_counted.union(links))\n",
    "    total_links.append([len(l) for l in additive_links])\n",
    "\n",
    "total_links_ordered = []\n",
    "for a in range(len(total_links[0])):\n",
    "    total_links_ordered.append([l[a] for l in total_links])\n",
    "\n",
    "\n",
    "print(total_links_ordered)\n"
   ],
   "outputs": [
    {
     "output_type": "stream",
     "name": "stdout",
     "text": [
      "[[18319, 25541, 30076, 33648, 36297, 37951, 38696, 39318, 40640, 40854, 41209, 42040, 42441, 42693, 43480, 43453, 44125, 44405, 43883, 44266], [17305, 22054, 24241, 26608, 28730, 30041, 31342, 32142, 34092, 33923, 34413, 34978, 35070, 35904, 35096, 34962, 35188, 35272, 34673, 35672]]\n"
     ]
    }
   ],
   "metadata": {}
  },
  {
   "cell_type": "code",
   "execution_count": 46,
   "source": [
    "import matplotlib.pyplot as plt\n",
    "import matplotlib.ticker as ticker\n",
    "import pandas as pd\n",
    "import seaborn as sns\n",
    "\n",
    "\n",
    "\n",
    "ax = sns.lineplot(data=total_links_ordered)\n",
    "\n",
    "ax.set(xlabel=\"Cycles\", ylabel=\"Number of distinct links\")\n",
    "ax.set(ylim=(0, 50_000))\n",
    "\n",
    "ax.xaxis.set_major_locator(ticker.MultipleLocator(1))\n",
    "ax.xaxis.set_major_formatter(ticker.ScalarFormatter())\n",
    "ax.grid()\n",
    "\n",
    "plt.tight_layout()\n",
    "plt.savefig(\"./resources/figures/impact_adding_agents_links.pdf\")\n",
    "plt.show()"
   ],
   "outputs": [
    {
     "output_type": "display_data",
     "data": {
      "text/plain": [
       "<Figure size 432x288 with 1 Axes>"
      ],
      "image/png": "[encoded data removed]"
     },
     "metadata": {
      "needs_background": "light"
     }
    }
   ],
   "metadata": {}
  },
  {
   "cell_type": "markdown",
   "source": [
    "## Nodes"
   ],
   "metadata": {}
  },
  {
   "cell_type": "code",
   "execution_count": 47,
   "source": [
    "from clickhouse_driver import Client\n",
    "from diamond_miner.queries import AddrType, GetNodes\n",
    "from collections import defaultdict\n",
    "\n",
    "database_name = \"iris\"\n",
    "database_url = f\"clickhouse://localhost/{database_name}\"\n",
    "\n",
    "def get_nodes_total_per_agent(measurement_uuid):\n",
    "    tables = Client.from_url(database_url).execute_iter(\n",
    "        f\"SHOW TABLES FROM {database_name} LIKE \"\n",
    "        f\"'results__{measurement_uuid.replace('-', '_')}%'\"\n",
    "    )\n",
    "    tables = [table[0] for table in tables]\n",
    "    measurement_ids = [\"__\".join(table.split(\"__\")[1:]) for table in tables]\n",
    "\n",
    "    distinct_nodes = defaultdict(set)\n",
    "    for measurement_id in measurement_ids:\n",
    "        for node in GetNodes(\n",
    "            addr_type=AddrType.FixedString\n",
    "        ).execute_iter(database_url, measurement_id):\n",
    "            distinct_nodes[measurement_id].add(node) \n",
    "    return distinct_nodes"
   ],
   "outputs": [],
   "metadata": {}
  },
  {
   "cell_type": "code",
   "execution_count": 48,
   "source": [
    "total_nodes = []\n",
    "for uuid in adaptive_uuids:\n",
    "    nodes_per_agent = get_nodes_total_per_agent(uuid.strip())\n",
    "    additive_nodes = []\n",
    "    for _, links in nodes_per_agent.items():\n",
    "        try:\n",
    "            nodes_already_counted = set(additive_nodes[:-1])\n",
    "        except IndexError:\n",
    "            nodes_already_counted = set()\n",
    "        additive_nodes.append(nodes_already_counted.union(links))\n",
    "    total_nodes.append([len(l) for l in additive_nodes])\n",
    "\n",
    "total_nodes_ordered = []\n",
    "for a in range(len(total_nodes[0])):\n",
    "    total_nodes_ordered.append([l[a] for l in total_nodes])\n",
    "\n",
    "print(total_nodes_ordered)"
   ],
   "outputs": [
    {
     "output_type": "stream",
     "name": "stdout",
     "text": [
      "[[12936, 17696, 20809, 23003, 25163, 26298, 26871, 27165, 27932, 28180, 28371, 28909, 29215, 29478, 30412, 30060, 30292, 30936, 30694, 30940], [12261, 15171, 17014, 18547, 19733, 20461, 21774, 21779, 22785, 23022, 23475, 23847, 23871, 24727, 24427, 23777, 23955, 24066, 23665, 24142]]\n"
     ]
    }
   ],
   "metadata": {}
  },
  {
   "cell_type": "code",
   "execution_count": 49,
   "source": [
    "import matplotlib.pyplot as plt\n",
    "import matplotlib.ticker as ticker\n",
    "import pandas as pd\n",
    "import seaborn as sns\n",
    "\n",
    "\n",
    "\n",
    "ax = sns.lineplot(data=total_nodes_ordered)\n",
    "\n",
    "ax.set(xlabel=\"Cycles\", ylabel=\"Number of distinct nodes\")\n",
    "ax.set(ylim=(0, 40_000))\n",
    "\n",
    "ax.xaxis.set_major_locator(ticker.MultipleLocator(1))\n",
    "ax.xaxis.set_major_formatter(ticker.ScalarFormatter())\n",
    "ax.grid()\n",
    "\n",
    "plt.tight_layout()\n",
    "plt.savefig(\"./resources/figures/impact_adding_agent_nodes.pdf\")\n",
    "plt.show()"
   ],
   "outputs": [
    {
     "output_type": "display_data",
     "data": {
      "text/plain": [
       "<Figure size 432x288 with 1 Axes>"
      ],
      "image/png": "[encoded data removed]"
     },
     "metadata": {
      "needs_background": "light"
     }
    }
   ],
   "metadata": {}
  }
 ],
 "metadata": {
  "interpreter": {
   "hash": "772e1080b1fbf5200c669858b2c09332e229694cf709b93af0edeea0c9b8a739"
  },
  "kernelspec": {
   "display_name": "Python 3.8.10 64-bit ('zeph-0GddO7IA-py3.8': venv)",
   "name": "python3"
  },
  "language_info": {
   "codemirror_mode": {
    "name": "ipython",
    "version": 3
   },
   "file_extension": ".py",
   "mimetype": "text/x-python",
   "name": "python",
   "nbconvert_exporter": "python",
   "pygments_lexer": "ipython3",
   "version": "3.8.10"
  },
  "orig_nbformat": 4
 },
 "nbformat": 4,
 "nbformat_minor": 2
}